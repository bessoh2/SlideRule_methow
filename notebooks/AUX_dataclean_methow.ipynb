{
 "cells": [
  {
   "cell_type": "markdown",
   "id": "c96d8085-df2f-4b30-8020-7891dd2862e1",
   "metadata": {},
   "source": [
    "# Process, Clean, and Save all Auxiliary Data Sets"
   ]
  },
  {
   "cell_type": "code",
   "execution_count": 13,
   "id": "5dd01472-8645-4549-91e6-92e71e841cac",
   "metadata": {},
   "outputs": [],
   "source": [
    "import os\n",
    "import numpy as np\n",
    "import pandas as pd\n",
    "import geopandas as gpd\n",
    "import matplotlib.pyplot as plt\n",
    "import datetime\n",
    "import pickle\n",
    "from astropy.time import Time\n",
    "from rasterio.plot import show\n",
    "import rasterio as rio\n",
    "from rasterio import features\n",
    "import rioxarray as rxr\n",
    "from shapely.geometry import Point"
   ]
  },
  {
   "cell_type": "code",
   "execution_count": 2,
   "id": "79182c2c-ca12-4aa3-aeda-595234c962f4",
   "metadata": {},
   "outputs": [],
   "source": [
    "pd.set_option('display.max_columns', None)"
   ]
  },
  {
   "cell_type": "code",
   "execution_count": 3,
   "id": "25e238b7-6458-409f-9b99-a330497f03c4",
   "metadata": {},
   "outputs": [],
   "source": [
    "#Add DOY and DOWY column\n",
    "def add_dowy(df, col=None):\n",
    "    print(\"Adding Day of Water Year (DOWY)\")\n",
    "    if col is None:\n",
    "        df['doy'] = df.index.dayofyear\n",
    "        df['decyear'] = Time(df.index).decimalyear\n",
    "    else:\n",
    "        df['doy'] = pd.to_datetime(df[col]).dt.dayofyear\n",
    "        df['decyear'] = Time(pd.to_datetime(df[col])).decimalyear\n",
    "    \n",
    "    #df['dowy'] = (df['doy'].index - pd.DateOffset(months=9)).dayofyear\n",
    "    # Sept 30 is doy 273\n",
    "    df['dowy'] = df['doy'] - 273\n",
    "    df.loc[df['dowy'] <= 0, 'dowy'] += 365"
   ]
  },
  {
   "cell_type": "markdown",
   "id": "2be49e41-2016-48ce-b1e8-6a7620a1e39a",
   "metadata": {},
   "source": [
    "## Clean the Outline file"
   ]
  },
  {
   "cell_type": "code",
   "execution_count": 233,
   "id": "2681498c-a27e-4de5-b0e4-fcb352e83574",
   "metadata": {},
   "outputs": [],
   "source": [
    "outline_gdf = gpd.read_file('../../data/site_outlines/methow_outline.geojson')\n",
    "outline_gdf = outline_gdf[3:4]\n",
    "\n",
    "# save a version in 4236\n",
    "outline_fn = '../../data/site_outlines/methow_outline_4326.pkl'\n",
    "with open(outline_fn, 'wb') as f:\n",
    "    pickle.dump(outline_gdf, f)\n",
    "outline_gdf.to_file('../../data/site_outlines/methow_outline_4326.geojson', driver='GeoJSON')\n",
    "\n",
    "# conver to 32610\n",
    "outline_gdf = outline_gdf.to_crs('EPSG:32610')\n",
    "\n",
    "# save a version in 3260\n",
    "outline_fn = '../../data/site_outlines/methow_outline_32610.pkl'\n",
    "with open(outline_fn, 'wb') as f:\n",
    "    pickle.dump(outline_gdf, f)"
   ]
  },
  {
   "cell_type": "markdown",
   "id": "a0cbf650-aaa1-4d3e-ab30-a5ab6ccf5e64",
   "metadata": {},
   "source": [
    "## Find the approximate center of the Methow lidar data and make a radius around it, for identifying nearby snotel"
   ]
  },
  {
   "cell_type": "code",
   "execution_count": 111,
   "id": "262ab98a-c4f3-45ef-ab54-73341c9b5fee",
   "metadata": {},
   "outputs": [],
   "source": [
    "# Load in the saved outline file\n",
    "dnr_gdf = pickle.load(open('../../data/site_outlines/methow_outline_32610.pkl',  'rb'))"
   ]
  },
  {
   "cell_type": "code",
   "execution_count": 112,
   "id": "a3952f91-99d3-4cb7-8b28-8daf9cb59102",
   "metadata": {},
   "outputs": [
    {
     "name": "stdout",
     "output_type": "stream",
     "text": [
      "POINT (704824.5821600494 5378450.688569823)\n"
     ]
    }
   ],
   "source": [
    "# Find the center\n",
    "dnr_snowoff_extent = dnr_gdf.total_bounds\n",
    "x1, y1 = dnr_snowoff_extent[0], dnr_snowoff_extent[1]\n",
    "x2, y2 = dnr_snowoff_extent[2], dnr_snowoff_extent[3]\n",
    "\n",
    "x_center = (x1 + x2) / 2\n",
    "y_center = (y1 + y2) / 2\n",
    "\n",
    "center = Point((x_center,y_center))\n",
    "print(center)"
   ]
  },
  {
   "cell_type": "code",
   "execution_count": 113,
   "id": "bf496235-3140-4d27-8435-a3cbf2a8c8f6",
   "metadata": {},
   "outputs": [],
   "source": [
    "# Choose in m the radius\n",
    "radius = 65000   # 35000"
   ]
  },
  {
   "cell_type": "code",
   "execution_count": 114,
   "id": "e149ac2b-d4c1-49df-90f2-c4ecff5a86f8",
   "metadata": {},
   "outputs": [
    {
     "data": {
      "text/html": [
       "<div>\n",
       "<style scoped>\n",
       "    .dataframe tbody tr th:only-of-type {\n",
       "        vertical-align: middle;\n",
       "    }\n",
       "\n",
       "    .dataframe tbody tr th {\n",
       "        vertical-align: top;\n",
       "    }\n",
       "\n",
       "    .dataframe thead th {\n",
       "        text-align: right;\n",
       "    }\n",
       "</style>\n",
       "<table border=\"1\" class=\"dataframe\">\n",
       "  <thead>\n",
       "    <tr style=\"text-align: right;\">\n",
       "      <th></th>\n",
       "      <th>Location</th>\n",
       "      <th>geometry</th>\n",
       "    </tr>\n",
       "  </thead>\n",
       "  <tbody>\n",
       "    <tr>\n",
       "      <th>0</th>\n",
       "      <td>center</td>\n",
       "      <td>POLYGON ((769824.582 5378450.689, 769511.589 5...</td>\n",
       "    </tr>\n",
       "  </tbody>\n",
       "</table>\n",
       "</div>"
      ],
      "text/plain": [
       "  Location                                           geometry\n",
       "0   center  POLYGON ((769824.582 5378450.689, 769511.589 5..."
      ]
     },
     "execution_count": 114,
     "metadata": {},
     "output_type": "execute_result"
    }
   ],
   "source": [
    "df_center= pd.DataFrame({'Location':['center']})\n",
    "gdf_center = gpd.GeoDataFrame(df_center, geometry=[center], crs=dnr_gdf.crs)\n",
    "gdf_center['geometry'] = gdf_center.geometry.buffer(radius)\n",
    "gdf_center"
   ]
  },
  {
   "cell_type": "code",
   "execution_count": 115,
   "id": "67025b20-dc8d-466d-ab67-0b8b6dd7a387",
   "metadata": {},
   "outputs": [
    {
     "data": {
      "text/plain": [
       "<AxesSubplot: >"
      ]
     },
     "execution_count": 115,
     "metadata": {},
     "output_type": "execute_result"
    },
    {
     "data": {
      "image/png": "[encoded data removed]",
      "text/plain": [
       "<Figure size 640x480 with 1 Axes>"
      ]
     },
     "metadata": {},
     "output_type": "display_data"
    }
   ],
   "source": [
    "fig, ax = plt.subplots()\n",
    "\n",
    "dnr_gdf.plot(facecolor='none', ax=ax)\n",
    "gdf_center.plot(facecolor='none', ax=ax)\n"
   ]
  },
  {
   "cell_type": "markdown",
   "id": "5973bb71-a527-4008-b361-d2c68963226c",
   "metadata": {},
   "source": [
    "## Get SNOTEL for same date range and add to time series"
   ]
  },
  {
   "cell_type": "code",
   "execution_count": null,
   "id": "6f763ab9-d5f1-4c0b-a239-d38e6971bc1b",
   "metadata": {},
   "outputs": [],
   "source": [
    "#Install directly from github repo main branch\n",
    "#%pip install -q git+https://github.com/ulmo-dev/ulmo.git\n",
    "#!conda install -y ulmo"
   ]
  },
  {
   "cell_type": "code",
   "execution_count": 116,
   "id": "8b634cb6-4579-45fc-bd03-7563db11ddb3",
   "metadata": {},
   "outputs": [],
   "source": [
    "#Despite warning, shouldn't need to restart kernel if all goes well with pip install\n",
    "import ulmo"
   ]
  },
  {
   "cell_type": "code",
   "execution_count": 117,
   "id": "ae68672a-6ab9-4d1d-b1b5-c2df81bc3e09",
   "metadata": {},
   "outputs": [],
   "source": [
    "#This is the latest CUAHSI API endpoint\n",
    "#http://his.cuahsi.org/wofws.html\n",
    "wsdlurl = 'https://hydroportal.cuahsi.org/Snotel/cuahsi_1_1.asmx?WSDL'\n",
    "sites = ulmo.cuahsi.wof.get_sites(wsdlurl)"
   ]
  },
  {
   "cell_type": "code",
   "execution_count": 118,
   "id": "1929d5dd-7713-4ef5-a038-55529e48e7d3",
   "metadata": {},
   "outputs": [
    {
     "name": "stderr",
     "output_type": "stream",
     "text": [
      "/Users/Hannah/opt/miniconda3/envs/analysis_2022/lib/python3.8/site-packages/pandas/core/dtypes/cast.py:128: ShapelyDeprecationWarning: The array interface is deprecated and will no longer work in Shapely 2.0. Convert the '.coords' to a numpy array instead.\n",
      "  arr = construct_1d_object_array_from_listlike(values)\n"
     ]
    }
   ],
   "source": [
    "sites_df = pd.DataFrame.from_dict(sites, orient='index').dropna()\n",
    "sites_df['geometry'] = [Point(float(loc['longitude']), float(loc['latitude'])) for loc in sites_df['location']]\n",
    "\n",
    "sites_df = sites_df.drop(columns='location')\n",
    "sites_df = sites_df.astype({\"elevation_m\":float})\n",
    "\n",
    "sites_gdf = gpd.GeoDataFrame(sites_df, crs='EPSG:4326', geometry=sites_df['geometry'])"
   ]
  },
  {
   "cell_type": "code",
   "execution_count": 119,
   "id": "18171202-1b45-4276-ad58-62e279960846",
   "metadata": {},
   "outputs": [],
   "source": [
    "# Create a transform that will go from the native ICESat-2 and Snotel CS (4326) to the common projection we will use (32610, ie UTM Zone 10 N)\n",
    "\n",
    "target_crs = \"EPSG:32610\"\n",
    "from pyproj import Transformer,CRS\n",
    "to_target_crs = Transformer.from_crs(4326,target_crs)"
   ]
  },
  {
   "cell_type": "code",
   "execution_count": 120,
   "id": "67697516-7b4a-4a89-99dd-0c09fa5c5de0",
   "metadata": {},
   "outputs": [],
   "source": [
    "# Transform the snotel site locations to 32610\n",
    "\n",
    "points_snotel = []\n",
    "points = list(zip(sites_gdf.geometry.y, sites_gdf.geometry.x, sites_gdf.elevation_m))\n",
    "for pt in to_target_crs.itransform(points):\n",
    "    points_snotel.append(pt)\n",
    "x_snotel = [x_tuple[0] for x_tuple in points_snotel]\n",
    "y_snotel = [y_tuple[1] for y_tuple in points_snotel]\n",
    "z_snotel = [z_tuple[2] for z_tuple in points_snotel]\n",
    "sites_gdf_transformed = gpd.GeoDataFrame(sites_gdf, geometry=gpd.points_from_xy(x_snotel, y_snotel), crs='EPSG:32610')     # crs='EPSG:32610' - took this out because of deprecation warning\n",
    "sites_gdf_transformed['elevation_transformed'] = z_snotel"
   ]
  },
  {
   "cell_type": "code",
   "execution_count": 121,
   "id": "f1451693-fab9-4ebe-872c-a36f241b6696",
   "metadata": {},
   "outputs": [
    {
     "data": {
      "text/plain": [
       "<Derived Projected CRS: EPSG:32610>\n",
       "Name: WGS 84 / UTM zone 10N\n",
       "Axis Info [cartesian]:\n",
       "- E[east]: Easting (metre)\n",
       "- N[north]: Northing (metre)\n",
       "Area of Use:\n",
       "- name: Between 126°W and 120°W, northern hemisphere between equator and 84°N, onshore and offshore. Canada - British Columbia (BC); Northwest Territories (NWT); Nunavut; Yukon. United States (USA) - Alaska (AK).\n",
       "- bounds: (-126.0, 0.0, -120.0, 84.0)\n",
       "Coordinate Operation:\n",
       "- name: UTM zone 10N\n",
       "- method: Transverse Mercator\n",
       "Datum: World Geodetic System 1984 ensemble\n",
       "- Ellipsoid: WGS 84\n",
       "- Prime Meridian: Greenwich"
      ]
     },
     "execution_count": 121,
     "metadata": {},
     "output_type": "execute_result"
    }
   ],
   "source": [
    "sites_gdf_transformed.crs"
   ]
  },
  {
   "cell_type": "code",
   "execution_count": 122,
   "id": "f1997ddf-6b5a-43e0-b296-f969bb3b19c3",
   "metadata": {},
   "outputs": [],
   "source": [
    "snotel_65km = gpd.clip(sites_gdf_transformed, gdf_center)"
   ]
  },
  {
   "cell_type": "code",
   "execution_count": 23,
   "id": "99178006-5f3b-4184-911b-d51ebf92f27f",
   "metadata": {},
   "outputs": [],
   "source": [
    "snotel_35km = gpd.clip(sites_gdf_transformed, gdf_center)"
   ]
  },
  {
   "cell_type": "code",
   "execution_count": 24,
   "id": "02e39a3e-4f28-42af-9978-439a05270fa1",
   "metadata": {},
   "outputs": [
    {
     "name": "stdout",
     "output_type": "stream",
     "text": [
      "EPSG:32610\n"
     ]
    }
   ],
   "source": [
    "print(snotel_35km.crs)"
   ]
  },
  {
   "cell_type": "code",
   "execution_count": 220,
   "id": "ab332088-e752-47a1-a19d-99caedd8f828",
   "metadata": {},
   "outputs": [
    {
     "data": {
      "text/plain": [
       "<matplotlib.legend.Legend at 0x7fc091667250>"
      ]
     },
     "execution_count": 220,
     "metadata": {},
     "output_type": "execute_result"
    },
    {
     "data": {
      "image/png": "[encoded data removed]",
      "text/plain": [
       "<Figure size 640x480 with 2 Axes>"
      ]
     },
     "metadata": {},
     "output_type": "display_data"
    }
   ],
   "source": [
    "fig, ax = plt.subplots()\n",
    "\n",
    "dnr_gdf.plot(facecolor='none', ax=ax)\n",
    "gdf_center.plot(facecolor='none', ax=ax)\n",
    "snotel_65km.plot(ax=ax, column='elevation_m', legend=True)\n",
    "plt.legend(snotel_65km['name'])\n",
    "#snotel_35km.plot(ax=ax)"
   ]
  },
  {
   "cell_type": "code",
   "execution_count": 210,
   "id": "52066f6b-7aa9-4f60-b61e-2e1afec1e0f1",
   "metadata": {},
   "outputs": [
    {
     "data": {
      "text/html": [
       "<div>\n",
       "<style scoped>\n",
       "    .dataframe tbody tr th:only-of-type {\n",
       "        vertical-align: middle;\n",
       "    }\n",
       "\n",
       "    .dataframe tbody tr th {\n",
       "        vertical-align: top;\n",
       "    }\n",
       "\n",
       "    .dataframe thead th {\n",
       "        text-align: right;\n",
       "    }\n",
       "</style>\n",
       "<table border=\"1\" class=\"dataframe\">\n",
       "  <thead>\n",
       "    <tr style=\"text-align: right;\">\n",
       "      <th></th>\n",
       "      <th>code</th>\n",
       "      <th>name</th>\n",
       "      <th>network</th>\n",
       "      <th>elevation_m</th>\n",
       "      <th>site_property</th>\n",
       "      <th>geometry</th>\n",
       "      <th>elevation_transformed</th>\n",
       "    </tr>\n",
       "  </thead>\n",
       "  <tbody>\n",
       "    <tr>\n",
       "      <th>SNOTEL:699_WA_SNTL</th>\n",
       "      <td>699_WA_SNTL</td>\n",
       "      <td>Pope Ridge</td>\n",
       "      <td>SNOTEL</td>\n",
       "      <td>1094.232056</td>\n",
       "      <td>{'county': 'Chelan', 'state': 'Washington', 's...</td>\n",
       "      <td>POINT (681575.109 5318154.881)</td>\n",
       "      <td>1094.232056</td>\n",
       "    </tr>\n",
       "    <tr>\n",
       "      <th>SNOTEL:606_WA_SNTL</th>\n",
       "      <td>606_WA_SNTL</td>\n",
       "      <td>Lyman Lake</td>\n",
       "      <td>SNOTEL</td>\n",
       "      <td>1822.703979</td>\n",
       "      <td>{'county': 'Chelan', 'state': 'Washington', 's...</td>\n",
       "      <td>POINT (654799.692 5340403.427)</td>\n",
       "      <td>1822.703979</td>\n",
       "    </tr>\n",
       "    <tr>\n",
       "      <th>SNOTEL:681_WA_SNTL</th>\n",
       "      <td>681_WA_SNTL</td>\n",
       "      <td>Park Creek Ridge</td>\n",
       "      <td>SNOTEL</td>\n",
       "      <td>1402.079956</td>\n",
       "      <td>{'county': 'Chelan', 'state': 'Washington', 's...</td>\n",
       "      <td>POINT (654147.806 5367847.622)</td>\n",
       "      <td>1402.079956</td>\n",
       "    </tr>\n",
       "    <tr>\n",
       "      <th>SNOTEL:711_WA_SNTL</th>\n",
       "      <td>711_WA_SNTL</td>\n",
       "      <td>Rainy Pass</td>\n",
       "      <td>SNOTEL</td>\n",
       "      <td>1490.472046</td>\n",
       "      <td>{'county': 'Chelan', 'state': 'Washington', 's...</td>\n",
       "      <td>POINT (667193.867 5376424.178)</td>\n",
       "      <td>1490.472046</td>\n",
       "    </tr>\n",
       "    <tr>\n",
       "      <th>SNOTEL:817_WA_SNTL</th>\n",
       "      <td>817_WA_SNTL</td>\n",
       "      <td>Thunder Basin</td>\n",
       "      <td>SNOTEL</td>\n",
       "      <td>1316.735962</td>\n",
       "      <td>{'county': 'Skagit', 'state': 'Washington', 's...</td>\n",
       "      <td>POINT (648435.062 5376887.468)</td>\n",
       "      <td>1316.735962</td>\n",
       "    </tr>\n",
       "    <tr>\n",
       "      <th>SNOTEL:975_WA_SNTL</th>\n",
       "      <td>975_WA_SNTL</td>\n",
       "      <td>Swamp Creek</td>\n",
       "      <td>SNOTEL</td>\n",
       "      <td>1197.864014</td>\n",
       "      <td>{'county': 'Skagit', 'state': 'Washington', 's...</td>\n",
       "      <td>POINT (663563.081 5382187.777)</td>\n",
       "      <td>1197.864014</td>\n",
       "    </tr>\n",
       "    <tr>\n",
       "      <th>SNOTEL:1259_WA_SNTL</th>\n",
       "      <td>1259_WA_SNTL</td>\n",
       "      <td>Muckamuck</td>\n",
       "      <td>SNOTEL</td>\n",
       "      <td>1362.456055</td>\n",
       "      <td>{'county': 'Okanogan', 'state': 'Washington', ...</td>\n",
       "      <td>POINT (731093.784 5386094.282)</td>\n",
       "      <td>1362.456055</td>\n",
       "    </tr>\n",
       "    <tr>\n",
       "      <th>SNOTEL:728_WA_SNTL</th>\n",
       "      <td>728_WA_SNTL</td>\n",
       "      <td>Salmon Meadows</td>\n",
       "      <td>SNOTEL</td>\n",
       "      <td>1359.407959</td>\n",
       "      <td>{'county': 'Okanogan', 'state': 'Washington', ...</td>\n",
       "      <td>POINT (732831.735 5393950.294)</td>\n",
       "      <td>1359.407959</td>\n",
       "    </tr>\n",
       "    <tr>\n",
       "      <th>SNOTEL:515_WA_SNTL</th>\n",
       "      <td>515_WA_SNTL</td>\n",
       "      <td>Harts Pass</td>\n",
       "      <td>SNOTEL</td>\n",
       "      <td>1978.151978</td>\n",
       "      <td>{'county': 'Okanogan', 'state': 'Washington', ...</td>\n",
       "      <td>POINT (672206.062 5399027.491)</td>\n",
       "      <td>1978.151978</td>\n",
       "    </tr>\n",
       "  </tbody>\n",
       "</table>\n",
       "</div>"
      ],
      "text/plain": [
       "                             code              name network  elevation_m  \\\n",
       "SNOTEL:699_WA_SNTL    699_WA_SNTL        Pope Ridge  SNOTEL  1094.232056   \n",
       "SNOTEL:606_WA_SNTL    606_WA_SNTL        Lyman Lake  SNOTEL  1822.703979   \n",
       "SNOTEL:681_WA_SNTL    681_WA_SNTL  Park Creek Ridge  SNOTEL  1402.079956   \n",
       "SNOTEL:711_WA_SNTL    711_WA_SNTL        Rainy Pass  SNOTEL  1490.472046   \n",
       "SNOTEL:817_WA_SNTL    817_WA_SNTL     Thunder Basin  SNOTEL  1316.735962   \n",
       "SNOTEL:975_WA_SNTL    975_WA_SNTL       Swamp Creek  SNOTEL  1197.864014   \n",
       "SNOTEL:1259_WA_SNTL  1259_WA_SNTL         Muckamuck  SNOTEL  1362.456055   \n",
       "SNOTEL:728_WA_SNTL    728_WA_SNTL    Salmon Meadows  SNOTEL  1359.407959   \n",
       "SNOTEL:515_WA_SNTL    515_WA_SNTL        Harts Pass  SNOTEL  1978.151978   \n",
       "\n",
       "                                                         site_property  \\\n",
       "SNOTEL:699_WA_SNTL   {'county': 'Chelan', 'state': 'Washington', 's...   \n",
       "SNOTEL:606_WA_SNTL   {'county': 'Chelan', 'state': 'Washington', 's...   \n",
       "SNOTEL:681_WA_SNTL   {'county': 'Chelan', 'state': 'Washington', 's...   \n",
       "SNOTEL:711_WA_SNTL   {'county': 'Chelan', 'state': 'Washington', 's...   \n",
       "SNOTEL:817_WA_SNTL   {'county': 'Skagit', 'state': 'Washington', 's...   \n",
       "SNOTEL:975_WA_SNTL   {'county': 'Skagit', 'state': 'Washington', 's...   \n",
       "SNOTEL:1259_WA_SNTL  {'county': 'Okanogan', 'state': 'Washington', ...   \n",
       "SNOTEL:728_WA_SNTL   {'county': 'Okanogan', 'state': 'Washington', ...   \n",
       "SNOTEL:515_WA_SNTL   {'county': 'Okanogan', 'state': 'Washington', ...   \n",
       "\n",
       "                                           geometry  elevation_transformed  \n",
       "SNOTEL:699_WA_SNTL   POINT (681575.109 5318154.881)            1094.232056  \n",
       "SNOTEL:606_WA_SNTL   POINT (654799.692 5340403.427)            1822.703979  \n",
       "SNOTEL:681_WA_SNTL   POINT (654147.806 5367847.622)            1402.079956  \n",
       "SNOTEL:711_WA_SNTL   POINT (667193.867 5376424.178)            1490.472046  \n",
       "SNOTEL:817_WA_SNTL   POINT (648435.062 5376887.468)            1316.735962  \n",
       "SNOTEL:975_WA_SNTL   POINT (663563.081 5382187.777)            1197.864014  \n",
       "SNOTEL:1259_WA_SNTL  POINT (731093.784 5386094.282)            1362.456055  \n",
       "SNOTEL:728_WA_SNTL   POINT (732831.735 5393950.294)            1359.407959  \n",
       "SNOTEL:515_WA_SNTL   POINT (672206.062 5399027.491)            1978.151978  "
      ]
     },
     "execution_count": 210,
     "metadata": {},
     "output_type": "execute_result"
    }
   ],
   "source": [
    "snotel_65km"
   ]
  },
  {
   "cell_type": "code",
   "execution_count": 209,
   "id": "2f245bcb-635a-40d9-8dc9-0b36a0d958ba",
   "metadata": {},
   "outputs": [],
   "source": [
    "# Remove Mirror Lake site - it was decomissioned in 1988\n",
    "\n",
    "snotel_65km = snotel_65km.drop(['SNOTEL:262_WA_SNTL'])"
   ]
  },
  {
   "cell_type": "code",
   "execution_count": 211,
   "id": "9abfa14b-7f30-4ef4-920e-534e474b84ca",
   "metadata": {},
   "outputs": [],
   "source": [
    "def rename_snotel(df, reference):\n",
    "    for i in range(len(reference)):\n",
    "        df = df.rename(columns={reference.index[i]:reference.iloc[i]['name']})\n",
    "    return df"
   ]
  },
  {
   "cell_type": "code",
   "execution_count": 126,
   "id": "899f7b41-53ca-4ad8-8f55-4cf6ab476448",
   "metadata": {},
   "outputs": [],
   "source": [
    "from datetime import date\n",
    "\n",
    "dt_min = '2018-10-03' #First light ICESat-2\n",
    "dt_max = date.today()   #'2022-02-01'"
   ]
  },
  {
   "cell_type": "code",
   "execution_count": 127,
   "id": "77fdc087-8cb5-4324-91ae-80681fe303c6",
   "metadata": {},
   "outputs": [],
   "source": [
    "#Get current datetime\n",
    "from datetime import datetime\n",
    "today = datetime.today().strftime('%Y-%m-%d')\n",
    "\n",
    "def snotel_fetch(sitecode, variablecode='SNOTEL:SNWD_D', start_date=dt_min, end_date=dt_max):\n",
    "    #print(sitecode, variablecode, start_date, end_date)\n",
    "    values_df = None\n",
    "    try:\n",
    "        #Request data from the server\n",
    "        site_values = ulmo.cuahsi.wof.get_values(wsdlurl, sitecode, variablecode, start=start_date, end=end_date)\n",
    "        #Convert to a Pandas DataFrame   \n",
    "        values_df = pd.DataFrame.from_dict(site_values['values'])\n",
    "        #Parse the datetime values to Pandas Timestamp objects\n",
    "        values_df['datetime'] = pd.to_datetime(values_df['datetime'], utc=True) #pd.to_datetime(values_df['datetime'], utc=True) , freq='us'\n",
    "        #Set the DataFrame index to the Timestamps\n",
    "        values_df = values_df.set_index('datetime')\n",
    "        #Convert values to float and replace -9999 nodata values with NaN\n",
    "        values_df['value'] = pd.to_numeric(values_df['value']).replace(-9999, np.nan)\n",
    "        #Remove any records flagged with lower quality\n",
    "        values_df = values_df[values_df['quality_control_level_code'] == '1']\n",
    "    except:\n",
    "        print(\"Unable to fetch %s\" % variablecode)\n",
    "\n",
    "    return values_df"
   ]
  },
  {
   "cell_type": "code",
   "execution_count": 128,
   "id": "584507f5-49c7-4efd-87ba-257f99ecb41f",
   "metadata": {},
   "outputs": [],
   "source": [
    "#Daily SWE\n",
    "#variablecode = 'SNOTEL:WTEQ_D'\n",
    "#Daily snow depth\n",
    "variablecode = 'SNOTEL:SNWD_D'"
   ]
  },
  {
   "cell_type": "code",
   "execution_count": 203,
   "id": "1ed20d55-e3b3-40d5-824b-09d2da650c15",
   "metadata": {},
   "outputs": [
    {
     "name": "stdout",
     "output_type": "stream",
     "text": [
      "1 of 10 sites\n",
      "2 of 10 sites\n"
     ]
    },
    {
     "name": "stderr",
     "output_type": "stream",
     "text": [
      "<suds.sax.document.Document object at 0x7fc0a3b8a640>\n"
     ]
    },
    {
     "name": "stdout",
     "output_type": "stream",
     "text": [
      "Unable to fetch SNOTEL:SNWD_D\n",
      "3 of 10 sites\n",
      "4 of 10 sites\n",
      "5 of 10 sites\n",
      "6 of 10 sites\n",
      "7 of 10 sites\n",
      "8 of 10 sites\n",
      "9 of 10 sites\n",
      "10 of 10 sites\n",
      "Adding Day of Water Year (DOWY)\n",
      "Writing out: ../data/snotel/snotel_snwd_65.pkl\n"
     ]
    }
   ],
   "source": [
    "# SNOTEL sites with a 35km radius of the Methow\n",
    "pkl_fn = '../data/snotel/mirrorlake.pkl'\n",
    "gdf = snotel_65km\n",
    "\n",
    "if os.path.exists(pkl_fn):\n",
    "    snwd_df = pd.read_pickle(pkl_fn)\n",
    "else:\n",
    "    #Define an empty dictionary to store returns for each site\n",
    "    value_dict = {}\n",
    "    for i, sitecode in enumerate(gdf.index):\n",
    "        print('%i of %i sites' % (i+1, len(gdf.index)) )\n",
    "        #out = fetch(sitecode, variablecode, start_date, end_date)\n",
    "        out = snotel_fetch(sitecode, variablecode)\n",
    "        if out is not None:\n",
    "            value_dict[sitecode] = out['value']\n",
    "    #Convert the dictionary to a DataFrame, automatically handles different datetime ranges (nice!)\n",
    "    snwd_df = pd.DataFrame.from_dict(value_dict)\n",
    "    #convert to meters\n",
    "    snwd_df = snwd_df * 0.0254\n",
    "    add_dowy(snwd_df)\n",
    "    snwd_df = rename_snotel(snwd_df, gdf)\n",
    "    snwd_df['acqdate'] = snwd_df.index.date\n",
    "    snwd_df.index = pd.DatetimeIndex(data=snwd_df['acqdate'].unique())\n",
    "    #snwd_df = snwd_df.set_index('acqdate')\n",
    "    #snwd_df.index = snwd_df.index.date\n",
    "    #Write out\n",
    "    print(f\"Writing out: {pkl_fn}\")\n",
    "    snwd_df.to_pickle(pkl_fn)"
   ]
  },
  {
   "cell_type": "code",
   "execution_count": 212,
   "id": "6b7d1103-c7ef-4d2f-aaed-eec1e14a1b62",
   "metadata": {},
   "outputs": [],
   "source": [
    "snotel_65km.to_pickle('../data/snotel/snotel_sites_65.pkl')"
   ]
  },
  {
   "cell_type": "code",
   "execution_count": 204,
   "id": "2d91982c-2c1b-45e6-bb20-cab1b01e8818",
   "metadata": {},
   "outputs": [],
   "source": [
    "snotel_fn = '../data/snotel/snotel_snwd_65.pkl'\n",
    "snwd = pickle.load(open(snotel_fn, 'rb'))"
   ]
  },
  {
   "cell_type": "code",
   "execution_count": 131,
   "id": "e49a6db3-5e44-4f3b-8ed7-b275eaeea385",
   "metadata": {},
   "outputs": [
    {
     "data": {
      "text/plain": [
       "DatetimeIndex(['2018-10-03', '2018-10-04', '2018-10-05', '2018-10-06',\n",
       "               '2018-10-07', '2018-10-08', '2018-10-09', '2018-10-10',\n",
       "               '2018-10-11', '2018-10-12',\n",
       "               ...\n",
       "               '2022-10-13', '2022-10-14', '2022-10-15', '2022-10-16',\n",
       "               '2022-10-17', '2022-10-18', '2022-10-19', '2022-10-20',\n",
       "               '2022-10-21', '2022-10-22'],\n",
       "              dtype='datetime64[ns]', length=1481, freq=None)"
      ]
     },
     "execution_count": 131,
     "metadata": {},
     "output_type": "execute_result"
    }
   ],
   "source": [
    "snwd.index"
   ]
  },
  {
   "cell_type": "code",
   "execution_count": 205,
   "id": "e04079c5-394c-43ef-99f2-892d968a8709",
   "metadata": {},
   "outputs": [
    {
     "data": {
      "text/html": [
       "<div>\n",
       "<style scoped>\n",
       "    .dataframe tbody tr th:only-of-type {\n",
       "        vertical-align: middle;\n",
       "    }\n",
       "\n",
       "    .dataframe tbody tr th {\n",
       "        vertical-align: top;\n",
       "    }\n",
       "\n",
       "    .dataframe thead th {\n",
       "        text-align: right;\n",
       "    }\n",
       "</style>\n",
       "<table border=\"1\" class=\"dataframe\">\n",
       "  <thead>\n",
       "    <tr style=\"text-align: right;\">\n",
       "      <th></th>\n",
       "      <th>Pope Ridge</th>\n",
       "      <th>Lyman Lake</th>\n",
       "      <th>Park Creek Ridge</th>\n",
       "      <th>Rainy Pass</th>\n",
       "      <th>Thunder Basin</th>\n",
       "      <th>Swamp Creek</th>\n",
       "      <th>Muckamuck</th>\n",
       "      <th>Salmon Meadows</th>\n",
       "      <th>Harts Pass</th>\n",
       "      <th>doy</th>\n",
       "      <th>decyear</th>\n",
       "      <th>dowy</th>\n",
       "      <th>acqdate</th>\n",
       "    </tr>\n",
       "  </thead>\n",
       "  <tbody>\n",
       "    <tr>\n",
       "      <th>2018-10-03</th>\n",
       "      <td>0.0000</td>\n",
       "      <td>0.0</td>\n",
       "      <td>0.0</td>\n",
       "      <td>0.0</td>\n",
       "      <td>0.0</td>\n",
       "      <td>0.0</td>\n",
       "      <td>0.0</td>\n",
       "      <td>0.0</td>\n",
       "      <td>0.0</td>\n",
       "      <td>276</td>\n",
       "      <td>2018.753425</td>\n",
       "      <td>3</td>\n",
       "      <td>2018-10-03</td>\n",
       "    </tr>\n",
       "    <tr>\n",
       "      <th>2018-10-04</th>\n",
       "      <td>0.0000</td>\n",
       "      <td>0.0</td>\n",
       "      <td>0.0</td>\n",
       "      <td>0.0</td>\n",
       "      <td>0.0</td>\n",
       "      <td>0.0</td>\n",
       "      <td>0.0</td>\n",
       "      <td>0.0</td>\n",
       "      <td>0.0</td>\n",
       "      <td>277</td>\n",
       "      <td>2018.756164</td>\n",
       "      <td>4</td>\n",
       "      <td>2018-10-04</td>\n",
       "    </tr>\n",
       "    <tr>\n",
       "      <th>2018-10-05</th>\n",
       "      <td>0.0000</td>\n",
       "      <td>0.0</td>\n",
       "      <td>0.0</td>\n",
       "      <td>0.0</td>\n",
       "      <td>0.0</td>\n",
       "      <td>0.0</td>\n",
       "      <td>0.0</td>\n",
       "      <td>0.0</td>\n",
       "      <td>0.0</td>\n",
       "      <td>278</td>\n",
       "      <td>2018.758904</td>\n",
       "      <td>5</td>\n",
       "      <td>2018-10-05</td>\n",
       "    </tr>\n",
       "    <tr>\n",
       "      <th>2018-10-06</th>\n",
       "      <td>0.0000</td>\n",
       "      <td>0.0</td>\n",
       "      <td>0.0</td>\n",
       "      <td>0.0</td>\n",
       "      <td>0.0</td>\n",
       "      <td>0.0</td>\n",
       "      <td>0.0</td>\n",
       "      <td>0.0</td>\n",
       "      <td>0.0</td>\n",
       "      <td>279</td>\n",
       "      <td>2018.761644</td>\n",
       "      <td>6</td>\n",
       "      <td>2018-10-06</td>\n",
       "    </tr>\n",
       "    <tr>\n",
       "      <th>2018-10-07</th>\n",
       "      <td>0.0000</td>\n",
       "      <td>0.0</td>\n",
       "      <td>0.0</td>\n",
       "      <td>0.0</td>\n",
       "      <td>0.0</td>\n",
       "      <td>0.0</td>\n",
       "      <td>0.0</td>\n",
       "      <td>0.0</td>\n",
       "      <td>0.0</td>\n",
       "      <td>280</td>\n",
       "      <td>2018.764384</td>\n",
       "      <td>7</td>\n",
       "      <td>2018-10-07</td>\n",
       "    </tr>\n",
       "    <tr>\n",
       "      <th>...</th>\n",
       "      <td>...</td>\n",
       "      <td>...</td>\n",
       "      <td>...</td>\n",
       "      <td>...</td>\n",
       "      <td>...</td>\n",
       "      <td>...</td>\n",
       "      <td>...</td>\n",
       "      <td>...</td>\n",
       "      <td>...</td>\n",
       "      <td>...</td>\n",
       "      <td>...</td>\n",
       "      <td>...</td>\n",
       "      <td>...</td>\n",
       "    </tr>\n",
       "    <tr>\n",
       "      <th>2022-10-18</th>\n",
       "      <td>0.0000</td>\n",
       "      <td>0.0</td>\n",
       "      <td>0.0</td>\n",
       "      <td>0.0</td>\n",
       "      <td>0.0</td>\n",
       "      <td>0.0</td>\n",
       "      <td>0.0</td>\n",
       "      <td>0.0</td>\n",
       "      <td>0.0</td>\n",
       "      <td>291</td>\n",
       "      <td>2022.794521</td>\n",
       "      <td>18</td>\n",
       "      <td>2022-10-18</td>\n",
       "    </tr>\n",
       "    <tr>\n",
       "      <th>2022-10-19</th>\n",
       "      <td>0.0000</td>\n",
       "      <td>0.0</td>\n",
       "      <td>0.0</td>\n",
       "      <td>0.0</td>\n",
       "      <td>0.0</td>\n",
       "      <td>0.0</td>\n",
       "      <td>0.0</td>\n",
       "      <td>0.0</td>\n",
       "      <td>0.0</td>\n",
       "      <td>292</td>\n",
       "      <td>2022.797260</td>\n",
       "      <td>19</td>\n",
       "      <td>2022-10-19</td>\n",
       "    </tr>\n",
       "    <tr>\n",
       "      <th>2022-10-20</th>\n",
       "      <td>0.0000</td>\n",
       "      <td>0.0</td>\n",
       "      <td>0.0</td>\n",
       "      <td>0.0</td>\n",
       "      <td>0.0</td>\n",
       "      <td>0.0</td>\n",
       "      <td>0.0</td>\n",
       "      <td>0.0</td>\n",
       "      <td>0.0</td>\n",
       "      <td>293</td>\n",
       "      <td>2022.800000</td>\n",
       "      <td>20</td>\n",
       "      <td>2022-10-20</td>\n",
       "    </tr>\n",
       "    <tr>\n",
       "      <th>2022-10-21</th>\n",
       "      <td>0.0000</td>\n",
       "      <td>0.0</td>\n",
       "      <td>0.0</td>\n",
       "      <td>0.0</td>\n",
       "      <td>0.0</td>\n",
       "      <td>0.0</td>\n",
       "      <td>0.0</td>\n",
       "      <td>0.0</td>\n",
       "      <td>0.0</td>\n",
       "      <td>294</td>\n",
       "      <td>2022.802740</td>\n",
       "      <td>21</td>\n",
       "      <td>2022-10-21</td>\n",
       "    </tr>\n",
       "    <tr>\n",
       "      <th>2022-10-22</th>\n",
       "      <td>0.0254</td>\n",
       "      <td>NaN</td>\n",
       "      <td>0.0</td>\n",
       "      <td>0.0</td>\n",
       "      <td>0.0</td>\n",
       "      <td>0.0</td>\n",
       "      <td>NaN</td>\n",
       "      <td>0.0</td>\n",
       "      <td>NaN</td>\n",
       "      <td>295</td>\n",
       "      <td>2022.805479</td>\n",
       "      <td>22</td>\n",
       "      <td>2022-10-22</td>\n",
       "    </tr>\n",
       "  </tbody>\n",
       "</table>\n",
       "<p>1481 rows × 13 columns</p>\n",
       "</div>"
      ],
      "text/plain": [
       "            Pope Ridge  Lyman Lake  Park Creek Ridge  Rainy Pass  \\\n",
       "2018-10-03      0.0000         0.0               0.0         0.0   \n",
       "2018-10-04      0.0000         0.0               0.0         0.0   \n",
       "2018-10-05      0.0000         0.0               0.0         0.0   \n",
       "2018-10-06      0.0000         0.0               0.0         0.0   \n",
       "2018-10-07      0.0000         0.0               0.0         0.0   \n",
       "...                ...         ...               ...         ...   \n",
       "2022-10-18      0.0000         0.0               0.0         0.0   \n",
       "2022-10-19      0.0000         0.0               0.0         0.0   \n",
       "2022-10-20      0.0000         0.0               0.0         0.0   \n",
       "2022-10-21      0.0000         0.0               0.0         0.0   \n",
       "2022-10-22      0.0254         NaN               0.0         0.0   \n",
       "\n",
       "            Thunder Basin  Swamp Creek  Muckamuck  Salmon Meadows  Harts Pass  \\\n",
       "2018-10-03            0.0          0.0        0.0             0.0         0.0   \n",
       "2018-10-04            0.0          0.0        0.0             0.0         0.0   \n",
       "2018-10-05            0.0          0.0        0.0             0.0         0.0   \n",
       "2018-10-06            0.0          0.0        0.0             0.0         0.0   \n",
       "2018-10-07            0.0          0.0        0.0             0.0         0.0   \n",
       "...                   ...          ...        ...             ...         ...   \n",
       "2022-10-18            0.0          0.0        0.0             0.0         0.0   \n",
       "2022-10-19            0.0          0.0        0.0             0.0         0.0   \n",
       "2022-10-20            0.0          0.0        0.0             0.0         0.0   \n",
       "2022-10-21            0.0          0.0        0.0             0.0         0.0   \n",
       "2022-10-22            0.0          0.0        NaN             0.0         NaN   \n",
       "\n",
       "            doy      decyear  dowy     acqdate  \n",
       "2018-10-03  276  2018.753425     3  2018-10-03  \n",
       "2018-10-04  277  2018.756164     4  2018-10-04  \n",
       "2018-10-05  278  2018.758904     5  2018-10-05  \n",
       "2018-10-06  279  2018.761644     6  2018-10-06  \n",
       "2018-10-07  280  2018.764384     7  2018-10-07  \n",
       "...         ...          ...   ...         ...  \n",
       "2022-10-18  291  2022.794521    18  2022-10-18  \n",
       "2022-10-19  292  2022.797260    19  2022-10-19  \n",
       "2022-10-20  293  2022.800000    20  2022-10-20  \n",
       "2022-10-21  294  2022.802740    21  2022-10-21  \n",
       "2022-10-22  295  2022.805479    22  2022-10-22  \n",
       "\n",
       "[1481 rows x 13 columns]"
      ]
     },
     "execution_count": 205,
     "metadata": {},
     "output_type": "execute_result"
    }
   ],
   "source": [
    "snwd"
   ]
  },
  {
   "cell_type": "markdown",
   "id": "9e0b8f3e-490f-4d0d-83ab-bfa19dc9854f",
   "metadata": {},
   "source": [
    "## Make a 5km Buffer Around Sites"
   ]
  },
  {
   "cell_type": "code",
   "execution_count": 50,
   "id": "eee323b5-5b82-4e5d-ae76-9571200e5971",
   "metadata": {},
   "outputs": [
    {
     "data": {
      "text/html": [
       "<div>\n",
       "<style scoped>\n",
       "    .dataframe tbody tr th:only-of-type {\n",
       "        vertical-align: middle;\n",
       "    }\n",
       "\n",
       "    .dataframe tbody tr th {\n",
       "        vertical-align: top;\n",
       "    }\n",
       "\n",
       "    .dataframe thead th {\n",
       "        text-align: right;\n",
       "    }\n",
       "</style>\n",
       "<table border=\"1\" class=\"dataframe\">\n",
       "  <thead>\n",
       "    <tr style=\"text-align: right;\">\n",
       "      <th></th>\n",
       "      <th>SNOTEL:1259_WA_SNTL</th>\n",
       "      <th>SNOTEL:728_WA_SNTL</th>\n",
       "    </tr>\n",
       "    <tr>\n",
       "      <th>datetime</th>\n",
       "      <th></th>\n",
       "      <th></th>\n",
       "    </tr>\n",
       "  </thead>\n",
       "  <tbody>\n",
       "    <tr>\n",
       "      <th>2018-10-03 00:00:00+00:00</th>\n",
       "      <td>0.0</td>\n",
       "      <td>0.0</td>\n",
       "    </tr>\n",
       "    <tr>\n",
       "      <th>2018-10-04 00:00:00+00:00</th>\n",
       "      <td>0.0</td>\n",
       "      <td>0.0</td>\n",
       "    </tr>\n",
       "  </tbody>\n",
       "</table>\n",
       "</div>"
      ],
      "text/plain": [
       "                           SNOTEL:1259_WA_SNTL  SNOTEL:728_WA_SNTL\n",
       "datetime                                                          \n",
       "2018-10-03 00:00:00+00:00                  0.0                 0.0\n",
       "2018-10-04 00:00:00+00:00                  0.0                 0.0"
      ]
     },
     "execution_count": 50,
     "metadata": {},
     "output_type": "execute_result"
    }
   ],
   "source": [
    "snwd_df.head(2)"
   ]
  },
  {
   "cell_type": "code",
   "execution_count": 92,
   "id": "40aafae6-63b2-4636-91ce-43f72015dcd8",
   "metadata": {},
   "outputs": [
    {
     "data": {
      "text/html": [
       "<div>\n",
       "<style scoped>\n",
       "    .dataframe tbody tr th:only-of-type {\n",
       "        vertical-align: middle;\n",
       "    }\n",
       "\n",
       "    .dataframe tbody tr th {\n",
       "        vertical-align: top;\n",
       "    }\n",
       "\n",
       "    .dataframe thead th {\n",
       "        text-align: right;\n",
       "    }\n",
       "</style>\n",
       "<table border=\"1\" class=\"dataframe\">\n",
       "  <thead>\n",
       "    <tr style=\"text-align: right;\">\n",
       "      <th></th>\n",
       "      <th>code</th>\n",
       "      <th>name</th>\n",
       "      <th>network</th>\n",
       "      <th>elevation_m</th>\n",
       "      <th>site_property</th>\n",
       "      <th>geometry</th>\n",
       "      <th>elevation_transformed</th>\n",
       "    </tr>\n",
       "  </thead>\n",
       "  <tbody>\n",
       "    <tr>\n",
       "      <th>SNOTEL:1259_WA_SNTL</th>\n",
       "      <td>1259_WA_SNTL</td>\n",
       "      <td>Muckamuck</td>\n",
       "      <td>SNOTEL</td>\n",
       "      <td>1362.456055</td>\n",
       "      <td>{'county': 'Okanogan', 'state': 'Washington', ...</td>\n",
       "      <td>POINT (731093.784 5386094.282)</td>\n",
       "      <td>1362.456055</td>\n",
       "    </tr>\n",
       "    <tr>\n",
       "      <th>SNOTEL:728_WA_SNTL</th>\n",
       "      <td>728_WA_SNTL</td>\n",
       "      <td>Salmon Meadows</td>\n",
       "      <td>SNOTEL</td>\n",
       "      <td>1359.407959</td>\n",
       "      <td>{'county': 'Okanogan', 'state': 'Washington', ...</td>\n",
       "      <td>POINT (732831.735 5393950.294)</td>\n",
       "      <td>1359.407959</td>\n",
       "    </tr>\n",
       "  </tbody>\n",
       "</table>\n",
       "</div>"
      ],
      "text/plain": [
       "                             code            name network  elevation_m  \\\n",
       "SNOTEL:1259_WA_SNTL  1259_WA_SNTL       Muckamuck  SNOTEL  1362.456055   \n",
       "SNOTEL:728_WA_SNTL    728_WA_SNTL  Salmon Meadows  SNOTEL  1359.407959   \n",
       "\n",
       "                                                         site_property  \\\n",
       "SNOTEL:1259_WA_SNTL  {'county': 'Okanogan', 'state': 'Washington', ...   \n",
       "SNOTEL:728_WA_SNTL   {'county': 'Okanogan', 'state': 'Washington', ...   \n",
       "\n",
       "                                           geometry  elevation_transformed  \n",
       "SNOTEL:1259_WA_SNTL  POINT (731093.784 5386094.282)            1362.456055  \n",
       "SNOTEL:728_WA_SNTL   POINT (732831.735 5393950.294)            1359.407959  "
      ]
     },
     "execution_count": 92,
     "metadata": {},
     "output_type": "execute_result"
    }
   ],
   "source": [
    "snotel_35km.head(2)"
   ]
  },
  {
   "cell_type": "code",
   "execution_count": 62,
   "id": "b5f39daf-93bd-42fa-89b1-4cfc5c801d38",
   "metadata": {},
   "outputs": [
    {
     "data": {
      "text/plain": [
       "SNOTEL:1259_WA_SNTL    1259_WA_SNTL\n",
       "SNOTEL:728_WA_SNTL      728_WA_SNTL\n",
       "Name: code, dtype: object"
      ]
     },
     "execution_count": 62,
     "metadata": {},
     "output_type": "execute_result"
    }
   ],
   "source": [
    "snotel_35km.code"
   ]
  },
  {
   "cell_type": "code",
   "execution_count": 221,
   "id": "d00bf05f-5ef6-4af6-b9bf-4be03df414fe",
   "metadata": {},
   "outputs": [],
   "source": [
    "from shapely.geometry import Point\n",
    "\n",
    "muck = Point((snotel_35km[snotel_35km['code'] == '1259_WA_SNTL'].geometry.x, snotel_35km[snotel_35km['code'] == '1259_WA_SNTL'].geometry.y))\n",
    "salmon = Point((snotel_35km[snotel_35km['code'] == '728_WA_SNTL'].geometry.x, snotel_35km[snotel_35km['code'] == '728_WA_SNTL'].geometry.y))"
   ]
  },
  {
   "cell_type": "code",
   "execution_count": 227,
   "id": "72fdedd4-bae7-45f9-b269-d905efc3ad0e",
   "metadata": {},
   "outputs": [
    {
     "name": "stderr",
     "output_type": "stream",
     "text": [
      "/Users/Hannah/opt/miniconda3/envs/analysis_2022/lib/python3.8/site-packages/pandas/core/dtypes/cast.py:128: ShapelyDeprecationWarning: The array interface is deprecated and will no longer work in Shapely 2.0. Convert the '.coords' to a numpy array instead.\n",
      "  arr = construct_1d_object_array_from_listlike(values)\n",
      "/Users/Hannah/opt/miniconda3/envs/analysis_2022/lib/python3.8/site-packages/pandas/core/construction.py:810: ShapelyDeprecationWarning: The array interface is deprecated and will no longer work in Shapely 2.0. Convert the '.coords' to a numpy array instead.\n",
      "  subarr = construct_1d_object_array_from_listlike(arr)\n"
     ]
    },
    {
     "data": {
      "text/html": [
       "<div>\n",
       "<style scoped>\n",
       "    .dataframe tbody tr th:only-of-type {\n",
       "        vertical-align: middle;\n",
       "    }\n",
       "\n",
       "    .dataframe tbody tr th {\n",
       "        vertical-align: top;\n",
       "    }\n",
       "\n",
       "    .dataframe thead th {\n",
       "        text-align: right;\n",
       "    }\n",
       "</style>\n",
       "<table border=\"1\" class=\"dataframe\">\n",
       "  <thead>\n",
       "    <tr style=\"text-align: right;\">\n",
       "      <th></th>\n",
       "      <th>site</th>\n",
       "      <th>geometry</th>\n",
       "    </tr>\n",
       "  </thead>\n",
       "  <tbody>\n",
       "    <tr>\n",
       "      <th>0</th>\n",
       "      <td>muck_20km</td>\n",
       "      <td>POINT (731093.7835653129 5386094.281873972)</td>\n",
       "    </tr>\n",
       "    <tr>\n",
       "      <th>1</th>\n",
       "      <td>salmon_20km</td>\n",
       "      <td>POINT (732831.7348415289 5393950.294435121)</td>\n",
       "    </tr>\n",
       "  </tbody>\n",
       "</table>\n",
       "</div>"
      ],
      "text/plain": [
       "          site                                     geometry\n",
       "0    muck_20km  POINT (731093.7835653129 5386094.281873972)\n",
       "1  salmon_20km  POINT (732831.7348415289 5393950.294435121)"
      ]
     },
     "execution_count": 227,
     "metadata": {},
     "output_type": "execute_result"
    }
   ],
   "source": [
    "df_center= pd.DataFrame({'site':'muck_20km','geometry':[muck]})\n",
    "df_center.loc[len(df_center)]={'site':'salmon_20km', 'geometry':salmon}\n",
    "df_center"
   ]
  },
  {
   "cell_type": "code",
   "execution_count": 228,
   "id": "b1ff017c-11bb-42e4-b251-2434534f4a38",
   "metadata": {},
   "outputs": [
    {
     "data": {
      "text/html": [
       "<div>\n",
       "<style scoped>\n",
       "    .dataframe tbody tr th:only-of-type {\n",
       "        vertical-align: middle;\n",
       "    }\n",
       "\n",
       "    .dataframe tbody tr th {\n",
       "        vertical-align: top;\n",
       "    }\n",
       "\n",
       "    .dataframe thead th {\n",
       "        text-align: right;\n",
       "    }\n",
       "</style>\n",
       "<table border=\"1\" class=\"dataframe\">\n",
       "  <thead>\n",
       "    <tr style=\"text-align: right;\">\n",
       "      <th></th>\n",
       "      <th>site</th>\n",
       "      <th>geometry</th>\n",
       "    </tr>\n",
       "  </thead>\n",
       "  <tbody>\n",
       "    <tr>\n",
       "      <th>0</th>\n",
       "      <td>muck_20km</td>\n",
       "      <td>POLYGON ((751093.784 5386094.282, 750997.478 5...</td>\n",
       "    </tr>\n",
       "    <tr>\n",
       "      <th>1</th>\n",
       "      <td>salmon_20km</td>\n",
       "      <td>POLYGON ((752831.735 5393950.294, 752735.429 5...</td>\n",
       "    </tr>\n",
       "  </tbody>\n",
       "</table>\n",
       "</div>"
      ],
      "text/plain": [
       "          site                                           geometry\n",
       "0    muck_20km  POLYGON ((751093.784 5386094.282, 750997.478 5...\n",
       "1  salmon_20km  POLYGON ((752831.735 5393950.294, 752735.429 5..."
      ]
     },
     "execution_count": 228,
     "metadata": {},
     "output_type": "execute_result"
    }
   ],
   "source": [
    "gdf_center = gpd.GeoDataFrame(df_center, geometry=df_center['geometry'], crs='epsg:32610')\n",
    "gdf_center['geometry'] = gdf_center.geometry.buffer(20000)\n",
    "gdf_center"
   ]
  },
  {
   "cell_type": "code",
   "execution_count": 77,
   "id": "d097bcb9-0306-45a1-89ec-cafdc4da15f8",
   "metadata": {},
   "outputs": [
    {
     "data": {
      "text/html": [
       "<div>\n",
       "<style scoped>\n",
       "    .dataframe tbody tr th:only-of-type {\n",
       "        vertical-align: middle;\n",
       "    }\n",
       "\n",
       "    .dataframe tbody tr th {\n",
       "        vertical-align: top;\n",
       "    }\n",
       "\n",
       "    .dataframe thead th {\n",
       "        text-align: right;\n",
       "    }\n",
       "</style>\n",
       "<table border=\"1\" class=\"dataframe\">\n",
       "  <thead>\n",
       "    <tr style=\"text-align: right;\">\n",
       "      <th></th>\n",
       "      <th>code</th>\n",
       "      <th>name</th>\n",
       "      <th>network</th>\n",
       "      <th>elevation_m</th>\n",
       "      <th>site_property</th>\n",
       "      <th>geometry</th>\n",
       "      <th>elevation_transformed</th>\n",
       "    </tr>\n",
       "  </thead>\n",
       "  <tbody>\n",
       "    <tr>\n",
       "      <th>SNOTEL:1259_WA_SNTL</th>\n",
       "      <td>1259_WA_SNTL</td>\n",
       "      <td>Muckamuck</td>\n",
       "      <td>SNOTEL</td>\n",
       "      <td>1362.456055</td>\n",
       "      <td>{'county': 'Okanogan', 'state': 'Washington', ...</td>\n",
       "      <td>POINT (731093.784 5386094.282)</td>\n",
       "      <td>1362.456055</td>\n",
       "    </tr>\n",
       "    <tr>\n",
       "      <th>SNOTEL:728_WA_SNTL</th>\n",
       "      <td>728_WA_SNTL</td>\n",
       "      <td>Salmon Meadows</td>\n",
       "      <td>SNOTEL</td>\n",
       "      <td>1359.407959</td>\n",
       "      <td>{'county': 'Okanogan', 'state': 'Washington', ...</td>\n",
       "      <td>POINT (732831.735 5393950.294)</td>\n",
       "      <td>1359.407959</td>\n",
       "    </tr>\n",
       "  </tbody>\n",
       "</table>\n",
       "</div>"
      ],
      "text/plain": [
       "                             code            name network  elevation_m  \\\n",
       "SNOTEL:1259_WA_SNTL  1259_WA_SNTL       Muckamuck  SNOTEL  1362.456055   \n",
       "SNOTEL:728_WA_SNTL    728_WA_SNTL  Salmon Meadows  SNOTEL  1359.407959   \n",
       "\n",
       "                                                         site_property  \\\n",
       "SNOTEL:1259_WA_SNTL  {'county': 'Okanogan', 'state': 'Washington', ...   \n",
       "SNOTEL:728_WA_SNTL   {'county': 'Okanogan', 'state': 'Washington', ...   \n",
       "\n",
       "                                           geometry  elevation_transformed  \n",
       "SNOTEL:1259_WA_SNTL  POINT (731093.784 5386094.282)            1362.456055  \n",
       "SNOTEL:728_WA_SNTL   POINT (732831.735 5393950.294)            1359.407959  "
      ]
     },
     "execution_count": 77,
     "metadata": {},
     "output_type": "execute_result"
    }
   ],
   "source": [
    "snotel_35km"
   ]
  },
  {
   "cell_type": "code",
   "execution_count": 229,
   "id": "9c5531fd-5528-472a-8dbe-4921b7a31b7d",
   "metadata": {},
   "outputs": [
    {
     "data": {
      "text/plain": [
       "<AxesSubplot: >"
      ]
     },
     "execution_count": 229,
     "metadata": {},
     "output_type": "execute_result"
    },
    {
     "data": {
      "image/png": "[encoded data removed]",
      "text/plain": [
       "<Figure size 640x480 with 1 Axes>"
      ]
     },
     "metadata": {},
     "output_type": "display_data"
    }
   ],
   "source": [
    "fig, ax = plt.subplots()\n",
    "\n",
    "outline_gdf.plot(ax=ax)\n",
    "snotel_35km.plot(ax=ax, c='r')\n",
    "gdf_center.plot(ax=ax, facecolor='none')"
   ]
  },
  {
   "cell_type": "markdown",
   "id": "53d71911-a653-4b98-8150-f5e06e44f6fd",
   "metadata": {},
   "source": [
    "## Combine the geodataframes"
   ]
  },
  {
   "cell_type": "code",
   "execution_count": 230,
   "id": "9d806517-6f7d-4ffa-8b61-06faa86359c9",
   "metadata": {},
   "outputs": [
    {
     "data": {
      "text/html": [
       "<div>\n",
       "<style scoped>\n",
       "    .dataframe tbody tr th:only-of-type {\n",
       "        vertical-align: middle;\n",
       "    }\n",
       "\n",
       "    .dataframe tbody tr th {\n",
       "        vertical-align: top;\n",
       "    }\n",
       "\n",
       "    .dataframe thead th {\n",
       "        text-align: right;\n",
       "    }\n",
       "</style>\n",
       "<table border=\"1\" class=\"dataframe\">\n",
       "  <thead>\n",
       "    <tr style=\"text-align: right;\">\n",
       "      <th></th>\n",
       "      <th>code</th>\n",
       "      <th>name</th>\n",
       "      <th>network</th>\n",
       "      <th>elevation_m</th>\n",
       "      <th>site_property</th>\n",
       "      <th>geometry</th>\n",
       "      <th>elevation_transformed</th>\n",
       "      <th>site</th>\n",
       "    </tr>\n",
       "  </thead>\n",
       "  <tbody>\n",
       "    <tr>\n",
       "      <th>0</th>\n",
       "      <td>1259_WA_SNTL</td>\n",
       "      <td>Muckamuck</td>\n",
       "      <td>SNOTEL</td>\n",
       "      <td>1362.456055</td>\n",
       "      <td>{'county': 'Okanogan', 'state': 'Washington', ...</td>\n",
       "      <td>POINT (731093.784 5386094.282)</td>\n",
       "      <td>1362.456055</td>\n",
       "      <td>NaN</td>\n",
       "    </tr>\n",
       "    <tr>\n",
       "      <th>1</th>\n",
       "      <td>728_WA_SNTL</td>\n",
       "      <td>Salmon Meadows</td>\n",
       "      <td>SNOTEL</td>\n",
       "      <td>1359.407959</td>\n",
       "      <td>{'county': 'Okanogan', 'state': 'Washington', ...</td>\n",
       "      <td>POINT (732831.735 5393950.294)</td>\n",
       "      <td>1359.407959</td>\n",
       "      <td>NaN</td>\n",
       "    </tr>\n",
       "    <tr>\n",
       "      <th>2</th>\n",
       "      <td>NaN</td>\n",
       "      <td>NaN</td>\n",
       "      <td>NaN</td>\n",
       "      <td>NaN</td>\n",
       "      <td>NaN</td>\n",
       "      <td>POLYGON ((751093.784 5386094.282, 750997.478 5...</td>\n",
       "      <td>NaN</td>\n",
       "      <td>muck_20km</td>\n",
       "    </tr>\n",
       "    <tr>\n",
       "      <th>3</th>\n",
       "      <td>NaN</td>\n",
       "      <td>NaN</td>\n",
       "      <td>NaN</td>\n",
       "      <td>NaN</td>\n",
       "      <td>NaN</td>\n",
       "      <td>POLYGON ((752831.735 5393950.294, 752735.429 5...</td>\n",
       "      <td>NaN</td>\n",
       "      <td>salmon_20km</td>\n",
       "    </tr>\n",
       "  </tbody>\n",
       "</table>\n",
       "</div>"
      ],
      "text/plain": [
       "           code            name network  elevation_m  \\\n",
       "0  1259_WA_SNTL       Muckamuck  SNOTEL  1362.456055   \n",
       "1   728_WA_SNTL  Salmon Meadows  SNOTEL  1359.407959   \n",
       "2           NaN             NaN     NaN          NaN   \n",
       "3           NaN             NaN     NaN          NaN   \n",
       "\n",
       "                                       site_property  \\\n",
       "0  {'county': 'Okanogan', 'state': 'Washington', ...   \n",
       "1  {'county': 'Okanogan', 'state': 'Washington', ...   \n",
       "2                                                NaN   \n",
       "3                                                NaN   \n",
       "\n",
       "                                            geometry  elevation_transformed  \\\n",
       "0                     POINT (731093.784 5386094.282)            1362.456055   \n",
       "1                     POINT (732831.735 5393950.294)            1359.407959   \n",
       "2  POLYGON ((751093.784 5386094.282, 750997.478 5...                    NaN   \n",
       "3  POLYGON ((752831.735 5393950.294, 752735.429 5...                    NaN   \n",
       "\n",
       "          site  \n",
       "0          NaN  \n",
       "1          NaN  \n",
       "2    muck_20km  \n",
       "3  salmon_20km  "
      ]
     },
     "execution_count": 230,
     "metadata": {},
     "output_type": "execute_result"
    }
   ],
   "source": [
    "snotel_geom = pd.concat([snotel_35km, gdf_center], ignore_index=True)\n",
    "snotel_geom"
   ]
  },
  {
   "cell_type": "markdown",
   "id": "a01ba5b1-ef76-4b03-96c0-5e826dbf2a4a",
   "metadata": {},
   "source": [
    "### Save the radius geodataframes"
   ]
  },
  {
   "cell_type": "code",
   "execution_count": 231,
   "id": "c88e9767-4211-4020-80ab-02b051aebfd4",
   "metadata": {},
   "outputs": [],
   "source": [
    "out_fn = '../data/snotel/snotel_geometries.pkl'\n",
    "\n",
    "with open(out_fn, 'wb') as f:\n",
    "    pickle.dump(snotel_geom, f)"
   ]
  },
  {
   "cell_type": "markdown",
   "id": "920bac7e-8630-468d-8b1b-fabce2516031",
   "metadata": {
    "tags": []
   },
   "source": [
    "# Load in Snow Depth Data from Community Snow Observations  \n",
    "https://app.communitysnowobs.org/"
   ]
  },
  {
   "cell_type": "code",
   "execution_count": 79,
   "id": "98262ef6-7e62-497c-ab6f-b2abae843afe",
   "metadata": {},
   "outputs": [],
   "source": [
    "cso = gpd.read_file('../../data/cso/cso-data.geojson')"
   ]
  },
  {
   "cell_type": "code",
   "execution_count": 80,
   "id": "280ba876-54be-4a2c-9c94-402d67ee073c",
   "metadata": {},
   "outputs": [
    {
     "data": {
      "text/plain": [
       "<Geographic 2D CRS: EPSG:4326>\n",
       "Name: WGS 84\n",
       "Axis Info [ellipsoidal]:\n",
       "- Lat[north]: Geodetic latitude (degree)\n",
       "- Lon[east]: Geodetic longitude (degree)\n",
       "Area of Use:\n",
       "- name: World.\n",
       "- bounds: (-180.0, -90.0, 180.0, 90.0)\n",
       "Datum: World Geodetic System 1984 ensemble\n",
       "- Ellipsoid: WGS 84\n",
       "- Prime Meridian: Greenwich"
      ]
     },
     "execution_count": 80,
     "metadata": {},
     "output_type": "execute_result"
    }
   ],
   "source": [
    "cso.crs"
   ]
  },
  {
   "cell_type": "code",
   "execution_count": 81,
   "id": "43f661e6-1302-43d4-a63b-6184a11753cf",
   "metadata": {},
   "outputs": [
    {
     "data": {
      "text/plain": [
       "<AxesSubplot: >"
      ]
     },
     "execution_count": 81,
     "metadata": {},
     "output_type": "execute_result"
    },
    {
     "data": {
      "image/png": "[encoded data removed]",
      "text/plain": [
       "<Figure size 640x480 with 1 Axes>"
      ]
     },
     "metadata": {},
     "output_type": "display_data"
    }
   ],
   "source": [
    "cso.plot()"
   ]
  },
  {
   "cell_type": "code",
   "execution_count": 82,
   "id": "a1a8a060-9f10-450d-8853-e790e636a860",
   "metadata": {},
   "outputs": [],
   "source": [
    "cso = cso.to_crs('epsg:32610')"
   ]
  },
  {
   "cell_type": "code",
   "execution_count": 83,
   "id": "a5462a45-fa35-4e54-93d0-06fbaa2f3b74",
   "metadata": {},
   "outputs": [
    {
     "data": {
      "text/html": [
       "<div>\n",
       "<style scoped>\n",
       "    .dataframe tbody tr th:only-of-type {\n",
       "        vertical-align: middle;\n",
       "    }\n",
       "\n",
       "    .dataframe tbody tr th {\n",
       "        vertical-align: top;\n",
       "    }\n",
       "\n",
       "    .dataframe thead th {\n",
       "        text-align: right;\n",
       "    }\n",
       "</style>\n",
       "<table border=\"1\" class=\"dataframe\">\n",
       "  <thead>\n",
       "    <tr style=\"text-align: right;\">\n",
       "      <th></th>\n",
       "      <th>id</th>\n",
       "      <th>author</th>\n",
       "      <th>depth</th>\n",
       "      <th>source</th>\n",
       "      <th>timestamp</th>\n",
       "      <th>elevation</th>\n",
       "      <th>_ms</th>\n",
       "      <th>geometry</th>\n",
       "    </tr>\n",
       "  </thead>\n",
       "  <tbody>\n",
       "    <tr>\n",
       "      <th>0</th>\n",
       "      <td>va0zhRE1</td>\n",
       "      <td>Bob Sutherland</td>\n",
       "      <td>34.999999</td>\n",
       "      <td>MountainHub</td>\n",
       "      <td>2020-01-22 21:26:35.335000+00:00</td>\n",
       "      <td>1241.020142</td>\n",
       "      <td>1579728395335</td>\n",
       "      <td>POINT (729538.759 5364683.919)</td>\n",
       "    </tr>\n",
       "    <tr>\n",
       "      <th>1</th>\n",
       "      <td>uasqsrAK</td>\n",
       "      <td>Bob Sutherland</td>\n",
       "      <td>74.999997</td>\n",
       "      <td>MountainHub</td>\n",
       "      <td>2021-02-17 19:56:22.817000+00:00</td>\n",
       "      <td>1027.264893</td>\n",
       "      <td>1613591782817</td>\n",
       "      <td>POINT (722635.255 5369454.743)</td>\n",
       "    </tr>\n",
       "    <tr>\n",
       "      <th>2</th>\n",
       "      <td>V9/l9iNg</td>\n",
       "      <td>Carmen Vanbianchi</td>\n",
       "      <td>35.560000</td>\n",
       "      <td>MountainHub</td>\n",
       "      <td>2020-02-19 19:38:38.466000+00:00</td>\n",
       "      <td>1281.596191</td>\n",
       "      <td>1582141118466</td>\n",
       "      <td>POINT (711513.278 5382422.710)</td>\n",
       "    </tr>\n",
       "    <tr>\n",
       "      <th>3</th>\n",
       "      <td>PUZnqkOp</td>\n",
       "      <td>Bob Sutherland</td>\n",
       "      <td>33.020000</td>\n",
       "      <td>MountainHub</td>\n",
       "      <td>2019-01-07 20:53:12.443000+00:00</td>\n",
       "      <td>839.739136</td>\n",
       "      <td>1546894392443</td>\n",
       "      <td>POINT (714425.271 5370892.693)</td>\n",
       "    </tr>\n",
       "    <tr>\n",
       "      <th>4</th>\n",
       "      <td>BR+RpKNc</td>\n",
       "      <td>Bob Sutherland</td>\n",
       "      <td>62.999998</td>\n",
       "      <td>MountainHub</td>\n",
       "      <td>2021-03-10 20:08:53.982000+00:00</td>\n",
       "      <td>847.298218</td>\n",
       "      <td>1615406933982</td>\n",
       "      <td>POINT (711886.207 5385614.469)</td>\n",
       "    </tr>\n",
       "  </tbody>\n",
       "</table>\n",
       "</div>"
      ],
      "text/plain": [
       "         id             author      depth       source  \\\n",
       "0  va0zhRE1     Bob Sutherland  34.999999  MountainHub   \n",
       "1  uasqsrAK     Bob Sutherland  74.999997  MountainHub   \n",
       "2  V9/l9iNg  Carmen Vanbianchi  35.560000  MountainHub   \n",
       "3  PUZnqkOp     Bob Sutherland  33.020000  MountainHub   \n",
       "4  BR+RpKNc     Bob Sutherland  62.999998  MountainHub   \n",
       "\n",
       "                         timestamp    elevation            _ms  \\\n",
       "0 2020-01-22 21:26:35.335000+00:00  1241.020142  1579728395335   \n",
       "1 2021-02-17 19:56:22.817000+00:00  1027.264893  1613591782817   \n",
       "2 2020-02-19 19:38:38.466000+00:00  1281.596191  1582141118466   \n",
       "3 2019-01-07 20:53:12.443000+00:00   839.739136  1546894392443   \n",
       "4 2021-03-10 20:08:53.982000+00:00   847.298218  1615406933982   \n",
       "\n",
       "                         geometry  \n",
       "0  POINT (729538.759 5364683.919)  \n",
       "1  POINT (722635.255 5369454.743)  \n",
       "2  POINT (711513.278 5382422.710)  \n",
       "3  POINT (714425.271 5370892.693)  \n",
       "4  POINT (711886.207 5385614.469)  "
      ]
     },
     "execution_count": 83,
     "metadata": {},
     "output_type": "execute_result"
    }
   ],
   "source": [
    "cso.head()"
   ]
  },
  {
   "cell_type": "code",
   "execution_count": 85,
   "id": "feb4fd3a-fa03-4c28-81d6-1c2eb77cb5a0",
   "metadata": {},
   "outputs": [
    {
     "data": {
      "text/plain": [
       "<AxesSubplot: >"
      ]
     },
     "execution_count": 85,
     "metadata": {},
     "output_type": "execute_result"
    },
    {
     "data": {
      "image/png": "[encoded data removed]",
      "text/plain": [
       "<Figure size 640x480 with 1 Axes>"
      ]
     },
     "metadata": {},
     "output_type": "display_data"
    }
   ],
   "source": [
    "fig, ax = plt.subplots()\n",
    "\n",
    "cso.plot(ax=ax)\n",
    "outline_gdf.plot(ax=ax, facecolor='none', edgecolor='k')"
   ]
  },
  {
   "cell_type": "code",
   "execution_count": 86,
   "id": "c52b5aeb-38f2-4976-95ad-3e7b2aeb2b5f",
   "metadata": {},
   "outputs": [],
   "source": [
    "# convert from cm to meters\n",
    "cso['depth_m'] = cso['depth']/100"
   ]
  },
  {
   "cell_type": "code",
   "execution_count": 88,
   "id": "4bca9c3c-9201-45ea-acc8-35ccb2a1aabe",
   "metadata": {},
   "outputs": [
    {
     "data": {
      "text/html": [
       "<div>\n",
       "<style scoped>\n",
       "    .dataframe tbody tr th:only-of-type {\n",
       "        vertical-align: middle;\n",
       "    }\n",
       "\n",
       "    .dataframe tbody tr th {\n",
       "        vertical-align: top;\n",
       "    }\n",
       "\n",
       "    .dataframe thead th {\n",
       "        text-align: right;\n",
       "    }\n",
       "</style>\n",
       "<table border=\"1\" class=\"dataframe\">\n",
       "  <thead>\n",
       "    <tr style=\"text-align: right;\">\n",
       "      <th></th>\n",
       "      <th>id</th>\n",
       "      <th>author</th>\n",
       "      <th>depth</th>\n",
       "      <th>source</th>\n",
       "      <th>timestamp</th>\n",
       "      <th>elevation</th>\n",
       "      <th>_ms</th>\n",
       "      <th>geometry</th>\n",
       "      <th>depth_m</th>\n",
       "    </tr>\n",
       "    <tr>\n",
       "      <th>time</th>\n",
       "      <th></th>\n",
       "      <th></th>\n",
       "      <th></th>\n",
       "      <th></th>\n",
       "      <th></th>\n",
       "      <th></th>\n",
       "      <th></th>\n",
       "      <th></th>\n",
       "      <th></th>\n",
       "    </tr>\n",
       "  </thead>\n",
       "  <tbody>\n",
       "    <tr>\n",
       "      <th>2020-01-22 21:26:35.335000+00:00</th>\n",
       "      <td>va0zhRE1</td>\n",
       "      <td>Bob Sutherland</td>\n",
       "      <td>34.999999</td>\n",
       "      <td>MountainHub</td>\n",
       "      <td>2020-01-22 21:26:35.335000+00:00</td>\n",
       "      <td>1241.020142</td>\n",
       "      <td>1579728395335</td>\n",
       "      <td>POINT (729538.759 5364683.919)</td>\n",
       "      <td>0.3500</td>\n",
       "    </tr>\n",
       "    <tr>\n",
       "      <th>2021-02-17 19:56:22.817000+00:00</th>\n",
       "      <td>uasqsrAK</td>\n",
       "      <td>Bob Sutherland</td>\n",
       "      <td>74.999997</td>\n",
       "      <td>MountainHub</td>\n",
       "      <td>2021-02-17 19:56:22.817000+00:00</td>\n",
       "      <td>1027.264893</td>\n",
       "      <td>1613591782817</td>\n",
       "      <td>POINT (722635.255 5369454.743)</td>\n",
       "      <td>0.7500</td>\n",
       "    </tr>\n",
       "    <tr>\n",
       "      <th>2020-02-19 19:38:38.466000+00:00</th>\n",
       "      <td>V9/l9iNg</td>\n",
       "      <td>Carmen Vanbianchi</td>\n",
       "      <td>35.560000</td>\n",
       "      <td>MountainHub</td>\n",
       "      <td>2020-02-19 19:38:38.466000+00:00</td>\n",
       "      <td>1281.596191</td>\n",
       "      <td>1582141118466</td>\n",
       "      <td>POINT (711513.278 5382422.710)</td>\n",
       "      <td>0.3556</td>\n",
       "    </tr>\n",
       "    <tr>\n",
       "      <th>2019-01-07 20:53:12.443000+00:00</th>\n",
       "      <td>PUZnqkOp</td>\n",
       "      <td>Bob Sutherland</td>\n",
       "      <td>33.020000</td>\n",
       "      <td>MountainHub</td>\n",
       "      <td>2019-01-07 20:53:12.443000+00:00</td>\n",
       "      <td>839.739136</td>\n",
       "      <td>1546894392443</td>\n",
       "      <td>POINT (714425.271 5370892.693)</td>\n",
       "      <td>0.3302</td>\n",
       "    </tr>\n",
       "    <tr>\n",
       "      <th>2021-03-10 20:08:53.982000+00:00</th>\n",
       "      <td>BR+RpKNc</td>\n",
       "      <td>Bob Sutherland</td>\n",
       "      <td>62.999998</td>\n",
       "      <td>MountainHub</td>\n",
       "      <td>2021-03-10 20:08:53.982000+00:00</td>\n",
       "      <td>847.298218</td>\n",
       "      <td>1615406933982</td>\n",
       "      <td>POINT (711886.207 5385614.469)</td>\n",
       "      <td>0.6300</td>\n",
       "    </tr>\n",
       "  </tbody>\n",
       "</table>\n",
       "</div>"
      ],
      "text/plain": [
       "                                        id             author      depth  \\\n",
       "time                                                                       \n",
       "2020-01-22 21:26:35.335000+00:00  va0zhRE1     Bob Sutherland  34.999999   \n",
       "2021-02-17 19:56:22.817000+00:00  uasqsrAK     Bob Sutherland  74.999997   \n",
       "2020-02-19 19:38:38.466000+00:00  V9/l9iNg  Carmen Vanbianchi  35.560000   \n",
       "2019-01-07 20:53:12.443000+00:00  PUZnqkOp     Bob Sutherland  33.020000   \n",
       "2021-03-10 20:08:53.982000+00:00  BR+RpKNc     Bob Sutherland  62.999998   \n",
       "\n",
       "                                       source  \\\n",
       "time                                            \n",
       "2020-01-22 21:26:35.335000+00:00  MountainHub   \n",
       "2021-02-17 19:56:22.817000+00:00  MountainHub   \n",
       "2020-02-19 19:38:38.466000+00:00  MountainHub   \n",
       "2019-01-07 20:53:12.443000+00:00  MountainHub   \n",
       "2021-03-10 20:08:53.982000+00:00  MountainHub   \n",
       "\n",
       "                                                        timestamp  \\\n",
       "time                                                                \n",
       "2020-01-22 21:26:35.335000+00:00 2020-01-22 21:26:35.335000+00:00   \n",
       "2021-02-17 19:56:22.817000+00:00 2021-02-17 19:56:22.817000+00:00   \n",
       "2020-02-19 19:38:38.466000+00:00 2020-02-19 19:38:38.466000+00:00   \n",
       "2019-01-07 20:53:12.443000+00:00 2019-01-07 20:53:12.443000+00:00   \n",
       "2021-03-10 20:08:53.982000+00:00 2021-03-10 20:08:53.982000+00:00   \n",
       "\n",
       "                                    elevation            _ms  \\\n",
       "time                                                           \n",
       "2020-01-22 21:26:35.335000+00:00  1241.020142  1579728395335   \n",
       "2021-02-17 19:56:22.817000+00:00  1027.264893  1613591782817   \n",
       "2020-02-19 19:38:38.466000+00:00  1281.596191  1582141118466   \n",
       "2019-01-07 20:53:12.443000+00:00   839.739136  1546894392443   \n",
       "2021-03-10 20:08:53.982000+00:00   847.298218  1615406933982   \n",
       "\n",
       "                                                        geometry  depth_m  \n",
       "time                                                                       \n",
       "2020-01-22 21:26:35.335000+00:00  POINT (729538.759 5364683.919)   0.3500  \n",
       "2021-02-17 19:56:22.817000+00:00  POINT (722635.255 5369454.743)   0.7500  \n",
       "2020-02-19 19:38:38.466000+00:00  POINT (711513.278 5382422.710)   0.3556  \n",
       "2019-01-07 20:53:12.443000+00:00  POINT (714425.271 5370892.693)   0.3302  \n",
       "2021-03-10 20:08:53.982000+00:00  POINT (711886.207 5385614.469)   0.6300  "
      ]
     },
     "execution_count": 88,
     "metadata": {},
     "output_type": "execute_result"
    }
   ],
   "source": [
    "cso['time'] = pd.to_datetime(cso['timestamp'])\n",
    "cso = cso.set_index('time')\n",
    "cso.head()"
   ]
  },
  {
   "cell_type": "code",
   "execution_count": 25,
   "id": "8c8dfd01-2040-4ae0-9a7d-99912f313bea",
   "metadata": {},
   "outputs": [
    {
     "data": {
      "text/plain": [
       "count     139.000000\n",
       "mean     1094.985954\n",
       "std       277.990580\n",
       "min       583.248718\n",
       "25%       926.024841\n",
       "50%      1036.673584\n",
       "75%      1162.757812\n",
       "max      1941.823120\n",
       "Name: elevation, dtype: float64"
      ]
     },
     "execution_count": 25,
     "metadata": {},
     "output_type": "execute_result"
    }
   ],
   "source": [
    "cso.elevation.describe()"
   ]
  },
  {
   "cell_type": "code",
   "execution_count": 89,
   "id": "6491a8cd-66c5-435e-8ee7-57134668d77c",
   "metadata": {},
   "outputs": [],
   "source": [
    "cso_methow = gpd.clip(cso, outline_gdf)"
   ]
  },
  {
   "cell_type": "code",
   "execution_count": 90,
   "id": "44aaf5c4-b03f-4887-83db-22ef17511be5",
   "metadata": {},
   "outputs": [
    {
     "data": {
      "text/plain": [
       "<AxesSubplot: >"
      ]
     },
     "execution_count": 90,
     "metadata": {},
     "output_type": "execute_result"
    },
    {
     "data": {
      "image/png": "[encoded data removed]",
      "text/plain": [
       "<Figure size 640x480 with 1 Axes>"
      ]
     },
     "metadata": {},
     "output_type": "display_data"
    }
   ],
   "source": [
    "fig, ax = plt.subplots()\n",
    "\n",
    "cso_methow.plot(ax=ax)\n",
    "outline_gdf.plot(ax=ax, facecolor='none', edgecolor='k')"
   ]
  },
  {
   "cell_type": "markdown",
   "id": "9e1737a0-f923-453a-ad68-3dc5e2275339",
   "metadata": {},
   "source": [
    "### Save the CSO Geodataframe"
   ]
  },
  {
   "cell_type": "code",
   "execution_count": 91,
   "id": "33541b59-e14e-4340-b14f-fce200cf4202",
   "metadata": {},
   "outputs": [],
   "source": [
    "out_fn = '../../data/cso/cso-data.pkl'\n",
    "\n",
    "with open(out_fn, 'wb') as f:\n",
    "    pickle.dump(cso_methow, f)"
   ]
  },
  {
   "cell_type": "code",
   "execution_count": null,
   "id": "340b6eba-3cec-47c0-9889-204aae69256b",
   "metadata": {},
   "outputs": [],
   "source": []
  }
 ],
 "metadata": {
  "kernelspec": {
   "display_name": "Python 3 (ipykernel)",
   "language": "python",
   "name": "python3"
  },
  "language_info": {
   "codemirror_mode": {
    "name": "ipython",
    "version": 3
   },
   "file_extension": ".py",
   "mimetype": "text/x-python",
   "name": "python",
   "nbconvert_exporter": "python",
   "pygments_lexer": "ipython3",
   "version": "3.8.13"
  }
 },
 "nbformat": 4,
 "nbformat_minor": 5
}
