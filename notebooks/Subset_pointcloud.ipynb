{
 "cells": [
  {
   "cell_type": "markdown",
   "id": "254031c9",
   "metadata": {},
   "source": [
    "# Subset the IS2 and Lidar data for point cloud alignment"
   ]
  },
  {
   "cell_type": "code",
   "execution_count": 25,
   "id": "9484b6d5",
   "metadata": {},
   "outputs": [],
   "source": [
    "import os\n",
    "import numpy as np\n",
    "import pandas as pd\n",
    "import geopandas as gpd\n",
    "import matplotlib.pyplot as plt\n",
    "import contextily as cx\n",
    "from matplotlib_scalebar.scalebar import ScaleBar\n",
    "from astropy.time import Time\n",
    "from datetime import datetime\n",
    "import rasterio as rio\n",
    "from rasterio import features\n",
    "from rasterio.plot import show\n",
    "import rasterio.windows\n",
    "from rasterio.windows import from_bounds\n",
    "from rasterio.enums import Resampling\n",
    "import rioxarray as rxr\n",
    "from shapely.geometry import Polygon\n",
    "from shapely.geometry import mapping"
   ]
  },
  {
   "cell_type": "code",
   "execution_count": 2,
   "id": "77f6b0a7",
   "metadata": {},
   "outputs": [],
   "source": [
    "%matplotlib inline"
   ]
  },
  {
   "cell_type": "code",
   "execution_count": 3,
   "id": "cae640ad",
   "metadata": {},
   "outputs": [],
   "source": [
    "atl06sr_snowoff_fn = '../data/methow_snowoff_sr-atl0604272022_32610.geojson'\n",
    "atl06sr_snowoff = gpd.read_file(atl06sr_snowoff_fn) #, geometry=gpd.points_from_xy(atl06sr_snowoff.x, atl06sr_snowoff.y)"
   ]
  },
  {
   "cell_type": "code",
   "execution_count": 4,
   "id": "18d4c941",
   "metadata": {},
   "outputs": [
    {
     "data": {
      "text/plain": [
       "<Projected CRS: EPSG:32610>\n",
       "Name: WGS 84 / UTM zone 10N\n",
       "Axis Info [cartesian]:\n",
       "- E[east]: Easting (metre)\n",
       "- N[north]: Northing (metre)\n",
       "Area of Use:\n",
       "- name: Between 126°W and 120°W, northern hemisphere between equator and 84°N, onshore and offshore. Canada - British Columbia (BC); Northwest Territories (NWT); Nunavut; Yukon. United States (USA) - Alaska (AK).\n",
       "- bounds: (-126.0, 0.0, -120.0, 84.0)\n",
       "Coordinate Operation:\n",
       "- name: UTM zone 10N\n",
       "- method: Transverse Mercator\n",
       "Datum: World Geodetic System 1984\n",
       "- Ellipsoid: WGS 84\n",
       "- Prime Meridian: Greenwich"
      ]
     },
     "execution_count": 4,
     "metadata": {},
     "output_type": "execute_result"
    }
   ],
   "source": [
    "atl06sr_snowoff.crs"
   ]
  },
  {
   "cell_type": "code",
   "execution_count": 52,
   "id": "88e3c751",
   "metadata": {},
   "outputs": [
    {
     "data": {
      "text/plain": [
       "<AxesSubplot:>"
      ]
     },
     "execution_count": 52,
     "metadata": {},
     "output_type": "execute_result"
    },
    {
     "data": {
      "image/png": "[encoded data removed]",
      "text/plain": [
       "<Figure size 432x288 with 1 Axes>"
      ]
     },
     "metadata": {
      "needs_background": "light"
     },
     "output_type": "display_data"
    }
   ],
   "source": [
    "atl06sr_snowoff.plot()"
   ]
  },
  {
   "cell_type": "code",
   "execution_count": 7,
   "id": "cecad4d2",
   "metadata": {},
   "outputs": [
    {
     "data": {
      "text/html": [
       "<div>\n",
       "<style scoped>\n",
       "    .dataframe tbody tr th:only-of-type {\n",
       "        vertical-align: middle;\n",
       "    }\n",
       "\n",
       "    .dataframe tbody tr th {\n",
       "        vertical-align: top;\n",
       "    }\n",
       "\n",
       "    .dataframe thead th {\n",
       "        text-align: right;\n",
       "    }\n",
       "</style>\n",
       "<table border=\"1\" class=\"dataframe\">\n",
       "  <thead>\n",
       "    <tr style=\"text-align: right;\">\n",
       "      <th></th>\n",
       "      <th>x</th>\n",
       "      <th>y</th>\n",
       "      <th>z</th>\n",
       "      <th>geometry</th>\n",
       "    </tr>\n",
       "  </thead>\n",
       "  <tbody>\n",
       "    <tr>\n",
       "      <th>0</th>\n",
       "      <td>-120.5514889</td>\n",
       "      <td>48.35915778</td>\n",
       "      <td>2064.199461</td>\n",
       "      <td>None</td>\n",
       "    </tr>\n",
       "    <tr>\n",
       "      <th>1</th>\n",
       "      <td>-120.5515161</td>\n",
       "      <td>48.35933674</td>\n",
       "      <td>2054.374982</td>\n",
       "      <td>None</td>\n",
       "    </tr>\n",
       "    <tr>\n",
       "      <th>2</th>\n",
       "      <td>-120.5515433</td>\n",
       "      <td>48.35951602</td>\n",
       "      <td>2046.90207</td>\n",
       "      <td>None</td>\n",
       "    </tr>\n",
       "    <tr>\n",
       "      <th>3</th>\n",
       "      <td>-120.5515706</td>\n",
       "      <td>48.3596953</td>\n",
       "      <td>2041.548979</td>\n",
       "      <td>None</td>\n",
       "    </tr>\n",
       "    <tr>\n",
       "      <th>4</th>\n",
       "      <td>-120.551598</td>\n",
       "      <td>48.35987457</td>\n",
       "      <td>2039.899003</td>\n",
       "      <td>None</td>\n",
       "    </tr>\n",
       "  </tbody>\n",
       "</table>\n",
       "</div>"
      ],
      "text/plain": [
       "              x            y            z geometry\n",
       "0  -120.5514889  48.35915778  2064.199461     None\n",
       "1  -120.5515161  48.35933674  2054.374982     None\n",
       "2  -120.5515433  48.35951602   2046.90207     None\n",
       "3  -120.5515706   48.3596953  2041.548979     None\n",
       "4   -120.551598  48.35987457  2039.899003     None"
      ]
     },
     "execution_count": 7,
     "metadata": {},
     "output_type": "execute_result"
    }
   ],
   "source": [
    "atl06sr_snowoff.head()"
   ]
  },
  {
   "cell_type": "code",
   "execution_count": 5,
   "id": "ea48a055",
   "metadata": {},
   "outputs": [],
   "source": [
    "asp_area_fn = '../data/asp_area.geojson'\n",
    "asp_area = gpd.read_file(asp_area_fn)"
   ]
  },
  {
   "cell_type": "code",
   "execution_count": 6,
   "id": "81531461",
   "metadata": {},
   "outputs": [],
   "source": [
    "asp_area = asp_area.to_crs('epsg:32610')"
   ]
  },
  {
   "cell_type": "code",
   "execution_count": 68,
   "id": "4f399674",
   "metadata": {},
   "outputs": [
    {
     "data": {
      "text/plain": [
       "<AxesSubplot:>"
      ]
     },
     "execution_count": 68,
     "metadata": {},
     "output_type": "execute_result"
    },
    {
     "data": {
      "image/png": "[encoded data removed]",
      "text/plain": [
       "<Figure size 432x288 with 1 Axes>"
      ]
     },
     "metadata": {
      "needs_background": "light"
     },
     "output_type": "display_data"
    }
   ],
   "source": [
    "asp_area.plot()"
   ]
  },
  {
   "cell_type": "code",
   "execution_count": 7,
   "id": "ba440d4c",
   "metadata": {},
   "outputs": [
    {
     "data": {
      "text/html": [
       "<div>\n",
       "<style scoped>\n",
       "    .dataframe tbody tr th:only-of-type {\n",
       "        vertical-align: middle;\n",
       "    }\n",
       "\n",
       "    .dataframe tbody tr th {\n",
       "        vertical-align: top;\n",
       "    }\n",
       "\n",
       "    .dataframe thead th {\n",
       "        text-align: right;\n",
       "    }\n",
       "</style>\n",
       "<table border=\"1\" class=\"dataframe\">\n",
       "  <thead>\n",
       "    <tr style=\"text-align: right;\">\n",
       "      <th></th>\n",
       "      <th>minx</th>\n",
       "      <th>miny</th>\n",
       "      <th>maxx</th>\n",
       "      <th>maxy</th>\n",
       "    </tr>\n",
       "  </thead>\n",
       "  <tbody>\n",
       "    <tr>\n",
       "      <th>0</th>\n",
       "      <td>702103.278184</td>\n",
       "      <td>5.369496e+06</td>\n",
       "      <td>708926.081779</td>\n",
       "      <td>5.375959e+06</td>\n",
       "    </tr>\n",
       "  </tbody>\n",
       "</table>\n",
       "</div>"
      ],
      "text/plain": [
       "            minx          miny           maxx          maxy\n",
       "0  702103.278184  5.369496e+06  708926.081779  5.375959e+06"
      ]
     },
     "execution_count": 7,
     "metadata": {},
     "output_type": "execute_result"
    }
   ],
   "source": [
    "asp_area.bounds"
   ]
  },
  {
   "cell_type": "code",
   "execution_count": 8,
   "id": "021c379d",
   "metadata": {},
   "outputs": [],
   "source": [
    "bounds = [(702103.278184, 5.369496e+06), (702103.278184, 5.375959e+06), (708926.081779, 5.375959e+06), (708926.081779, 5.369496e+06), (702103.278184, 5.369496e+06)]\n",
    "polygon = Polygon([(702103.278184, 5.369496e+06), (702103.278184, 5.375959e+06), (708926.081779, 5.375959e+06), (708926.081779, 5.369496e+06), (702103.278184, 5.369496e+06)])"
   ]
  },
  {
   "cell_type": "code",
   "execution_count": 10,
   "id": "513b66a8",
   "metadata": {},
   "outputs": [],
   "source": [
    "poly_gdf = gpd.GeoDataFrame([1], geometry=[polygon], crs=atl06sr_snowoff.crs)"
   ]
  },
  {
   "cell_type": "code",
   "execution_count": 11,
   "id": "9aba3ccd",
   "metadata": {},
   "outputs": [
    {
     "data": {
      "text/plain": [
       "<Projected CRS: EPSG:32610>\n",
       "Name: WGS 84 / UTM zone 10N\n",
       "Axis Info [cartesian]:\n",
       "- E[east]: Easting (metre)\n",
       "- N[north]: Northing (metre)\n",
       "Area of Use:\n",
       "- name: Between 126°W and 120°W, northern hemisphere between equator and 84°N, onshore and offshore. Canada - British Columbia (BC); Northwest Territories (NWT); Nunavut; Yukon. United States (USA) - Alaska (AK).\n",
       "- bounds: (-126.0, 0.0, -120.0, 84.0)\n",
       "Coordinate Operation:\n",
       "- name: UTM zone 10N\n",
       "- method: Transverse Mercator\n",
       "Datum: World Geodetic System 1984\n",
       "- Ellipsoid: WGS 84\n",
       "- Prime Meridian: Greenwich"
      ]
     },
     "execution_count": 11,
     "metadata": {},
     "output_type": "execute_result"
    }
   ],
   "source": [
    "poly_gdf.crs"
   ]
  },
  {
   "cell_type": "code",
   "execution_count": 12,
   "id": "efdba1a6",
   "metadata": {},
   "outputs": [
    {
     "data": {
      "text/plain": [
       "<AxesSubplot:>"
      ]
     },
     "execution_count": 12,
     "metadata": {},
     "output_type": "execute_result"
    },
    {
     "data": {
      "image/png": "[encoded data removed]",
      "text/plain": [
       "<Figure size 432x288 with 1 Axes>"
      ]
     },
     "metadata": {
      "needs_background": "light"
     },
     "output_type": "display_data"
    }
   ],
   "source": [
    "fig, ax = plt.subplots()\n",
    "\n",
    "atl06sr_snowoff.plot(ax = ax)\n",
    "poly_gdf.boundary.plot(ax = ax, color=\"red\")"
   ]
  },
  {
   "cell_type": "code",
   "execution_count": 13,
   "id": "474d5ca9",
   "metadata": {},
   "outputs": [
    {
     "data": {
      "text/plain": [
       "geopandas.geodataframe.GeoDataFrame"
      ]
     },
     "execution_count": 13,
     "metadata": {},
     "output_type": "execute_result"
    }
   ],
   "source": [
    "type(atl06sr_snowoff)"
   ]
  },
  {
   "cell_type": "code",
   "execution_count": 14,
   "id": "d41c8305",
   "metadata": {},
   "outputs": [],
   "source": [
    "snowoff_subset = gpd.clip(atl06sr_snowoff, poly_gdf)"
   ]
  },
  {
   "cell_type": "code",
   "execution_count": 14,
   "id": "76451b25",
   "metadata": {},
   "outputs": [
    {
     "data": {
      "text/plain": [
       "<AxesSubplot:>"
      ]
     },
     "execution_count": 14,
     "metadata": {},
     "output_type": "execute_result"
    },
    {
     "data": {
      "image/png": "[encoded data removed]",
      "text/plain": [
       "<Figure size 432x288 with 1 Axes>"
      ]
     },
     "metadata": {
      "needs_background": "light"
     },
     "output_type": "display_data"
    }
   ],
   "source": [
    "snowoff_subset.plot()"
   ]
  },
  {
   "cell_type": "markdown",
   "id": "838da480",
   "metadata": {},
   "source": [
    "### Using rasterio windows, also from David's GDA notebook: 05 Raster1 Part 2."
   ]
  },
  {
   "cell_type": "code",
   "execution_count": 36,
   "id": "448941e6",
   "metadata": {},
   "outputs": [],
   "source": [
    "dnr_fn = '../../datasetsA/methow_basin_2018/dtm/raw/methow_basin_2018_dtm_combined_32610_1m.tif'\n",
    "dnr_fn_10m = '../../datasetsA/methow_basin_2018/dtm/raw/methow_basin_2018_dtm_combined_32610_10m.tif'"
   ]
  },
  {
   "cell_type": "code",
   "execution_count": 35,
   "id": "60ee9952",
   "metadata": {},
   "outputs": [],
   "source": [
    "src = rio.open(dnr_fn_10m)"
   ]
  },
  {
   "cell_type": "code",
   "execution_count": 23,
   "id": "f2f2bc9c",
   "metadata": {},
   "outputs": [
    {
     "data": {
      "text/html": [
       "<div>\n",
       "<style scoped>\n",
       "    .dataframe tbody tr th:only-of-type {\n",
       "        vertical-align: middle;\n",
       "    }\n",
       "\n",
       "    .dataframe tbody tr th {\n",
       "        vertical-align: top;\n",
       "    }\n",
       "\n",
       "    .dataframe thead th {\n",
       "        text-align: right;\n",
       "    }\n",
       "</style>\n",
       "<table border=\"1\" class=\"dataframe\">\n",
       "  <thead>\n",
       "    <tr style=\"text-align: right;\">\n",
       "      <th></th>\n",
       "      <th>minx</th>\n",
       "      <th>miny</th>\n",
       "      <th>maxx</th>\n",
       "      <th>maxy</th>\n",
       "    </tr>\n",
       "  </thead>\n",
       "  <tbody>\n",
       "    <tr>\n",
       "      <th>0</th>\n",
       "      <td>702103.278184</td>\n",
       "      <td>5.369496e+06</td>\n",
       "      <td>708926.081779</td>\n",
       "      <td>5.375959e+06</td>\n",
       "    </tr>\n",
       "  </tbody>\n",
       "</table>\n",
       "</div>"
      ],
      "text/plain": [
       "            minx          miny           maxx          maxy\n",
       "0  702103.278184  5.369496e+06  708926.081779  5.375959e+06"
      ]
     },
     "execution_count": 23,
     "metadata": {},
     "output_type": "execute_result"
    }
   ],
   "source": [
    "asp_area.bounds"
   ]
  },
  {
   "cell_type": "code",
   "execution_count": 24,
   "id": "552ff929",
   "metadata": {},
   "outputs": [],
   "source": [
    "left = 702103.278184\n",
    "bottom = 5.369496e+06\n",
    "right = 708926.081779\n",
    "top = 5.375959e+06"
   ]
  },
  {
   "cell_type": "code",
   "execution_count": 44,
   "id": "5a158931",
   "metadata": {},
   "outputs": [],
   "source": [
    "# bottom = bounds[0] \n",
    "# left = bounds[1] \n",
    "# top = bounds[2]\n",
    "# right = bounds[3]"
   ]
  },
  {
   "cell_type": "code",
   "execution_count": 45,
   "id": "c592244c",
   "metadata": {},
   "outputs": [
    {
     "data": {
      "text/plain": [
       "<matplotlib.collections.PathCollection at 0x7f8dece7f910>"
      ]
     },
     "execution_count": 45,
     "metadata": {},
     "output_type": "execute_result"
    },
    {
     "data": {
      "image/png": "[encoded data removed]",
      "text/plain": [
       "<Figure size 432x288 with 1 Axes>"
      ]
     },
     "metadata": {
      "needs_background": "light"
     },
     "output_type": "display_data"
    }
   ],
   "source": [
    "fig, ax = plt.subplots()\n",
    "ax.scatter(left[0], left[1], c = 'b')\n",
    "ax.scatter(bottom[0], bottom[1], c = 'r')\n",
    "ax.scatter(right[0], right[1], c = 'g')\n",
    "ax.scatter(top[0], top[1], c = 'k')"
   ]
  },
  {
   "cell_type": "code",
   "execution_count": 32,
   "id": "9c3168cb",
   "metadata": {},
   "outputs": [
    {
     "name": "stdout",
     "output_type": "stream",
     "text": [
      "Window bounds:  (702103.278184, 5369496.0, 708926.0817790001, 5375959.0)\n",
      "Window extent:  [702103.278184, 708926.0817790001, 5369496.0, 5375959.0]\n"
     ]
    }
   ],
   "source": [
    "#Define window bounds\n",
    "window = rasterio.windows.from_bounds(left, bottom, right, top, transform = src_proj.transform)\n",
    "window_bounds = rasterio.windows.bounds(window, transform = src_proj.transform)\n",
    "print(\"Window bounds: \", window_bounds)\n",
    "#Define window extent\n",
    "window_extent = [window_bounds[0], window_bounds[2], window_bounds[1], window_bounds[3]]\n",
    "print(\"Window extent: \", window_extent)"
   ]
  },
  {
   "cell_type": "code",
   "execution_count": 52,
   "id": "23beb76b",
   "metadata": {},
   "outputs": [
    {
     "ename": "UnsupportedOperation",
     "evalue": "not readable",
     "output_type": "error",
     "traceback": [
      "\u001b[0;31m---------------------------------------------------------------------------\u001b[0m",
      "\u001b[0;31mUnsupportedOperation\u001b[0m                      Traceback (most recent call last)",
      "\u001b[0;32m<ipython-input-52-0c89978400af>\u001b[0m in \u001b[0;36m<module>\u001b[0;34m\u001b[0m\n\u001b[1;32m      8\u001b[0m              \u001b[0mcrs\u001b[0m \u001b[0;34m=\u001b[0m \u001b[0msrc\u001b[0m\u001b[0;34m.\u001b[0m\u001b[0mcrs\u001b[0m\u001b[0;34m,\u001b[0m\u001b[0;34m\u001b[0m\u001b[0;34m\u001b[0m\u001b[0m\n\u001b[1;32m      9\u001b[0m              transform = src.transform) as src:\n\u001b[0;32m---> 10\u001b[0;31m     \u001b[0ma\u001b[0m \u001b[0;34m=\u001b[0m \u001b[0msrc\u001b[0m\u001b[0;34m.\u001b[0m\u001b[0mread\u001b[0m\u001b[0;34m(\u001b[0m\u001b[0;36m1\u001b[0m\u001b[0;34m,\u001b[0m \u001b[0mwindow\u001b[0m\u001b[0;34m=\u001b[0m\u001b[0mwindow\u001b[0m\u001b[0;34m)\u001b[0m \u001b[0;31m# , masked = True\u001b[0m\u001b[0;34m\u001b[0m\u001b[0;34m\u001b[0m\u001b[0m\n\u001b[0m\u001b[1;32m     11\u001b[0m     \u001b[0ma\u001b[0m\u001b[0;34m.\u001b[0m\u001b[0mwrite\u001b[0m\u001b[0;34m(\u001b[0m\u001b[0;36m1\u001b[0m\u001b[0;34m)\u001b[0m\u001b[0;34m\u001b[0m\u001b[0;34m\u001b[0m\u001b[0m\n",
      "\u001b[0;32mrasterio/_io.pyx\u001b[0m in \u001b[0;36mrasterio._io.DatasetReaderBase.read\u001b[0;34m()\u001b[0m\n",
      "\u001b[0;31mUnsupportedOperation\u001b[0m: not readable"
     ]
    }
   ],
   "source": [
    "with rio.open('../../datasetsA/methow_basin_2018/dtm/raw/methow_basin_2018_dtm_combined_32610_1m.tif', \n",
    "            'w', \n",
    "             driver='GTiff',\n",
    "             height = src.height,\n",
    "             width = src.width,\n",
    "             count = 1,\n",
    "             dtype = a.dtype,\n",
    "             crs = src.crs,\n",
    "             transform = src.transform) as src:\n",
    "    a = src.read(1, window=window) # , masked = True\n",
    "    a.write(1)"
   ]
  },
  {
   "cell_type": "code",
   "execution_count": 39,
   "id": "b05fc7ab",
   "metadata": {},
   "outputs": [
    {
     "data": {
      "image/png": "[encoded data removed]",
      "text/plain": [
       "<Figure size 432x288 with 2 Axes>"
      ]
     },
     "metadata": {
      "needs_background": "light"
     },
     "output_type": "display_data"
    }
   ],
   "source": [
    "f,ax = plt.subplots()\n",
    "plt.imshow(a, cmap='gray', extent=window_extent)\n",
    "plt.colorbar()\n",
    "ax.add_artist(ScaleBar(1));"
   ]
  },
  {
   "cell_type": "code",
   "execution_count": 40,
   "id": "e51c14b6",
   "metadata": {},
   "outputs": [
    {
     "data": {
      "text/plain": [
       "numpy.ndarray"
      ]
     },
     "execution_count": 40,
     "metadata": {},
     "output_type": "execute_result"
    }
   ],
   "source": [
    "type(a)"
   ]
  },
  {
   "cell_type": "code",
   "execution_count": 45,
   "id": "2da855ee",
   "metadata": {},
   "outputs": [
    {
     "data": {
      "text/plain": [
       "59756"
      ]
     },
     "execution_count": 45,
     "metadata": {},
     "output_type": "execute_result"
    }
   ],
   "source": [
    "src.width"
   ]
  },
  {
   "cell_type": "code",
   "execution_count": 49,
   "id": "6b24a36a",
   "metadata": {},
   "outputs": [
    {
     "data": {
      "text/plain": [
       "dtype('float32')"
      ]
     },
     "execution_count": 49,
     "metadata": {},
     "output_type": "execute_result"
    }
   ],
   "source": [
    "a.dtype"
   ]
  },
  {
   "cell_type": "code",
   "execution_count": 51,
   "id": "af1522b4",
   "metadata": {},
   "outputs": [
    {
     "ename": "AttributeError",
     "evalue": "'DatasetReader' object has no attribute 'dtype'",
     "output_type": "error",
     "traceback": [
      "\u001b[0;31m---------------------------------------------------------------------------\u001b[0m",
      "\u001b[0;31mAttributeError\u001b[0m                            Traceback (most recent call last)",
      "\u001b[0;32m<ipython-input-51-655048b3aae9>\u001b[0m in \u001b[0;36m<module>\u001b[0;34m\u001b[0m\n\u001b[0;32m----> 1\u001b[0;31m \u001b[0msrc\u001b[0m\u001b[0;34m.\u001b[0m\u001b[0mdtype\u001b[0m\u001b[0;34m(\u001b[0m\u001b[0;34m)\u001b[0m\u001b[0;34m\u001b[0m\u001b[0;34m\u001b[0m\u001b[0m\n\u001b[0m",
      "\u001b[0;31mAttributeError\u001b[0m: 'DatasetReader' object has no attribute 'dtype'"
     ]
    }
   ],
   "source": [
    "src.dtype()"
   ]
  },
  {
   "cell_type": "code",
   "execution_count": null,
   "id": "86f067a1",
   "metadata": {},
   "outputs": [],
   "source": []
  }
 ],
 "metadata": {
  "kernelspec": {
   "display_name": "Python 3",
   "language": "python",
   "name": "python3"
  },
  "language_info": {
   "codemirror_mode": {
    "name": "ipython",
    "version": 3
   },
   "file_extension": ".py",
   "mimetype": "text/x-python",
   "name": "python",
   "nbconvert_exporter": "python",
   "pygments_lexer": "ipython3",
   "version": "3.8.10"
  }
 },
 "nbformat": 4,
 "nbformat_minor": 5
}
