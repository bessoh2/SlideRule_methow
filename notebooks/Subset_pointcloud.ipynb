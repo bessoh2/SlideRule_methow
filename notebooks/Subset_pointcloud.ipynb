{
 "cells": [
  {
   "cell_type": "markdown",
   "id": "bb0ee9d6",
   "metadata": {},
   "source": [
    "# Subset the IS2 and Lidar data for point cloud alignment"
   ]
  },
  {
   "cell_type": "code",
   "execution_count": 1,
   "id": "10f104fe",
   "metadata": {},
   "outputs": [],
   "source": [
    "import os\n",
    "import numpy as np\n",
    "import pandas as pd\n",
    "import geopandas as gpd\n",
    "import matplotlib.pyplot as plt\n",
    "import contextily as cx\n",
    "from matplotlib_scalebar.scalebar import ScaleBar\n",
    "from astropy.time import Time\n",
    "from datetime import datetime"
   ]
  },
  {
   "cell_type": "code",
   "execution_count": null,
   "id": "c0a2f9a1",
   "metadata": {},
   "outputs": [],
   "source": []
  }
 ],
 "metadata": {
  "kernelspec": {
   "display_name": "Python 3",
   "language": "python",
   "name": "python3"
  },
  "language_info": {
   "codemirror_mode": {
    "name": "ipython",
    "version": 3
   },
   "file_extension": ".py",
   "mimetype": "text/x-python",
   "name": "python",
   "nbconvert_exporter": "python",
   "pygments_lexer": "ipython3",
   "version": "3.8.10"
  }
 },
 "nbformat": 4,
 "nbformat_minor": 5
}
