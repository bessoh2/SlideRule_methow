{
 "cells": [
  {
   "cell_type": "markdown",
   "id": "e4bcbe50",
   "metadata": {},
   "source": [
    "## Create a polygon around the extent of the lidar study area  \n",
    "Code adapted from David Shean's GM_analysis notebook"
   ]
  },
  {
   "cell_type": "markdown",
   "id": "79441464",
   "metadata": {},
   "source": [
    "Load a reduced resolution overview for processing  \n",
    "Assumes overviews have already been generated with `gdaladdo -r gauss`"
   ]
  },
  {
   "cell_type": "code",
   "execution_count": null,
   "id": "6f187cfd",
   "metadata": {},
   "outputs": [],
   "source": [
    "import os\n",
    "import numpy as np\n",
    "import pandas as pd\n",
    "import geopandas as gpd\n",
    "import matplotlib.pyplot as plt\n",
    "import contextily as cx\n",
    "from matplotlib_scalebar.scalebar import ScaleBar\n",
    "from astropy.time import Time\n",
    "from datetime import datetime\n",
    "import rasterio as rio\n",
    "from rasterio import features\n",
    "import rioxarray"
   ]
  },
  {
   "cell_type": "code",
   "execution_count": null,
   "id": "2785547a",
   "metadata": {},
   "outputs": [],
   "source": [
    "%matplotlib inline"
   ]
  },
  {
   "cell_type": "code",
   "execution_count": null,
   "id": "50a23a3c",
   "metadata": {},
   "outputs": [],
   "source": [
    "#Add DOY and DOWY column\n",
    "def add_dowy(df, col=None):\n",
    "    print(\"Adding Day of Water Year (DOWY)\")\n",
    "    if col is None:\n",
    "        df['doy'] = df.index.dayofyear\n",
    "        df['decyear'] = Time(df.index).decimalyear\n",
    "    else:\n",
    "        df['doy'] = pd.to_datetime(df[col]).dt.dayofyear\n",
    "        df['decyear'] = Time(pd.to_datetime(df[col])).decimalyear\n",
    "    \n",
    "    #df['dowy'] = (df['doy'].index - pd.DateOffset(months=9)).dayofyear\n",
    "    # Sept 30 is doy 273\n",
    "    df['dowy'] = df['doy'] - 273\n",
    "    df.loc[df['dowy'] <= 0, 'dowy'] += 365"
   ]
  },
  {
   "cell_type": "code",
   "execution_count": null,
   "id": "3c7ca62d",
   "metadata": {},
   "outputs": [],
   "source": [
    "dnr_fn = './datasetsA/methow_basin_2018/dtm/raw/methow_basin_2018_dtm_combined_asp-adj_4326.tif'"
   ]
  },
  {
   "cell_type": "code",
   "execution_count": null,
   "id": "c1589523",
   "metadata": {},
   "outputs": [],
   "source": [
    "# I only have one lidar file, so I pulled this code out of the for loop that was\n",
    "# written by David Shean in his GrandMesa_analysis notebook.\n",
    "\n",
    "dnr_feat_list = []\n",
    "#ovr_scale = 8\n",
    "dt_fieldnum = 4\n",
    "src = rio.open(dnr_fn)\n",
    "a = src.read(1, masked=True)\n",
    "mask = np.ma.getmaskarray(a).astype(np.uint8) - 1\n",
    "shapes = features.shapes(mask, mask=mask, transform=src.transform)\n",
    "geom_list = list(shapes)\n",
    "dt = os.path.splitext(os.path.split(dnr_fn)[-1])[0].split('_')[dt_fieldnum]\n",
    "dnr_feat_list.extend([{'properties':{'fn':dnr_fn, 'date':'2018'}, 'geometry':i[0]} for i in geom_list])"
   ]
  },
  {
   "cell_type": "code",
   "execution_count": null,
   "id": "18f831da",
   "metadata": {},
   "outputs": [],
   "source": [
    "dnr_gdf = gpd.GeoDataFrame.from_features(dnr_feat_list, crs=src.crs)"
   ]
  },
  {
   "cell_type": "code",
   "execution_count": null,
   "id": "60623070",
   "metadata": {},
   "outputs": [],
   "source": [
    "dnr_gdf"
   ]
  },
  {
   "cell_type": "code",
   "execution_count": null,
   "id": "03cf01ac",
   "metadata": {},
   "outputs": [],
   "source": [
    "#remove tiny polygons, if using a crs with units in meters (not degrees)\n",
    "# area_thresh = 1e8\n",
    "# dnr_gdf = dnr_gdf.loc[dnr_gdf.area > area_thresh]"
   ]
  },
  {
   "cell_type": "code",
   "execution_count": null,
   "id": "09d823bf",
   "metadata": {},
   "outputs": [],
   "source": [
    "# if the above area threshold isn't big enough (or doesn't work because of the crs)\n",
    "dnr_gdf = dnr_gdf.drop([0,1,2])"
   ]
  },
  {
   "cell_type": "code",
   "execution_count": null,
   "id": "818224d0",
   "metadata": {},
   "outputs": [],
   "source": [
    "dnr_gdf.plot(alpha=0.1, edgecolor='k', legend=True)"
   ]
  },
  {
   "cell_type": "code",
   "execution_count": null,
   "id": "73144615",
   "metadata": {},
   "outputs": [],
   "source": [
    "dnr_gdf['date'] = pd.to_datetime(dnr_gdf['date'])\n",
    "add_dowy(dnr_gdf, col='date')\n",
    "dnr_gdf['platform'] = 'WaDNR'\n",
    "dnr_gdf['acqdate'] = dnr_gdf['date']\n",
    "dnr_gdf.set_index('date', inplace=True)"
   ]
  },
  {
   "cell_type": "code",
   "execution_count": null,
   "id": "5751f967",
   "metadata": {},
   "outputs": [],
   "source": [
    "dnr_gdf.to_file('methow_outline.geojson', driver='GeoJSON')"
   ]
  }
 ],
 "metadata": {
  "kernelspec": {
   "display_name": "Python 3",
   "language": "python",
   "name": "python3"
  },
  "language_info": {
   "codemirror_mode": {
    "name": "ipython",
    "version": 3
   },
   "file_extension": ".py",
   "mimetype": "text/x-python",
   "name": "python",
   "nbconvert_exporter": "python",
   "pygments_lexer": "ipython3",
   "version": "3.8.10"
  }
 },
 "nbformat": 4,
 "nbformat_minor": 5
}
