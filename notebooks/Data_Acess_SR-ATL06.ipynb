{
 "cells": [
  {
   "cell_type": "markdown",
   "id": "4ce139ad",
   "metadata": {},
   "source": [
    "# Data Access\n",
    "\n",
    "Taken from a notebook created by Tyler Sutterly for the 2022 ICESat-2 Hackweek, put on by the e-science institute at UW.  \n",
    "\n",
    "Install new version of sliderule:  \n",
    "\"But if you do a **git pull** in your sliderule-python repo and then to a **python setup.py install**, it should resolve the issue.\"  \n",
    "https://icesat-2sliderule.slack.com/archives/CTW2ESWFP/p1638199956016000"
   ]
  },
  {
   "cell_type": "code",
   "execution_count": 1,
   "id": "95256825",
   "metadata": {},
   "outputs": [],
   "source": [
    "import os\n",
    "import geopandas as gpd\n",
    "import ipyleaflet\n",
    "import ipywidgets as widgets\n",
    "import logging\n",
    "#import panel as pn\n",
    "#pn.extension()\n",
    "import matplotlib.lines\n",
    "import matplotlib.colors as colors\n",
    "import matplotlib.gridspec as gridspec\n",
    "import matplotlib.pyplot as plt\n",
    "from mpl_toolkits.axes_grid1.inset_locator import inset_axes\n",
    "import numpy as np\n",
    "from shapely.geometry import Polygon\n",
    "import warnings\n",
    "# grimp and nisar functions\n",
    "#import grimpfunc as grimp\n",
    "#import nisardev as nisar\n",
    "# sliderule functions\n",
    "import sliderule.icesat2\n",
    "import sliderule.io\n",
    "import sliderule.ipysliderule\n",
    "import pandas as pd\n",
    "from datetime import datetime\n",
    "import pickle\n",
    "# register progress bar and set workers\n",
    "#ProgressBar().register()\n",
    "#dask.config.set(num_workers=2)\n",
    "# turn off warnings for demo\n",
    "warnings.filterwarnings('ignore')"
   ]
  },
  {
   "cell_type": "code",
   "execution_count": 2,
   "id": "818ce376",
   "metadata": {},
   "outputs": [],
   "source": [
    "%matplotlib inline"
   ]
  },
  {
   "cell_type": "code",
   "execution_count": 3,
   "id": "b84a5a92",
   "metadata": {},
   "outputs": [],
   "source": [
    "# set the url for the sliderule service\n",
    "# set the logging level\n",
    "sliderule.icesat2.init(\"icesat2sliderule.org\", loglevel=logging.WARNING)"
   ]
  },
  {
   "cell_type": "code",
   "execution_count": 6,
   "id": "42ca06c3",
   "metadata": {},
   "outputs": [
    {
     "data": {
      "text/plain": [
       "\u001b[0;31mType:\u001b[0m        module\n",
       "\u001b[0;31mString form:\u001b[0m <module 'sliderule.ipysliderule' from '/Users/Hannah/opt/miniconda3/envs/sliderule/lib/python3.8/site-packages/sliderule-1.4.2-py3.8.egg/sliderule/ipysliderule.py'>\n",
       "\u001b[0;31mFile:\u001b[0m        ~/opt/miniconda3/envs/sliderule/lib/python3.8/site-packages/sliderule-1.4.2-py3.8.egg/sliderule/ipysliderule.py\n",
       "\u001b[0;31mDocstring:\u001b[0m   <no docstring>\n"
      ]
     },
     "metadata": {},
     "output_type": "display_data"
    }
   ],
   "source": [
    "sliderule.ipysliderule?"
   ]
  },
  {
   "cell_type": "code",
   "execution_count": 9,
   "id": "c2457f88-480e-44ca-8db3-5db5073d6f92",
   "metadata": {},
   "outputs": [
    {
     "data": {
      "text/plain": [
       "\u001b[0;31mType:\u001b[0m           FloatSlider\n",
       "\u001b[0;31mString form:\u001b[0m    FloatSlider(value=20.0, continuous_update=False, description='Spread:', description_tooltip='Spread: minimum along track spread for valid segments in meters', min=1.0, readout_format='0.1f')\n",
       "\u001b[0;31mFile:\u001b[0m           ~/opt/miniconda3/envs/sliderule/lib/python3.8/site-packages/ipywidgets/widgets/widget_float.py\n",
       "\u001b[0;31mDocstring:\u001b[0m     \n",
       "Slider/trackbar of floating values with the specified range.\n",
       "\n",
       "Parameters\n",
       "----------\n",
       "value : float\n",
       "    position of the slider\n",
       "min : float\n",
       "    minimal position of the slider\n",
       "max : float\n",
       "    maximal position of the slider\n",
       "step : float\n",
       "    step of the trackbar\n",
       "description : str\n",
       "    name of the slider\n",
       "orientation : {'horizontal', 'vertical'}\n",
       "    default is 'horizontal', orientation of the slider\n",
       "readout : {True, False}\n",
       "    default is True, display the current value of the slider next to it\n",
       "readout_format : str\n",
       "    default is '.2f', specifier for the format function used to represent\n",
       "    slider value for human consumption, modeled after Python 3's format\n",
       "    specification mini-language (PEP 3101).\n",
       "\u001b[0;31mInit docstring:\u001b[0m Public constructor\n"
      ]
     },
     "metadata": {},
     "output_type": "display_data"
    }
   ],
   "source": [
    "SRwidgets.spread?"
   ]
  },
  {
   "cell_type": "code",
   "execution_count": 8,
   "id": "626961c0",
   "metadata": {},
   "outputs": [
    {
     "data": {
      "application/vnd.jupyter.widget-view+json": {
       "model_id": "c17d4d4ab3b74152b1282ceffd2340dd",
       "version_major": 2,
       "version_minor": 0
      },
      "text/plain": [
       "VBox(children=(Dropdown(description='Asset:', description_tooltip='Asset: Location for SlideRule to get the da…"
      ]
     },
     "metadata": {},
     "output_type": "display_data"
    }
   ],
   "source": [
    "# display widgets for setting SlideRule parameters\n",
    "SRwidgets = sliderule.ipysliderule.widgets()\n",
    "# show widgets\n",
    "widgets.VBox([\n",
    "    SRwidgets.asset,\n",
    "    SRwidgets.release,\n",
    "    SRwidgets.surface_type,\n",
    "    SRwidgets.length,\n",
    "    SRwidgets.step,\n",
    "    SRwidgets.confidence,\n",
    "    SRwidgets.land_class,\n",
    "    SRwidgets.iteration,\n",
    "    SRwidgets.spread,\n",
    "    SRwidgets.count,\n",
    "    SRwidgets.window,\n",
    "    SRwidgets.sigma\n",
    "])"
   ]
  },
  {
   "cell_type": "code",
   "execution_count": 48,
   "id": "b6f3ef57",
   "metadata": {},
   "outputs": [
    {
     "data": {
      "application/vnd.jupyter.widget-view+json": {
       "model_id": "04e1a7bc59604408abeaafb0fdd825ca",
       "version_major": 2,
       "version_minor": 0
      },
      "text/plain": [
       "VBox(children=(Dropdown(description='Projection:', description_tooltip='Projection: leaflet map projection\\n\\t…"
      ]
     },
     "metadata": {},
     "output_type": "display_data"
    }
   ],
   "source": [
    "widgets.VBox([SRwidgets.projection, SRwidgets.layers])"
   ]
  },
  {
   "cell_type": "code",
   "execution_count": 55,
   "id": "590527be",
   "metadata": {},
   "outputs": [],
   "source": [
    "# should use the pickle version once I create it.\n",
    "methow = '../../data/site_outlines/methow_outline_4326.pkl'"
   ]
  },
  {
   "cell_type": "code",
   "execution_count": 56,
   "id": "2ac4eeee",
   "metadata": {},
   "outputs": [
    {
     "data": {
      "text/html": [
       "<div>\n",
       "<style scoped>\n",
       "    .dataframe tbody tr th:only-of-type {\n",
       "        vertical-align: middle;\n",
       "    }\n",
       "\n",
       "    .dataframe tbody tr th {\n",
       "        vertical-align: top;\n",
       "    }\n",
       "\n",
       "    .dataframe thead th {\n",
       "        text-align: right;\n",
       "    }\n",
       "</style>\n",
       "<table border=\"1\" class=\"dataframe\">\n",
       "  <thead>\n",
       "    <tr style=\"text-align: right;\">\n",
       "      <th></th>\n",
       "      <th>fn</th>\n",
       "      <th>date</th>\n",
       "      <th>geometry</th>\n",
       "    </tr>\n",
       "  </thead>\n",
       "  <tbody>\n",
       "    <tr>\n",
       "      <th>3</th>\n",
       "      <td>./datasetsA/methow_basin_2018/dtm/raw/methow_b...</td>\n",
       "      <td>2018</td>\n",
       "      <td>POLYGON ((-120.33042 48.80903, -120.33042 48.8...</td>\n",
       "    </tr>\n",
       "  </tbody>\n",
       "</table>\n",
       "</div>"
      ],
      "text/plain": [
       "                                                  fn  date  \\\n",
       "3  ./datasetsA/methow_basin_2018/dtm/raw/methow_b...  2018   \n",
       "\n",
       "                                            geometry  \n",
       "3  POLYGON ((-120.33042 48.80903, -120.33042 48.8...  "
      ]
     },
     "execution_count": 56,
     "metadata": {},
     "output_type": "execute_result"
    }
   ],
   "source": [
    "polygon_gdf = pickle.load(open(methow, 'rb'))\n",
    "polygon_gdf.head()"
   ]
  },
  {
   "cell_type": "code",
   "execution_count": 57,
   "id": "640e88ec-ecc1-47f8-8229-8dd6ed570cbe",
   "metadata": {},
   "outputs": [
    {
     "data": {
      "text/plain": [
       "<AxesSubplot:>"
      ]
     },
     "execution_count": 57,
     "metadata": {},
     "output_type": "execute_result"
    },
    {
     "data": {
      "image/png": "[encoded data removed]",
      "text/plain": [
       "<Figure size 432x288 with 1 Axes>"
      ]
     },
     "metadata": {
      "needs_background": "light"
     },
     "output_type": "display_data"
    }
   ],
   "source": [
    "polygon_gdf.plot()"
   ]
  },
  {
   "cell_type": "code",
   "execution_count": 58,
   "id": "bcdebb5c",
   "metadata": {},
   "outputs": [
    {
     "data": {
      "text/plain": [
       "<Geographic 2D CRS: EPSG:4326>\n",
       "Name: WGS 84\n",
       "Axis Info [ellipsoidal]:\n",
       "- Lat[north]: Geodetic latitude (degree)\n",
       "- Lon[east]: Geodetic longitude (degree)\n",
       "Area of Use:\n",
       "- name: World.\n",
       "- bounds: (-180.0, -90.0, 180.0, 90.0)\n",
       "Datum: World Geodetic System 1984 ensemble\n",
       "- Ellipsoid: WGS 84\n",
       "- Prime Meridian: Greenwich"
      ]
     },
     "execution_count": 58,
     "metadata": {},
     "output_type": "execute_result"
    }
   ],
   "source": [
    "polygon_gdf.crs"
   ]
  },
  {
   "cell_type": "code",
   "execution_count": 59,
   "id": "afbdd322",
   "metadata": {},
   "outputs": [
    {
     "data": {
      "application/vnd.jupyter.widget-view+json": {
       "model_id": "e791e5b026f64986b20a97a87ee0ca77",
       "version_major": 2,
       "version_minor": 0
      },
      "text/plain": [
       "Map(center=[39, -108], controls=(ZoomControl(options=['position', 'zoom_in_text', 'zoom_in_title', 'zoom_out_t…"
      ]
     },
     "metadata": {},
     "output_type": "display_data"
    }
   ],
   "source": [
    "# create ipyleaflet map in specified projection\n",
    "m = sliderule.ipysliderule.leaflet(SRwidgets.projection.value)\n",
    "m.add_layer(layers=SRwidgets.layers.value)\n",
    "\n",
    "# Comment this section out if you want to draw your own polygon!\n",
    "# ---\n",
    "#box = shapely.geometry.Polygon([(-108.3,38.9), (-108.0,38.9), (-108.0,39.1), (-108.3, 39.1)])\n",
    "#geobox = gpd.GeoDataFrame(geometry=[box], crs='EPSG:4326')\n",
    "default_polygon = sliderule.io.from_geodataframe(polygon_gdf)\n",
    "geodata = ipyleaflet.GeoData(geo_dataframe=polygon_gdf)\n",
    "m.map.add_layer(geodata)\n",
    "# ---\n",
    "\n",
    "m.map"
   ]
  },
  {
   "cell_type": "code",
   "execution_count": 60,
   "id": "dda71c97",
   "metadata": {},
   "outputs": [],
   "source": [
    "#%%time\n",
    "# sliderule asset and data release\n",
    "asset = SRwidgets.asset.value\n",
    "release = SRwidgets.release.value\n",
    "\n",
    "# build sliderule parameters using latest values from widget\n",
    "params = {\n",
    "    # surface type: 0-land, 1-ocean, 2-sea ice, 3-land ice, 4-inland water\n",
    "    \"srt\": SRwidgets.surface_type.index,\n",
    "    # length of ATL06-SR segment in meters\n",
    "    \"len\": SRwidgets.length.value,\n",
    "    # step distance for successive ATL06-SR segments in meters\n",
    "    \"res\": SRwidgets.step.value,\n",
    "    # confidence level for PE selection\n",
    "    \"cnf\": SRwidgets.confidence.value,\n",
    "    # ATL08 land surface classifications\n",
    "    \"atl08_class\": list(SRwidgets.land_class.value),\n",
    "    # maximum iterations, not including initial least-squares-fit selection\n",
    "    \"maxi\": SRwidgets.iteration.value,\n",
    "    # minimum along track spread\n",
    "    \"ats\": SRwidgets.spread.value,\n",
    "    # minimum PE count\n",
    "    \"cnt\": SRwidgets.count.value,\n",
    "    # minimum height of PE window in meters\n",
    "    \"H_min_win\": SRwidgets.window.value,\n",
    "    # maximum robust dispersion in meters\n",
    "    \"sigma_r_max\": SRwidgets.sigma.value\n",
    "}\n",
    "\n",
    "region = sliderule.icesat2.toregion(polygon_gdf)\n",
    "params[\"poly\"] = region[\"poly\"]   # will always be the convex hull of the polygon\n",
    "params[\"raster\"] = region[\"raster\"]   # raster will include all vertices, including holes. This is more processing, but is only an issue with very large requests.\n",
    "gdf = sliderule.icesat2.atl06p(params, asset, version=release)"
   ]
  },
  {
   "cell_type": "code",
   "execution_count": 61,
   "id": "6674334f",
   "metadata": {},
   "outputs": [
    {
     "name": "stdout",
     "output_type": "stream",
     "text": [
      "Returned 148886 records\n"
     ]
    },
    {
     "data": {
      "text/html": [
       "<div>\n",
       "<style scoped>\n",
       "    .dataframe tbody tr th:only-of-type {\n",
       "        vertical-align: middle;\n",
       "    }\n",
       "\n",
       "    .dataframe tbody tr th {\n",
       "        vertical-align: top;\n",
       "    }\n",
       "\n",
       "    .dataframe thead th {\n",
       "        text-align: right;\n",
       "    }\n",
       "</style>\n",
       "<table border=\"1\" class=\"dataframe\">\n",
       "  <thead>\n",
       "    <tr style=\"text-align: right;\">\n",
       "      <th></th>\n",
       "      <th>pflags</th>\n",
       "      <th>h_mean</th>\n",
       "      <th>dh_fit_dy</th>\n",
       "      <th>spot</th>\n",
       "      <th>w_surface_window_final</th>\n",
       "      <th>h_sigma</th>\n",
       "      <th>distance</th>\n",
       "      <th>segment_id</th>\n",
       "      <th>dh_fit_dx</th>\n",
       "      <th>rgt</th>\n",
       "      <th>cycle</th>\n",
       "      <th>delta_time</th>\n",
       "      <th>gt</th>\n",
       "      <th>n_fit_photons</th>\n",
       "      <th>rms_misfit</th>\n",
       "      <th>geometry</th>\n",
       "    </tr>\n",
       "    <tr>\n",
       "      <th>time</th>\n",
       "      <th></th>\n",
       "      <th></th>\n",
       "      <th></th>\n",
       "      <th></th>\n",
       "      <th></th>\n",
       "      <th></th>\n",
       "      <th></th>\n",
       "      <th></th>\n",
       "      <th></th>\n",
       "      <th></th>\n",
       "      <th></th>\n",
       "      <th></th>\n",
       "      <th></th>\n",
       "      <th></th>\n",
       "      <th></th>\n",
       "      <th></th>\n",
       "    </tr>\n",
       "  </thead>\n",
       "  <tbody>\n",
       "    <tr>\n",
       "      <th>2018-11-09 22:09:43.662511060</th>\n",
       "      <td>0</td>\n",
       "      <td>774.110259</td>\n",
       "      <td>0.0</td>\n",
       "      <td>5</td>\n",
       "      <td>9.386548</td>\n",
       "      <td>0.079705</td>\n",
       "      <td>5.382001e+06</td>\n",
       "      <td>268398</td>\n",
       "      <td>0.367318</td>\n",
       "      <td>646</td>\n",
       "      <td>1</td>\n",
       "      <td>2.703658e+07</td>\n",
       "      <td>20</td>\n",
       "      <td>41</td>\n",
       "      <td>0.506044</td>\n",
       "      <td>POINT (-120.00053 48.33917)</td>\n",
       "    </tr>\n",
       "    <tr>\n",
       "      <th>2018-11-09 22:09:43.789049908</th>\n",
       "      <td>0</td>\n",
       "      <td>919.941824</td>\n",
       "      <td>0.0</td>\n",
       "      <td>5</td>\n",
       "      <td>3.000000</td>\n",
       "      <td>0.050617</td>\n",
       "      <td>5.382903e+06</td>\n",
       "      <td>268443</td>\n",
       "      <td>0.028568</td>\n",
       "      <td>646</td>\n",
       "      <td>1</td>\n",
       "      <td>2.703658e+07</td>\n",
       "      <td>20</td>\n",
       "      <td>42</td>\n",
       "      <td>0.305572</td>\n",
       "      <td>POINT (-120.00167 48.34723)</td>\n",
       "    </tr>\n",
       "    <tr>\n",
       "      <th>2018-11-09 22:09:43.794872008</th>\n",
       "      <td>0</td>\n",
       "      <td>918.460968</td>\n",
       "      <td>0.0</td>\n",
       "      <td>5</td>\n",
       "      <td>3.029108</td>\n",
       "      <td>0.046853</td>\n",
       "      <td>5.382943e+06</td>\n",
       "      <td>268445</td>\n",
       "      <td>-0.116342</td>\n",
       "      <td>646</td>\n",
       "      <td>1</td>\n",
       "      <td>2.703658e+07</td>\n",
       "      <td>20</td>\n",
       "      <td>31</td>\n",
       "      <td>0.240537</td>\n",
       "      <td>POINT (-120.00172 48.34760)</td>\n",
       "    </tr>\n",
       "    <tr>\n",
       "      <th>2018-11-09 22:09:43.797684372</th>\n",
       "      <td>0</td>\n",
       "      <td>916.399163</td>\n",
       "      <td>0.0</td>\n",
       "      <td>5</td>\n",
       "      <td>3.000000</td>\n",
       "      <td>0.059160</td>\n",
       "      <td>5.382963e+06</td>\n",
       "      <td>268446</td>\n",
       "      <td>-0.091024</td>\n",
       "      <td>646</td>\n",
       "      <td>1</td>\n",
       "      <td>2.703658e+07</td>\n",
       "      <td>20</td>\n",
       "      <td>39</td>\n",
       "      <td>0.325805</td>\n",
       "      <td>POINT (-120.00174 48.34778)</td>\n",
       "    </tr>\n",
       "    <tr>\n",
       "      <th>2018-11-09 22:09:43.800494952</th>\n",
       "      <td>0</td>\n",
       "      <td>915.721672</td>\n",
       "      <td>0.0</td>\n",
       "      <td>5</td>\n",
       "      <td>3.000000</td>\n",
       "      <td>0.038990</td>\n",
       "      <td>5.382983e+06</td>\n",
       "      <td>268447</td>\n",
       "      <td>-0.027886</td>\n",
       "      <td>646</td>\n",
       "      <td>1</td>\n",
       "      <td>2.703658e+07</td>\n",
       "      <td>20</td>\n",
       "      <td>40</td>\n",
       "      <td>0.245902</td>\n",
       "      <td>POINT (-120.00177 48.34796)</td>\n",
       "    </tr>\n",
       "  </tbody>\n",
       "</table>\n",
       "</div>"
      ],
      "text/plain": [
       "                               pflags      h_mean  dh_fit_dy  spot  \\\n",
       "time                                                                 \n",
       "2018-11-09 22:09:43.662511060       0  774.110259        0.0     5   \n",
       "2018-11-09 22:09:43.789049908       0  919.941824        0.0     5   \n",
       "2018-11-09 22:09:43.794872008       0  918.460968        0.0     5   \n",
       "2018-11-09 22:09:43.797684372       0  916.399163        0.0     5   \n",
       "2018-11-09 22:09:43.800494952       0  915.721672        0.0     5   \n",
       "\n",
       "                               w_surface_window_final   h_sigma      distance  \\\n",
       "time                                                                            \n",
       "2018-11-09 22:09:43.662511060                9.386548  0.079705  5.382001e+06   \n",
       "2018-11-09 22:09:43.789049908                3.000000  0.050617  5.382903e+06   \n",
       "2018-11-09 22:09:43.794872008                3.029108  0.046853  5.382943e+06   \n",
       "2018-11-09 22:09:43.797684372                3.000000  0.059160  5.382963e+06   \n",
       "2018-11-09 22:09:43.800494952                3.000000  0.038990  5.382983e+06   \n",
       "\n",
       "                               segment_id  dh_fit_dx  rgt  cycle  \\\n",
       "time                                                               \n",
       "2018-11-09 22:09:43.662511060      268398   0.367318  646      1   \n",
       "2018-11-09 22:09:43.789049908      268443   0.028568  646      1   \n",
       "2018-11-09 22:09:43.794872008      268445  -0.116342  646      1   \n",
       "2018-11-09 22:09:43.797684372      268446  -0.091024  646      1   \n",
       "2018-11-09 22:09:43.800494952      268447  -0.027886  646      1   \n",
       "\n",
       "                                 delta_time  gt  n_fit_photons  rms_misfit  \\\n",
       "time                                                                         \n",
       "2018-11-09 22:09:43.662511060  2.703658e+07  20             41    0.506044   \n",
       "2018-11-09 22:09:43.789049908  2.703658e+07  20             42    0.305572   \n",
       "2018-11-09 22:09:43.794872008  2.703658e+07  20             31    0.240537   \n",
       "2018-11-09 22:09:43.797684372  2.703658e+07  20             39    0.325805   \n",
       "2018-11-09 22:09:43.800494952  2.703658e+07  20             40    0.245902   \n",
       "\n",
       "                                                  geometry  \n",
       "time                                                        \n",
       "2018-11-09 22:09:43.662511060  POINT (-120.00053 48.33917)  \n",
       "2018-11-09 22:09:43.789049908  POINT (-120.00167 48.34723)  \n",
       "2018-11-09 22:09:43.794872008  POINT (-120.00172 48.34760)  \n",
       "2018-11-09 22:09:43.797684372  POINT (-120.00174 48.34778)  \n",
       "2018-11-09 22:09:43.800494952  POINT (-120.00177 48.34796)  "
      ]
     },
     "execution_count": 61,
     "metadata": {},
     "output_type": "execute_result"
    }
   ],
   "source": [
    "print(f'Returned {gdf.shape[0]} records')\n",
    "gdf.head()"
   ]
  },
  {
   "cell_type": "code",
   "execution_count": 62,
   "id": "f303dedd-c453-4a78-a45b-e5ee4f1c8358",
   "metadata": {},
   "outputs": [],
   "source": [
    "out_fn = '../../data/methow_all_sr-atl06-10182022.pkl'\n",
    "\n",
    "with open(out_fn, 'wb') as f:\n",
    "    pickle.dump(gdf, f)"
   ]
  },
  {
   "cell_type": "markdown",
   "id": "c380e894",
   "metadata": {},
   "source": [
    "#### Create plots for a single track"
   ]
  },
  {
   "cell_type": "code",
   "execution_count": null,
   "id": "66ad60f9",
   "metadata": {},
   "outputs": [],
   "source": [
    "# selection for reference ground track\n",
    "RGTs = [str(int(x)) for x in gdf.rgt.unique()]\n",
    "SRwidgets.rgt = widgets.Dropdown(\n",
    "    options=RGTs,\n",
    "    value=RGTs[1], # You can change this with the pull-down widget below!\n",
    "    description=\"RGT:\",\n",
    "    description_tooltip=\"RGT: Reference Ground Track to plot\",\n",
    "    disabled=False\n",
    ")\n",
    "\n",
    "# selection for ground track\n",
    "ground_track_options = [\"gt1l\",\"gt1r\",\"gt2l\",\"gt2r\",\"gt3l\",\"gt3r\"]\n",
    "SRwidgets.ground_track = widgets.Dropdown(\n",
    "    options=ground_track_options,\n",
    "    value='gt1l',\n",
    "    description=\"Track:\",\n",
    "    description_tooltip=\"Track: Ground Track to plot\",\n",
    "    disabled=False\n",
    ")      \n",
    "widgets.VBox([\n",
    "    SRwidgets.rgt,\n",
    "    SRwidgets.ground_track,\n",
    "])"
   ]
  },
  {
   "cell_type": "code",
   "execution_count": null,
   "id": "6842e48e",
   "metadata": {},
   "outputs": [],
   "source": []
  },
  {
   "cell_type": "code",
   "execution_count": null,
   "id": "af683bbc",
   "metadata": {},
   "outputs": [],
   "source": []
  }
 ],
 "metadata": {
  "kernelspec": {
   "display_name": "Python 3 (ipykernel)",
   "language": "python",
   "name": "python3"
  },
  "language_info": {
   "codemirror_mode": {
    "name": "ipython",
    "version": 3
   },
   "file_extension": ".py",
   "mimetype": "text/x-python",
   "name": "python",
   "nbconvert_exporter": "python",
   "pygments_lexer": "ipython3",
   "version": "3.8.13"
  }
 },
 "nbformat": 4,
 "nbformat_minor": 5
}
