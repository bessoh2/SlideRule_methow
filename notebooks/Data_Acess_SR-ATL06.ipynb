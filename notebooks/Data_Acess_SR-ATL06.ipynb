{
 "cells": [
  {
   "cell_type": "markdown",
   "id": "3635ac4b",
   "metadata": {},
   "source": [
    "# Data Access\n",
    "\n",
    "Taken from a notebook created by Tyler Sutterly for the 2022 ICESat-2 Hackweek, put on by the e-science institute at UW.  \n",
    "\n",
    "Install new version of sliderule:  \n",
    "\"But if you do a **git pull** in your sliderule-python repo and then to a **python setup.py install**, it should resolve the issue.\"  \n",
    "https://icesat-2sliderule.slack.com/archives/CTW2ESWFP/p1638199956016000"
   ]
  },
  {
   "cell_type": "code",
   "execution_count": 1,
   "id": "df29be73",
   "metadata": {},
   "outputs": [],
   "source": [
    "import os\n",
    "import geopandas as gpd\n",
    "import ipyleaflet\n",
    "import ipywidgets as widgets\n",
    "import logging\n",
    "#import panel as pn\n",
    "#pn.extension()\n",
    "import matplotlib.lines\n",
    "import matplotlib.colors as colors\n",
    "import matplotlib.gridspec as gridspec\n",
    "import matplotlib.pyplot as plt\n",
    "from mpl_toolkits.axes_grid1.inset_locator import inset_axes\n",
    "import numpy as np\n",
    "from shapely.geometry import Polygon\n",
    "import warnings\n",
    "# grimp and nisar functions\n",
    "#import grimpfunc as grimp\n",
    "#import nisardev as nisar\n",
    "# sliderule functions\n",
    "import sliderule.icesat2\n",
    "import sliderule.io\n",
    "import sliderule.ipysliderule\n",
    "import pandas as pd\n",
    "from datetime import datetime\n",
    "# register progress bar and set workers\n",
    "#ProgressBar().register()\n",
    "#dask.config.set(num_workers=2)\n",
    "# turn off warnings for demo\n",
    "warnings.filterwarnings('ignore')"
   ]
  },
  {
   "cell_type": "code",
   "execution_count": 2,
   "id": "38d6ccf5",
   "metadata": {},
   "outputs": [],
   "source": [
    "%matplotlib inline"
   ]
  },
  {
   "cell_type": "code",
   "execution_count": 3,
   "id": "27f9ab4d",
   "metadata": {},
   "outputs": [],
   "source": [
    "# set the url for the sliderule service\n",
    "# set the logging level\n",
    "sliderule.icesat2.init(\"icesat2sliderule.org\", loglevel=logging.WARNING)"
   ]
  },
  {
   "cell_type": "code",
   "execution_count": 4,
   "id": "0d83e5ea",
   "metadata": {},
   "outputs": [
    {
     "name": "stdout",
     "output_type": "stream",
     "text": [
      "Object `SRwidgets` not found.\n"
     ]
    }
   ],
   "source": [
    "SRwidgets?"
   ]
  },
  {
   "cell_type": "code",
   "execution_count": 5,
   "id": "d2e44923",
   "metadata": {},
   "outputs": [
    {
     "data": {
      "application/vnd.jupyter.widget-view+json": {
       "model_id": "1dd22b2f822e40a6acf06fa27b9b2477",
       "version_major": 2,
       "version_minor": 0
      },
      "text/plain": [
       "VBox(children=(Dropdown(description='Asset:', description_tooltip='Asset: Location for SlideRule to get the da…"
      ]
     },
     "metadata": {},
     "output_type": "display_data"
    }
   ],
   "source": [
    "# display widgets for setting SlideRule parameters\n",
    "SRwidgets = sliderule.ipysliderule.widgets()\n",
    "# show widgets\n",
    "widgets.VBox([\n",
    "    SRwidgets.asset,\n",
    "    SRwidgets.release,\n",
    "    SRwidgets.surface_type,\n",
    "    SRwidgets.length,\n",
    "    SRwidgets.step,\n",
    "    SRwidgets.confidence,\n",
    "    SRwidgets.land_class,\n",
    "    SRwidgets.iteration,\n",
    "    SRwidgets.spread,\n",
    "    SRwidgets.count,\n",
    "    SRwidgets.window,\n",
    "    SRwidgets.sigma\n",
    "])"
   ]
  },
  {
   "cell_type": "code",
   "execution_count": 6,
   "id": "029f1484",
   "metadata": {},
   "outputs": [
    {
     "data": {
      "application/vnd.jupyter.widget-view+json": {
       "model_id": "c3064ec46d5c4273bb35e091b3f05f9c",
       "version_major": 2,
       "version_minor": 0
      },
      "text/plain": [
       "VBox(children=(Dropdown(description='Projection:', description_tooltip='Projection: leaflet map projection\\n\\t…"
      ]
     },
     "metadata": {},
     "output_type": "display_data"
    }
   ],
   "source": [
    "widgets.VBox([SRwidgets.projection, SRwidgets.layers])"
   ]
  },
  {
   "cell_type": "code",
   "execution_count": 7,
   "id": "a8a97a53",
   "metadata": {},
   "outputs": [
    {
     "data": {
      "text/html": [
       "<div>\n",
       "<style scoped>\n",
       "    .dataframe tbody tr th:only-of-type {\n",
       "        vertical-align: middle;\n",
       "    }\n",
       "\n",
       "    .dataframe tbody tr th {\n",
       "        vertical-align: top;\n",
       "    }\n",
       "\n",
       "    .dataframe thead th {\n",
       "        text-align: right;\n",
       "    }\n",
       "</style>\n",
       "<table border=\"1\" class=\"dataframe\">\n",
       "  <thead>\n",
       "    <tr style=\"text-align: right;\">\n",
       "      <th></th>\n",
       "      <th>geometry</th>\n",
       "    </tr>\n",
       "  </thead>\n",
       "  <tbody>\n",
       "    <tr>\n",
       "      <th>0</th>\n",
       "      <td>POLYGON ((-108.26134 39.05972, -108.25516 39.0...</td>\n",
       "    </tr>\n",
       "  </tbody>\n",
       "</table>\n",
       "</div>"
      ],
      "text/plain": [
       "                                            geometry\n",
       "0  POLYGON ((-108.26134 39.05972, -108.25516 39.0..."
      ]
     },
     "execution_count": 7,
     "metadata": {},
     "output_type": "execute_result"
    }
   ],
   "source": [
    "polygon_gdf = gpd.read_file('../data/gm_west2.geojson', crs='epsg:4326')\n",
    "polygon_gdf.head()"
   ]
  },
  {
   "cell_type": "code",
   "execution_count": 7,
   "id": "4fd4f7ab",
   "metadata": {},
   "outputs": [
    {
     "data": {
      "text/plain": [
       "<Geographic 2D CRS: EPSG:4326>\n",
       "Name: WGS 84\n",
       "Axis Info [ellipsoidal]:\n",
       "- Lat[north]: Geodetic latitude (degree)\n",
       "- Lon[east]: Geodetic longitude (degree)\n",
       "Area of Use:\n",
       "- name: World.\n",
       "- bounds: (-180.0, -90.0, 180.0, 90.0)\n",
       "Datum: World Geodetic System 1984 ensemble\n",
       "- Ellipsoid: WGS 84\n",
       "- Prime Meridian: Greenwich"
      ]
     },
     "execution_count": 7,
     "metadata": {},
     "output_type": "execute_result"
    }
   ],
   "source": [
    "polygon_gdf.crs"
   ]
  },
  {
   "cell_type": "code",
   "execution_count": 8,
   "id": "6cf7ee10",
   "metadata": {},
   "outputs": [
    {
     "data": {
      "text/plain": [
       "<AxesSubplot:>"
      ]
     },
     "execution_count": 8,
     "metadata": {},
     "output_type": "execute_result"
    },
    {
     "data": {
      "image/png": "[encoded data removed]",
      "text/plain": [
       "<Figure size 432x288 with 1 Axes>"
      ]
     },
     "metadata": {
      "needs_background": "light"
     },
     "output_type": "display_data"
    }
   ],
   "source": [
    "polygon_gdf[0:].plot()"
   ]
  },
  {
   "cell_type": "code",
   "execution_count": 29,
   "id": "91115055-e378-4ece-8419-697f137d7bc7",
   "metadata": {},
   "outputs": [
    {
     "data": {
      "text/plain": [
       "0    Polygon\n",
       "dtype: object"
      ]
     },
     "execution_count": 29,
     "metadata": {},
     "output_type": "execute_result"
    }
   ],
   "source": [
    "polygon_gdf.type"
   ]
  },
  {
   "cell_type": "code",
   "execution_count": 8,
   "id": "e638fdc5",
   "metadata": {},
   "outputs": [
    {
     "data": {
      "application/vnd.jupyter.widget-view+json": {
       "model_id": "4c3c59465f144fb999507576577ae66b",
       "version_major": 2,
       "version_minor": 0
      },
      "text/plain": [
       "Map(center=[39, -108], controls=(ZoomControl(options=['position', 'zoom_in_text', 'zoom_in_title', 'zoom_out_t…"
      ]
     },
     "metadata": {},
     "output_type": "display_data"
    }
   ],
   "source": [
    "# create ipyleaflet map in specified projection\n",
    "m = sliderule.ipysliderule.leaflet(SRwidgets.projection.value)\n",
    "m.add_layer(layers=SRwidgets.layers.value)\n",
    "\n",
    "# Comment this section out if you want to draw your own polygon!\n",
    "# ---\n",
    "#box = shapely.geometry.Polygon([(-108.3,38.9), (-108.0,38.9), (-108.0,39.1), (-108.3, 39.1)])\n",
    "#geobox = gpd.GeoDataFrame(geometry=[box], crs='EPSG:4326')\n",
    "default_polygon = sliderule.io.from_geodataframe(polygon_gdf[0:])\n",
    "geodata = ipyleaflet.GeoData(geo_dataframe=polygon_gdf[0:])\n",
    "m.map.add_layer(geodata)\n",
    "# ---\n",
    "\n",
    "m.map"
   ]
  },
  {
   "cell_type": "code",
   "execution_count": 9,
   "id": "61d87b44",
   "metadata": {},
   "outputs": [],
   "source": [
    "#%%time\n",
    "# sliderule asset and data release\n",
    "asset = SRwidgets.asset.value\n",
    "release = SRwidgets.release.value\n",
    "\n",
    "# build sliderule parameters using latest values from widget\n",
    "params = {\n",
    "    # surface type: 0-land, 1-ocean, 2-sea ice, 3-land ice, 4-inland water\n",
    "    \"srt\": SRwidgets.surface_type.index,\n",
    "    # length of ATL06-SR segment in meters\n",
    "    \"len\": SRwidgets.length.value,\n",
    "    # step distance for successive ATL06-SR segments in meters\n",
    "    \"res\": SRwidgets.step.value,\n",
    "    # confidence level for PE selection\n",
    "    \"cnf\": SRwidgets.confidence.value,\n",
    "    # ATL08 land surface classifications\n",
    "    \"atl08_class\": list(SRwidgets.land_class.value),\n",
    "    # maximum iterations, not including initial least-squares-fit selection\n",
    "    \"maxi\": SRwidgets.iteration.value,\n",
    "    # minimum along track spread\n",
    "    \"ats\": SRwidgets.spread.value,\n",
    "    # minimum PE count\n",
    "    \"cnt\": SRwidgets.count.value,\n",
    "    # minimum height of PE window in meters\n",
    "    \"H_min_win\": SRwidgets.window.value,\n",
    "    # maximum robust dispersion in meters\n",
    "    \"sigma_r_max\": SRwidgets.sigma.value\n",
    "}\n",
    "\n",
    "region = sliderule.icesat2.toregion(polygon_gdf)\n",
    "params[\"poly\"] = region[\"poly\"]   # will always be the convex hull of the polygon\n",
    "params[\"raster\"] = region[\"raster\"]   # raster will include all vertices, including holes. This is more processing, but is only an issue with very large requests.\n",
    "gdf = sliderule.icesat2.atl06p(params, asset, version=release)"
   ]
  },
  {
   "cell_type": "code",
   "execution_count": 10,
   "id": "9537928a",
   "metadata": {},
   "outputs": [
    {
     "name": "stdout",
     "output_type": "stream",
     "text": [
      "Returned 11850 records\n"
     ]
    },
    {
     "data": {
      "text/html": [
       "<div>\n",
       "<style scoped>\n",
       "    .dataframe tbody tr th:only-of-type {\n",
       "        vertical-align: middle;\n",
       "    }\n",
       "\n",
       "    .dataframe tbody tr th {\n",
       "        vertical-align: top;\n",
       "    }\n",
       "\n",
       "    .dataframe thead th {\n",
       "        text-align: right;\n",
       "    }\n",
       "</style>\n",
       "<table border=\"1\" class=\"dataframe\">\n",
       "  <thead>\n",
       "    <tr style=\"text-align: right;\">\n",
       "      <th></th>\n",
       "      <th>rms_misfit</th>\n",
       "      <th>rgt</th>\n",
       "      <th>n_fit_photons</th>\n",
       "      <th>spot</th>\n",
       "      <th>delta_time</th>\n",
       "      <th>distance</th>\n",
       "      <th>w_surface_window_final</th>\n",
       "      <th>h_mean</th>\n",
       "      <th>cycle</th>\n",
       "      <th>h_sigma</th>\n",
       "      <th>dh_fit_dy</th>\n",
       "      <th>pflags</th>\n",
       "      <th>dh_fit_dx</th>\n",
       "      <th>segment_id</th>\n",
       "      <th>gt</th>\n",
       "      <th>geometry</th>\n",
       "    </tr>\n",
       "    <tr>\n",
       "      <th>time</th>\n",
       "      <th></th>\n",
       "      <th></th>\n",
       "      <th></th>\n",
       "      <th></th>\n",
       "      <th></th>\n",
       "      <th></th>\n",
       "      <th></th>\n",
       "      <th></th>\n",
       "      <th></th>\n",
       "      <th></th>\n",
       "      <th></th>\n",
       "      <th></th>\n",
       "      <th></th>\n",
       "      <th></th>\n",
       "      <th></th>\n",
       "      <th></th>\n",
       "    </tr>\n",
       "  </thead>\n",
       "  <tbody>\n",
       "    <tr>\n",
       "      <th>2018-11-15 21:07:35.507301452</th>\n",
       "      <td>0.141154</td>\n",
       "      <td>737</td>\n",
       "      <td>34</td>\n",
       "      <td>6</td>\n",
       "      <td>2.755126e+07</td>\n",
       "      <td>4.338665e+06</td>\n",
       "      <td>3.0</td>\n",
       "      <td>2980.594716</td>\n",
       "      <td>1</td>\n",
       "      <td>0.025316</td>\n",
       "      <td>0.0</td>\n",
       "      <td>0</td>\n",
       "      <td>0.009144</td>\n",
       "      <td>216346</td>\n",
       "      <td>10</td>\n",
       "      <td>POINT (-108.11390 38.99189)</td>\n",
       "    </tr>\n",
       "    <tr>\n",
       "      <th>2018-11-15 21:07:35.510113648</th>\n",
       "      <td>0.163428</td>\n",
       "      <td>737</td>\n",
       "      <td>20</td>\n",
       "      <td>6</td>\n",
       "      <td>2.755126e+07</td>\n",
       "      <td>4.338685e+06</td>\n",
       "      <td>3.0</td>\n",
       "      <td>2980.577977</td>\n",
       "      <td>1</td>\n",
       "      <td>0.043345</td>\n",
       "      <td>0.0</td>\n",
       "      <td>0</td>\n",
       "      <td>-0.002196</td>\n",
       "      <td>216347</td>\n",
       "      <td>10</td>\n",
       "      <td>POINT (-108.11392 38.99207)</td>\n",
       "    </tr>\n",
       "    <tr>\n",
       "      <th>2018-11-15 21:07:35.512926608</th>\n",
       "      <td>0.141337</td>\n",
       "      <td>737</td>\n",
       "      <td>38</td>\n",
       "      <td>6</td>\n",
       "      <td>2.755126e+07</td>\n",
       "      <td>4.338705e+06</td>\n",
       "      <td>3.0</td>\n",
       "      <td>2980.610419</td>\n",
       "      <td>1</td>\n",
       "      <td>0.029030</td>\n",
       "      <td>0.0</td>\n",
       "      <td>0</td>\n",
       "      <td>-0.000247</td>\n",
       "      <td>216348</td>\n",
       "      <td>10</td>\n",
       "      <td>POINT (-108.11394 38.99225)</td>\n",
       "    </tr>\n",
       "    <tr>\n",
       "      <th>2018-11-15 21:07:35.515740568</th>\n",
       "      <td>0.118160</td>\n",
       "      <td>737</td>\n",
       "      <td>47</td>\n",
       "      <td>6</td>\n",
       "      <td>2.755126e+07</td>\n",
       "      <td>4.338725e+06</td>\n",
       "      <td>3.0</td>\n",
       "      <td>2980.507371</td>\n",
       "      <td>1</td>\n",
       "      <td>0.019512</td>\n",
       "      <td>0.0</td>\n",
       "      <td>0</td>\n",
       "      <td>-0.013711</td>\n",
       "      <td>216349</td>\n",
       "      <td>10</td>\n",
       "      <td>POINT (-108.11396 38.99243)</td>\n",
       "    </tr>\n",
       "    <tr>\n",
       "      <th>2018-11-15 21:07:35.639730580</th>\n",
       "      <td>0.167408</td>\n",
       "      <td>737</td>\n",
       "      <td>84</td>\n",
       "      <td>4</td>\n",
       "      <td>2.755126e+07</td>\n",
       "      <td>4.339708e+06</td>\n",
       "      <td>3.0</td>\n",
       "      <td>3181.441404</td>\n",
       "      <td>1</td>\n",
       "      <td>0.026280</td>\n",
       "      <td>0.0</td>\n",
       "      <td>0</td>\n",
       "      <td>-0.033441</td>\n",
       "      <td>216398</td>\n",
       "      <td>30</td>\n",
       "      <td>POINT (-108.07846 39.00397)</td>\n",
       "    </tr>\n",
       "  </tbody>\n",
       "</table>\n",
       "</div>"
      ],
      "text/plain": [
       "                               rms_misfit  rgt  n_fit_photons  spot  \\\n",
       "time                                                                  \n",
       "2018-11-15 21:07:35.507301452    0.141154  737             34     6   \n",
       "2018-11-15 21:07:35.510113648    0.163428  737             20     6   \n",
       "2018-11-15 21:07:35.512926608    0.141337  737             38     6   \n",
       "2018-11-15 21:07:35.515740568    0.118160  737             47     6   \n",
       "2018-11-15 21:07:35.639730580    0.167408  737             84     4   \n",
       "\n",
       "                                 delta_time      distance  \\\n",
       "time                                                        \n",
       "2018-11-15 21:07:35.507301452  2.755126e+07  4.338665e+06   \n",
       "2018-11-15 21:07:35.510113648  2.755126e+07  4.338685e+06   \n",
       "2018-11-15 21:07:35.512926608  2.755126e+07  4.338705e+06   \n",
       "2018-11-15 21:07:35.515740568  2.755126e+07  4.338725e+06   \n",
       "2018-11-15 21:07:35.639730580  2.755126e+07  4.339708e+06   \n",
       "\n",
       "                               w_surface_window_final       h_mean  cycle  \\\n",
       "time                                                                        \n",
       "2018-11-15 21:07:35.507301452                     3.0  2980.594716      1   \n",
       "2018-11-15 21:07:35.510113648                     3.0  2980.577977      1   \n",
       "2018-11-15 21:07:35.512926608                     3.0  2980.610419      1   \n",
       "2018-11-15 21:07:35.515740568                     3.0  2980.507371      1   \n",
       "2018-11-15 21:07:35.639730580                     3.0  3181.441404      1   \n",
       "\n",
       "                                h_sigma  dh_fit_dy  pflags  dh_fit_dx  \\\n",
       "time                                                                    \n",
       "2018-11-15 21:07:35.507301452  0.025316        0.0       0   0.009144   \n",
       "2018-11-15 21:07:35.510113648  0.043345        0.0       0  -0.002196   \n",
       "2018-11-15 21:07:35.512926608  0.029030        0.0       0  -0.000247   \n",
       "2018-11-15 21:07:35.515740568  0.019512        0.0       0  -0.013711   \n",
       "2018-11-15 21:07:35.639730580  0.026280        0.0       0  -0.033441   \n",
       "\n",
       "                               segment_id  gt                     geometry  \n",
       "time                                                                        \n",
       "2018-11-15 21:07:35.507301452      216346  10  POINT (-108.11390 38.99189)  \n",
       "2018-11-15 21:07:35.510113648      216347  10  POINT (-108.11392 38.99207)  \n",
       "2018-11-15 21:07:35.512926608      216348  10  POINT (-108.11394 38.99225)  \n",
       "2018-11-15 21:07:35.515740568      216349  10  POINT (-108.11396 38.99243)  \n",
       "2018-11-15 21:07:35.639730580      216398  30  POINT (-108.07846 39.00397)  "
      ]
     },
     "execution_count": 10,
     "metadata": {},
     "output_type": "execute_result"
    }
   ],
   "source": [
    "print(f'Returned {gdf.shape[0]} records')\n",
    "gdf.head()"
   ]
  },
  {
   "cell_type": "code",
   "execution_count": 23,
   "id": "f50c630a",
   "metadata": {},
   "outputs": [],
   "source": [
    "#gdf.time = pd.DatetimeIndex(gdf.time)\n",
    "#gdf = gdf.set_index(['time'])\n",
    "gdf.sort_index(inplace=True)\n",
    "gdf['acqdate'] = gdf.index.date\n",
    "gdf['acqdate_string'] = gdf['acqdate'].apply(lambda x: datetime.strftime(x, '%Y-%m-%d'))"
   ]
  },
  {
   "cell_type": "code",
   "execution_count": 25,
   "id": "113a4da8",
   "metadata": {},
   "outputs": [
    {
     "data": {
      "text/html": [
       "<div>\n",
       "<style scoped>\n",
       "    .dataframe tbody tr th:only-of-type {\n",
       "        vertical-align: middle;\n",
       "    }\n",
       "\n",
       "    .dataframe tbody tr th {\n",
       "        vertical-align: top;\n",
       "    }\n",
       "\n",
       "    .dataframe thead th {\n",
       "        text-align: right;\n",
       "    }\n",
       "</style>\n",
       "<table border=\"1\" class=\"dataframe\">\n",
       "  <thead>\n",
       "    <tr style=\"text-align: right;\">\n",
       "      <th></th>\n",
       "      <th>distance</th>\n",
       "      <th>rgt</th>\n",
       "      <th>gt</th>\n",
       "      <th>spot</th>\n",
       "      <th>segment_id</th>\n",
       "      <th>pflags</th>\n",
       "      <th>delta_time</th>\n",
       "      <th>cycle</th>\n",
       "      <th>rms_misfit</th>\n",
       "      <th>w_surface_window_final</th>\n",
       "      <th>h_sigma</th>\n",
       "      <th>h_mean</th>\n",
       "      <th>n_fit_photons</th>\n",
       "      <th>dh_fit_dy</th>\n",
       "      <th>dh_fit_dx</th>\n",
       "      <th>geometry</th>\n",
       "      <th>acqdate</th>\n",
       "      <th>acqdate_string</th>\n",
       "    </tr>\n",
       "    <tr>\n",
       "      <th>time</th>\n",
       "      <th></th>\n",
       "      <th></th>\n",
       "      <th></th>\n",
       "      <th></th>\n",
       "      <th></th>\n",
       "      <th></th>\n",
       "      <th></th>\n",
       "      <th></th>\n",
       "      <th></th>\n",
       "      <th></th>\n",
       "      <th></th>\n",
       "      <th></th>\n",
       "      <th></th>\n",
       "      <th></th>\n",
       "      <th></th>\n",
       "      <th></th>\n",
       "      <th></th>\n",
       "      <th></th>\n",
       "    </tr>\n",
       "  </thead>\n",
       "  <tbody>\n",
       "    <tr>\n",
       "      <th>2018-11-15 21:07:35.507301452</th>\n",
       "      <td>4.338665e+06</td>\n",
       "      <td>737</td>\n",
       "      <td>10</td>\n",
       "      <td>6</td>\n",
       "      <td>216346</td>\n",
       "      <td>0</td>\n",
       "      <td>2.755126e+07</td>\n",
       "      <td>1</td>\n",
       "      <td>0.141154</td>\n",
       "      <td>3.0</td>\n",
       "      <td>0.025316</td>\n",
       "      <td>2980.594716</td>\n",
       "      <td>34</td>\n",
       "      <td>0.0</td>\n",
       "      <td>0.009144</td>\n",
       "      <td>POINT (-108.11390 38.99189)</td>\n",
       "      <td>2018-11-15</td>\n",
       "      <td>2018-11-15</td>\n",
       "    </tr>\n",
       "    <tr>\n",
       "      <th>2018-11-15 21:07:35.510113648</th>\n",
       "      <td>4.338685e+06</td>\n",
       "      <td>737</td>\n",
       "      <td>10</td>\n",
       "      <td>6</td>\n",
       "      <td>216347</td>\n",
       "      <td>0</td>\n",
       "      <td>2.755126e+07</td>\n",
       "      <td>1</td>\n",
       "      <td>0.163428</td>\n",
       "      <td>3.0</td>\n",
       "      <td>0.043345</td>\n",
       "      <td>2980.577977</td>\n",
       "      <td>20</td>\n",
       "      <td>0.0</td>\n",
       "      <td>-0.002196</td>\n",
       "      <td>POINT (-108.11392 38.99207)</td>\n",
       "      <td>2018-11-15</td>\n",
       "      <td>2018-11-15</td>\n",
       "    </tr>\n",
       "  </tbody>\n",
       "</table>\n",
       "</div>"
      ],
      "text/plain": [
       "                                   distance  rgt  gt  spot  segment_id  \\\n",
       "time                                                                     \n",
       "2018-11-15 21:07:35.507301452  4.338665e+06  737  10     6      216346   \n",
       "2018-11-15 21:07:35.510113648  4.338685e+06  737  10     6      216347   \n",
       "\n",
       "                               pflags    delta_time  cycle  rms_misfit  \\\n",
       "time                                                                     \n",
       "2018-11-15 21:07:35.507301452       0  2.755126e+07      1    0.141154   \n",
       "2018-11-15 21:07:35.510113648       0  2.755126e+07      1    0.163428   \n",
       "\n",
       "                               w_surface_window_final   h_sigma       h_mean  \\\n",
       "time                                                                           \n",
       "2018-11-15 21:07:35.507301452                     3.0  0.025316  2980.594716   \n",
       "2018-11-15 21:07:35.510113648                     3.0  0.043345  2980.577977   \n",
       "\n",
       "                               n_fit_photons  dh_fit_dy  dh_fit_dx  \\\n",
       "time                                                                 \n",
       "2018-11-15 21:07:35.507301452             34        0.0   0.009144   \n",
       "2018-11-15 21:07:35.510113648             20        0.0  -0.002196   \n",
       "\n",
       "                                                  geometry     acqdate  \\\n",
       "time                                                                     \n",
       "2018-11-15 21:07:35.507301452  POINT (-108.11390 38.99189)  2018-11-15   \n",
       "2018-11-15 21:07:35.510113648  POINT (-108.11392 38.99207)  2018-11-15   \n",
       "\n",
       "                              acqdate_string  \n",
       "time                                          \n",
       "2018-11-15 21:07:35.507301452     2018-11-15  \n",
       "2018-11-15 21:07:35.510113648     2018-11-15  "
      ]
     },
     "execution_count": 25,
     "metadata": {},
     "output_type": "execute_result"
    }
   ],
   "source": [
    "gdf.head(2)"
   ]
  },
  {
   "cell_type": "code",
   "execution_count": 32,
   "id": "6d0ffec9-083a-4057-93a8-b838ef3fa772",
   "metadata": {},
   "outputs": [
    {
     "data": {
      "text/plain": [
       "array([datetime.date(2018, 11, 15), datetime.date(2018, 12, 13),\n",
       "       datetime.date(2019, 7, 17), datetime.date(2019, 9, 11),\n",
       "       datetime.date(2019, 11, 14), datetime.date(2020, 2, 12),\n",
       "       datetime.date(2020, 3, 11), datetime.date(2020, 4, 14),\n",
       "       datetime.date(2020, 5, 13), datetime.date(2020, 6, 10),\n",
       "       datetime.date(2020, 7, 14), datetime.date(2020, 8, 12),\n",
       "       datetime.date(2020, 11, 11), datetime.date(2020, 12, 8),\n",
       "       datetime.date(2021, 3, 9), datetime.date(2021, 5, 12),\n",
       "       datetime.date(2021, 8, 10), datetime.date(2021, 9, 7),\n",
       "       datetime.date(2021, 10, 11), datetime.date(2022, 2, 8)],\n",
       "      dtype=object)"
      ]
     },
     "execution_count": 32,
     "metadata": {},
     "output_type": "execute_result"
    }
   ],
   "source": [
    "gdf.acqdate.unique()"
   ]
  },
  {
   "cell_type": "code",
   "execution_count": 25,
   "id": "74b5a5c1",
   "metadata": {},
   "outputs": [],
   "source": [
    "gdf['elev_plus'] = gdf['h_mean'] + 1"
   ]
  },
  {
   "cell_type": "code",
   "execution_count": 33,
   "id": "03598a66",
   "metadata": {},
   "outputs": [
    {
     "data": {
      "application/vnd.jupyter.widget-view+json": {
       "model_id": "5950f9e4cdb64166ac73b41e9a931ba6",
       "version_major": 2,
       "version_minor": 0
      },
      "text/plain": [
       "VBox(children=(Dropdown(description='Variable:', description_tooltip='Variable: variable to display on leaflet…"
      ]
     },
     "metadata": {},
     "output_type": "display_data"
    }
   ],
   "source": [
    "widgets.VBox([\n",
    "    SRwidgets.variable,\n",
    "    SRwidgets.cmap,\n",
    "    SRwidgets.reverse,\n",
    "])"
   ]
  },
  {
   "cell_type": "code",
   "execution_count": 19,
   "id": "a894fa84-8673-43cb-a690-a31348e08287",
   "metadata": {},
   "outputs": [
    {
     "data": {
      "application/vnd.jupyter.widget-view+json": {
       "model_id": "588fb9f463b948adb9217bc208d59045",
       "version_major": 2,
       "version_minor": 0
      },
      "text/plain": [
       "DatePicker(value=None, description='Pick a Date')"
      ]
     },
     "metadata": {},
     "output_type": "display_data"
    }
   ],
   "source": [
    "widgets.DatePicker(\n",
    "    description='Pick a Date',\n",
    "    disabled=False\n",
    ")\n"
   ]
  },
  {
   "cell_type": "code",
   "execution_count": 28,
   "id": "01bf4569-511f-4650-9c8e-3c6bab09f973",
   "metadata": {},
   "outputs": [
    {
     "data": {
      "application/vnd.jupyter.widget-view+json": {
       "model_id": "2009675b8d0b4a65bd1d7ef38a031dc2",
       "version_major": 2,
       "version_minor": 0
      },
      "text/plain": [
       "SelectionRangeSlider(description='Dates', index=(0, 1207), layout=Layout(width='500px'), options=((' 10 Nov 20…"
      ]
     },
     "metadata": {},
     "output_type": "display_data"
    }
   ],
   "source": [
    "start_date = datetime(2018, 11, 10)\n",
    "end_date = datetime(2022, 3, 1)\n",
    "\n",
    "dates = pd.date_range(start_date, end_date, freq='D')\n",
    "\n",
    "options = [(date.strftime(' %d %b %Y '), date) for date in dates]\n",
    "index = (0, len(options)-1)\n",
    "\n",
    "selection_range_slider = widgets.SelectionRangeSlider(\n",
    "    options=options,\n",
    "    index=index,\n",
    "    description='Dates',\n",
    "    orientation='horizontal',\n",
    "    layout={'width': '500px'}\n",
    ")\n",
    "\n",
    "selection_range_slider\n"
   ]
  },
  {
   "cell_type": "code",
   "execution_count": 21,
   "id": "27dd9868-c4c6-4090-9eee-580aa00a3cf5",
   "metadata": {},
   "outputs": [
    {
     "data": {
      "text/plain": [
       "\u001b[0;31mType:\u001b[0m        widgets\n",
       "\u001b[0;31mString form:\u001b[0m <sliderule.ipysliderule.widgets object at 0x7fa0e982b6a0>\n",
       "\u001b[0;31mFile:\u001b[0m        ~/opt/miniconda3/envs/sliderule/lib/python3.8/site-packages/sliderule-1.4.2-py3.8.egg/sliderule/ipysliderule.py\n",
       "\u001b[0;31mDocstring:\u001b[0m   <no docstring>\n"
      ]
     },
     "metadata": {},
     "output_type": "display_data"
    }
   ],
   "source": [
    "SRwidgets."
   ]
  },
  {
   "cell_type": "code",
   "execution_count": 30,
   "id": "bcf1ea56",
   "metadata": {},
   "outputs": [
    {
     "ename": "ValueError",
     "evalue": "Can't clean for JSON: datetime.date(2018, 11, 15)",
     "output_type": "error",
     "traceback": [
      "\u001b[0;31m---------------------------------------------------------------------------\u001b[0m",
      "\u001b[0;31mTypeError\u001b[0m                                 Traceback (most recent call last)",
      "File \u001b[0;32m~/opt/miniconda3/envs/sliderule/lib/python3.8/site-packages/jupyter_client/session.py:99\u001b[0m, in \u001b[0;36mjson_packer\u001b[0;34m(obj)\u001b[0m\n\u001b[1;32m     98\u001b[0m \u001b[38;5;28;01mtry\u001b[39;00m:\n\u001b[0;32m---> 99\u001b[0m     \u001b[38;5;28;01mreturn\u001b[39;00m \u001b[43mjson\u001b[49m\u001b[38;5;241;43m.\u001b[39;49m\u001b[43mdumps\u001b[49m\u001b[43m(\u001b[49m\n\u001b[1;32m    100\u001b[0m \u001b[43m        \u001b[49m\u001b[43mobj\u001b[49m\u001b[43m,\u001b[49m\n\u001b[1;32m    101\u001b[0m \u001b[43m        \u001b[49m\u001b[43mdefault\u001b[49m\u001b[38;5;241;43m=\u001b[39;49m\u001b[43mjson_default\u001b[49m\u001b[43m,\u001b[49m\n\u001b[1;32m    102\u001b[0m \u001b[43m        \u001b[49m\u001b[43mensure_ascii\u001b[49m\u001b[38;5;241;43m=\u001b[39;49m\u001b[38;5;28;43;01mFalse\u001b[39;49;00m\u001b[43m,\u001b[49m\n\u001b[1;32m    103\u001b[0m \u001b[43m        \u001b[49m\u001b[43mallow_nan\u001b[49m\u001b[38;5;241;43m=\u001b[39;49m\u001b[38;5;28;43;01mFalse\u001b[39;49;00m\u001b[43m,\u001b[49m\n\u001b[1;32m    104\u001b[0m \u001b[43m    \u001b[49m\u001b[43m)\u001b[49m\u001b[38;5;241m.\u001b[39mencode(\u001b[38;5;124m\"\u001b[39m\u001b[38;5;124mutf8\u001b[39m\u001b[38;5;124m\"\u001b[39m, errors\u001b[38;5;241m=\u001b[39m\u001b[38;5;124m\"\u001b[39m\u001b[38;5;124msurrogateescape\u001b[39m\u001b[38;5;124m\"\u001b[39m)\n\u001b[1;32m    105\u001b[0m \u001b[38;5;28;01mexcept\u001b[39;00m (\u001b[38;5;167;01mTypeError\u001b[39;00m, \u001b[38;5;167;01mValueError\u001b[39;00m) \u001b[38;5;28;01mas\u001b[39;00m e:\n\u001b[1;32m    106\u001b[0m     \u001b[38;5;66;03m# Fallback to trying to clean the json before serializing\u001b[39;00m\n",
      "File \u001b[0;32m~/opt/miniconda3/envs/sliderule/lib/python3.8/json/__init__.py:234\u001b[0m, in \u001b[0;36mdumps\u001b[0;34m(obj, skipkeys, ensure_ascii, check_circular, allow_nan, cls, indent, separators, default, sort_keys, **kw)\u001b[0m\n\u001b[1;32m    233\u001b[0m     \u001b[38;5;28mcls\u001b[39m \u001b[38;5;241m=\u001b[39m JSONEncoder\n\u001b[0;32m--> 234\u001b[0m \u001b[38;5;28;01mreturn\u001b[39;00m \u001b[38;5;28;43mcls\u001b[39;49m\u001b[43m(\u001b[49m\n\u001b[1;32m    235\u001b[0m \u001b[43m    \u001b[49m\u001b[43mskipkeys\u001b[49m\u001b[38;5;241;43m=\u001b[39;49m\u001b[43mskipkeys\u001b[49m\u001b[43m,\u001b[49m\u001b[43m \u001b[49m\u001b[43mensure_ascii\u001b[49m\u001b[38;5;241;43m=\u001b[39;49m\u001b[43mensure_ascii\u001b[49m\u001b[43m,\u001b[49m\n\u001b[1;32m    236\u001b[0m \u001b[43m    \u001b[49m\u001b[43mcheck_circular\u001b[49m\u001b[38;5;241;43m=\u001b[39;49m\u001b[43mcheck_circular\u001b[49m\u001b[43m,\u001b[49m\u001b[43m \u001b[49m\u001b[43mallow_nan\u001b[49m\u001b[38;5;241;43m=\u001b[39;49m\u001b[43mallow_nan\u001b[49m\u001b[43m,\u001b[49m\u001b[43m \u001b[49m\u001b[43mindent\u001b[49m\u001b[38;5;241;43m=\u001b[39;49m\u001b[43mindent\u001b[49m\u001b[43m,\u001b[49m\n\u001b[1;32m    237\u001b[0m \u001b[43m    \u001b[49m\u001b[43mseparators\u001b[49m\u001b[38;5;241;43m=\u001b[39;49m\u001b[43mseparators\u001b[49m\u001b[43m,\u001b[49m\u001b[43m \u001b[49m\u001b[43mdefault\u001b[49m\u001b[38;5;241;43m=\u001b[39;49m\u001b[43mdefault\u001b[49m\u001b[43m,\u001b[49m\u001b[43m \u001b[49m\u001b[43msort_keys\u001b[49m\u001b[38;5;241;43m=\u001b[39;49m\u001b[43msort_keys\u001b[49m\u001b[43m,\u001b[49m\n\u001b[1;32m    238\u001b[0m \u001b[43m    \u001b[49m\u001b[38;5;241;43m*\u001b[39;49m\u001b[38;5;241;43m*\u001b[39;49m\u001b[43mkw\u001b[49m\u001b[43m)\u001b[49m\u001b[38;5;241;43m.\u001b[39;49m\u001b[43mencode\u001b[49m\u001b[43m(\u001b[49m\u001b[43mobj\u001b[49m\u001b[43m)\u001b[49m\n",
      "File \u001b[0;32m~/opt/miniconda3/envs/sliderule/lib/python3.8/json/encoder.py:199\u001b[0m, in \u001b[0;36mJSONEncoder.encode\u001b[0;34m(self, o)\u001b[0m\n\u001b[1;32m    196\u001b[0m \u001b[38;5;66;03m# This doesn't pass the iterator directly to ''.join() because the\u001b[39;00m\n\u001b[1;32m    197\u001b[0m \u001b[38;5;66;03m# exceptions aren't as detailed.  The list call should be roughly\u001b[39;00m\n\u001b[1;32m    198\u001b[0m \u001b[38;5;66;03m# equivalent to the PySequence_Fast that ''.join() would do.\u001b[39;00m\n\u001b[0;32m--> 199\u001b[0m chunks \u001b[38;5;241m=\u001b[39m \u001b[38;5;28;43mself\u001b[39;49m\u001b[38;5;241;43m.\u001b[39;49m\u001b[43miterencode\u001b[49m\u001b[43m(\u001b[49m\u001b[43mo\u001b[49m\u001b[43m,\u001b[49m\u001b[43m \u001b[49m\u001b[43m_one_shot\u001b[49m\u001b[38;5;241;43m=\u001b[39;49m\u001b[38;5;28;43;01mTrue\u001b[39;49;00m\u001b[43m)\u001b[49m\n\u001b[1;32m    200\u001b[0m \u001b[38;5;28;01mif\u001b[39;00m \u001b[38;5;129;01mnot\u001b[39;00m \u001b[38;5;28misinstance\u001b[39m(chunks, (\u001b[38;5;28mlist\u001b[39m, \u001b[38;5;28mtuple\u001b[39m)):\n",
      "File \u001b[0;32m~/opt/miniconda3/envs/sliderule/lib/python3.8/json/encoder.py:257\u001b[0m, in \u001b[0;36mJSONEncoder.iterencode\u001b[0;34m(self, o, _one_shot)\u001b[0m\n\u001b[1;32m    253\u001b[0m     _iterencode \u001b[38;5;241m=\u001b[39m _make_iterencode(\n\u001b[1;32m    254\u001b[0m         markers, \u001b[38;5;28mself\u001b[39m\u001b[38;5;241m.\u001b[39mdefault, _encoder, \u001b[38;5;28mself\u001b[39m\u001b[38;5;241m.\u001b[39mindent, floatstr,\n\u001b[1;32m    255\u001b[0m         \u001b[38;5;28mself\u001b[39m\u001b[38;5;241m.\u001b[39mkey_separator, \u001b[38;5;28mself\u001b[39m\u001b[38;5;241m.\u001b[39mitem_separator, \u001b[38;5;28mself\u001b[39m\u001b[38;5;241m.\u001b[39msort_keys,\n\u001b[1;32m    256\u001b[0m         \u001b[38;5;28mself\u001b[39m\u001b[38;5;241m.\u001b[39mskipkeys, _one_shot)\n\u001b[0;32m--> 257\u001b[0m \u001b[38;5;28;01mreturn\u001b[39;00m \u001b[43m_iterencode\u001b[49m\u001b[43m(\u001b[49m\u001b[43mo\u001b[49m\u001b[43m,\u001b[49m\u001b[43m \u001b[49m\u001b[38;5;241;43m0\u001b[39;49m\u001b[43m)\u001b[49m\n",
      "File \u001b[0;32m~/opt/miniconda3/envs/sliderule/lib/python3.8/site-packages/jupyter_client/jsonutil.py:126\u001b[0m, in \u001b[0;36mjson_default\u001b[0;34m(obj)\u001b[0m\n\u001b[1;32m    124\u001b[0m     \u001b[38;5;28;01mreturn\u001b[39;00m \u001b[38;5;28mfloat\u001b[39m(obj)\n\u001b[0;32m--> 126\u001b[0m \u001b[38;5;28;01mraise\u001b[39;00m \u001b[38;5;167;01mTypeError\u001b[39;00m(\u001b[38;5;124m\"\u001b[39m\u001b[38;5;132;01m%r\u001b[39;00m\u001b[38;5;124m is not JSON serializable\u001b[39m\u001b[38;5;124m\"\u001b[39m \u001b[38;5;241m%\u001b[39m obj)\n",
      "\u001b[0;31mTypeError\u001b[0m: datetime.date(2018, 11, 15) is not JSON serializable",
      "\nDuring handling of the above exception, another exception occurred:\n",
      "\u001b[0;31mValueError\u001b[0m                                Traceback (most recent call last)",
      "Input \u001b[0;32mIn [30]\u001b[0m, in \u001b[0;36m<cell line: 1>\u001b[0;34m()\u001b[0m\n\u001b[0;32m----> 1\u001b[0m \u001b[43mm\u001b[49m\u001b[38;5;241;43m.\u001b[39;49m\u001b[43mGeoData\u001b[49m\u001b[43m(\u001b[49m\u001b[43mgdf\u001b[49m\u001b[43m,\u001b[49m\u001b[43m \u001b[49m\u001b[43mcolumn_name\u001b[49m\u001b[38;5;241;43m=\u001b[39;49m\u001b[43mSRwidgets\u001b[49m\u001b[38;5;241;43m.\u001b[39;49m\u001b[43mvariable\u001b[49m\u001b[38;5;241;43m.\u001b[39;49m\u001b[43mvalue\u001b[49m\u001b[43m,\u001b[49m\u001b[43m \u001b[49m\u001b[43mcmap\u001b[49m\u001b[38;5;241;43m=\u001b[39;49m\u001b[38;5;124;43m'\u001b[39;49m\u001b[38;5;124;43mviridis\u001b[39;49m\u001b[38;5;124;43m'\u001b[39;49m\u001b[43m,\u001b[49m\n\u001b[1;32m      2\u001b[0m \u001b[43m    \u001b[49m\u001b[43mmax_plot_points\u001b[49m\u001b[38;5;241;43m=\u001b[39;49m\u001b[38;5;241;43m10000\u001b[39;49m\u001b[43m,\u001b[49m\u001b[43m \u001b[49m\u001b[43mtooltip\u001b[49m\u001b[38;5;241;43m=\u001b[39;49m\u001b[38;5;28;43;01mTrue\u001b[39;49;00m\u001b[43m,\u001b[49m\u001b[43m \u001b[49m\u001b[43mcolorbar\u001b[49m\u001b[38;5;241;43m=\u001b[39;49m\u001b[38;5;28;43;01mTrue\u001b[39;49;00m\u001b[43m)\u001b[49m\n",
      "File \u001b[0;32m~/opt/miniconda3/envs/sliderule/lib/python3.8/site-packages/sliderule-1.4.2-py3.8.egg/sliderule/ipysliderule.py:1793\u001b[0m, in \u001b[0;36mleaflet.GeoData\u001b[0;34m(self, gdf, **kwargs)\u001b[0m\n\u001b[1;32m   1791\u001b[0m point_style \u001b[38;5;241m=\u001b[39m {key:kwargs[key] \u001b[38;5;28;01mfor\u001b[39;00m key \u001b[38;5;129;01min\u001b[39;00m [\u001b[38;5;124m'\u001b[39m\u001b[38;5;124mradius\u001b[39m\u001b[38;5;124m'\u001b[39m,\u001b[38;5;124m'\u001b[39m\u001b[38;5;124mfillOpacity\u001b[39m\u001b[38;5;124m'\u001b[39m,\u001b[38;5;124m'\u001b[39m\u001b[38;5;124mweight\u001b[39m\u001b[38;5;124m'\u001b[39m]}\n\u001b[1;32m   1792\u001b[0m \u001b[38;5;66;03m# convert to GeoJSON object\u001b[39;00m\n\u001b[0;32m-> 1793\u001b[0m \u001b[38;5;28mself\u001b[39m\u001b[38;5;241m.\u001b[39mgeojson \u001b[38;5;241m=\u001b[39m \u001b[43mipyleaflet\u001b[49m\u001b[38;5;241;43m.\u001b[39;49m\u001b[43mGeoJSON\u001b[49m\u001b[43m(\u001b[49m\u001b[43mdata\u001b[49m\u001b[38;5;241;43m=\u001b[39;49m\u001b[43mgeodataframe\u001b[49m\u001b[38;5;241;43m.\u001b[39;49m\u001b[43m__geo_interface__\u001b[49m\u001b[43m,\u001b[49m\n\u001b[1;32m   1794\u001b[0m \u001b[43m    \u001b[49m\u001b[43mpoint_style\u001b[49m\u001b[38;5;241;43m=\u001b[39;49m\u001b[43mpoint_style\u001b[49m\u001b[43m,\u001b[49m\u001b[43m \u001b[49m\u001b[43mstyle_callback\u001b[49m\u001b[38;5;241;43m=\u001b[39;49m\u001b[38;5;28;43mself\u001b[39;49m\u001b[38;5;241;43m.\u001b[39;49m\u001b[43mstyle_callback\u001b[49m\u001b[43m)\u001b[49m\n\u001b[1;32m   1795\u001b[0m \u001b[38;5;66;03m# add GeoJSON object to map\u001b[39;00m\n\u001b[1;32m   1796\u001b[0m \u001b[38;5;28mself\u001b[39m\u001b[38;5;241m.\u001b[39mmap\u001b[38;5;241m.\u001b[39madd_layer(\u001b[38;5;28mself\u001b[39m\u001b[38;5;241m.\u001b[39mgeojson)\n",
      "File \u001b[0;32m~/opt/miniconda3/envs/sliderule/lib/python3.8/site-packages/ipyleaflet/leaflet.py:1177\u001b[0m, in \u001b[0;36mGeoJSON.__init__\u001b[0;34m(self, **kwargs)\u001b[0m\n\u001b[1;32m   1174\u001b[0m \u001b[38;5;28;01mdef\u001b[39;00m \u001b[38;5;21m__init__\u001b[39m(\u001b[38;5;28mself\u001b[39m, \u001b[38;5;241m*\u001b[39m\u001b[38;5;241m*\u001b[39mkwargs):\n\u001b[1;32m   1175\u001b[0m     \u001b[38;5;28mself\u001b[39m\u001b[38;5;241m.\u001b[39mupdating \u001b[38;5;241m=\u001b[39m \u001b[38;5;28;01mTrue\u001b[39;00m\n\u001b[0;32m-> 1177\u001b[0m     \u001b[38;5;28;43msuper\u001b[39;49m\u001b[43m(\u001b[49m\u001b[43mGeoJSON\u001b[49m\u001b[43m,\u001b[49m\u001b[43m \u001b[49m\u001b[38;5;28;43mself\u001b[39;49m\u001b[43m)\u001b[49m\u001b[38;5;241;43m.\u001b[39;49m\u001b[38;5;21;43m__init__\u001b[39;49m\u001b[43m(\u001b[49m\u001b[38;5;241;43m*\u001b[39;49m\u001b[38;5;241;43m*\u001b[39;49m\u001b[43mkwargs\u001b[49m\u001b[43m)\u001b[49m\n\u001b[1;32m   1179\u001b[0m     \u001b[38;5;28mself\u001b[39m\u001b[38;5;241m.\u001b[39mdata \u001b[38;5;241m=\u001b[39m \u001b[38;5;28mself\u001b[39m\u001b[38;5;241m.\u001b[39m_get_data()\n\u001b[1;32m   1180\u001b[0m     \u001b[38;5;28mself\u001b[39m\u001b[38;5;241m.\u001b[39mupdating \u001b[38;5;241m=\u001b[39m \u001b[38;5;28;01mFalse\u001b[39;00m\n",
      "File \u001b[0;32m~/opt/miniconda3/envs/sliderule/lib/python3.8/site-packages/ipyleaflet/leaflet.py:134\u001b[0m, in \u001b[0;36mLayer.__init__\u001b[0;34m(self, **kwargs)\u001b[0m\n\u001b[1;32m    133\u001b[0m \u001b[38;5;28;01mdef\u001b[39;00m \u001b[38;5;21m__init__\u001b[39m(\u001b[38;5;28mself\u001b[39m, \u001b[38;5;241m*\u001b[39m\u001b[38;5;241m*\u001b[39mkwargs):\n\u001b[0;32m--> 134\u001b[0m     \u001b[38;5;28;43msuper\u001b[39;49m\u001b[43m(\u001b[49m\u001b[43mLayer\u001b[49m\u001b[43m,\u001b[49m\u001b[43m \u001b[49m\u001b[38;5;28;43mself\u001b[39;49m\u001b[43m)\u001b[49m\u001b[38;5;241;43m.\u001b[39;49m\u001b[38;5;21;43m__init__\u001b[39;49m\u001b[43m(\u001b[49m\u001b[38;5;241;43m*\u001b[39;49m\u001b[38;5;241;43m*\u001b[39;49m\u001b[43mkwargs\u001b[49m\u001b[43m)\u001b[49m\n\u001b[1;32m    135\u001b[0m     \u001b[38;5;28mself\u001b[39m\u001b[38;5;241m.\u001b[39mon_msg(\u001b[38;5;28mself\u001b[39m\u001b[38;5;241m.\u001b[39m_handle_mouse_events)\n",
      "File \u001b[0;32m~/opt/miniconda3/envs/sliderule/lib/python3.8/site-packages/ipywidgets/widgets/widget.py:480\u001b[0m, in \u001b[0;36mWidget.__init__\u001b[0;34m(self, **kwargs)\u001b[0m\n\u001b[1;32m    477\u001b[0m \u001b[38;5;28msuper\u001b[39m(Widget, \u001b[38;5;28mself\u001b[39m)\u001b[38;5;241m.\u001b[39m\u001b[38;5;21m__init__\u001b[39m(\u001b[38;5;241m*\u001b[39m\u001b[38;5;241m*\u001b[39mkwargs)\n\u001b[1;32m    479\u001b[0m Widget\u001b[38;5;241m.\u001b[39m_call_widget_constructed(\u001b[38;5;28mself\u001b[39m)\n\u001b[0;32m--> 480\u001b[0m \u001b[38;5;28;43mself\u001b[39;49m\u001b[38;5;241;43m.\u001b[39;49m\u001b[43mopen\u001b[49m\u001b[43m(\u001b[49m\u001b[43m)\u001b[49m\n",
      "File \u001b[0;32m~/opt/miniconda3/envs/sliderule/lib/python3.8/site-packages/ipywidgets/widgets/widget.py:503\u001b[0m, in \u001b[0;36mWidget.open\u001b[0;34m(self)\u001b[0m\n\u001b[1;32m    500\u001b[0m \u001b[38;5;28;01mif\u001b[39;00m \u001b[38;5;28mself\u001b[39m\u001b[38;5;241m.\u001b[39m_model_id \u001b[38;5;129;01mis\u001b[39;00m \u001b[38;5;129;01mnot\u001b[39;00m \u001b[38;5;28;01mNone\u001b[39;00m:\n\u001b[1;32m    501\u001b[0m     args[\u001b[38;5;124m'\u001b[39m\u001b[38;5;124mcomm_id\u001b[39m\u001b[38;5;124m'\u001b[39m] \u001b[38;5;241m=\u001b[39m \u001b[38;5;28mself\u001b[39m\u001b[38;5;241m.\u001b[39m_model_id\n\u001b[0;32m--> 503\u001b[0m \u001b[38;5;28mself\u001b[39m\u001b[38;5;241m.\u001b[39mcomm \u001b[38;5;241m=\u001b[39m \u001b[43mComm\u001b[49m\u001b[43m(\u001b[49m\u001b[38;5;241;43m*\u001b[39;49m\u001b[38;5;241;43m*\u001b[39;49m\u001b[43margs\u001b[49m\u001b[43m)\u001b[49m\n",
      "File \u001b[0;32m~/opt/miniconda3/envs/sliderule/lib/python3.8/site-packages/ipykernel/comm/comm.py:62\u001b[0m, in \u001b[0;36mComm.__init__\u001b[0;34m(self, target_name, data, metadata, buffers, **kwargs)\u001b[0m\n\u001b[1;32m     59\u001b[0m \u001b[38;5;28;01mif\u001b[39;00m \u001b[38;5;28mself\u001b[39m\u001b[38;5;241m.\u001b[39mkernel:\n\u001b[1;32m     60\u001b[0m     \u001b[38;5;28;01mif\u001b[39;00m \u001b[38;5;28mself\u001b[39m\u001b[38;5;241m.\u001b[39mprimary:\n\u001b[1;32m     61\u001b[0m         \u001b[38;5;66;03m# I am primary, open my peer.\u001b[39;00m\n\u001b[0;32m---> 62\u001b[0m         \u001b[38;5;28;43mself\u001b[39;49m\u001b[38;5;241;43m.\u001b[39;49m\u001b[43mopen\u001b[49m\u001b[43m(\u001b[49m\u001b[43mdata\u001b[49m\u001b[38;5;241;43m=\u001b[39;49m\u001b[43mdata\u001b[49m\u001b[43m,\u001b[49m\u001b[43m \u001b[49m\u001b[43mmetadata\u001b[49m\u001b[38;5;241;43m=\u001b[39;49m\u001b[43mmetadata\u001b[49m\u001b[43m,\u001b[49m\u001b[43m \u001b[49m\u001b[43mbuffers\u001b[49m\u001b[38;5;241;43m=\u001b[39;49m\u001b[43mbuffers\u001b[49m\u001b[43m)\u001b[49m\n\u001b[1;32m     63\u001b[0m     \u001b[38;5;28;01melse\u001b[39;00m:\n\u001b[1;32m     64\u001b[0m         \u001b[38;5;28mself\u001b[39m\u001b[38;5;241m.\u001b[39m_closed \u001b[38;5;241m=\u001b[39m \u001b[38;5;28;01mFalse\u001b[39;00m\n",
      "File \u001b[0;32m~/opt/miniconda3/envs/sliderule/lib/python3.8/site-packages/ipykernel/comm/comm.py:100\u001b[0m, in \u001b[0;36mComm.open\u001b[0;34m(self, data, metadata, buffers)\u001b[0m\n\u001b[1;32m     98\u001b[0m comm_manager\u001b[38;5;241m.\u001b[39mregister_comm(\u001b[38;5;28mself\u001b[39m)\n\u001b[1;32m     99\u001b[0m \u001b[38;5;28;01mtry\u001b[39;00m:\n\u001b[0;32m--> 100\u001b[0m     \u001b[38;5;28;43mself\u001b[39;49m\u001b[38;5;241;43m.\u001b[39;49m\u001b[43m_publish_msg\u001b[49m\u001b[43m(\u001b[49m\n\u001b[1;32m    101\u001b[0m \u001b[43m        \u001b[49m\u001b[38;5;124;43m\"\u001b[39;49m\u001b[38;5;124;43mcomm_open\u001b[39;49m\u001b[38;5;124;43m\"\u001b[39;49m\u001b[43m,\u001b[49m\n\u001b[1;32m    102\u001b[0m \u001b[43m        \u001b[49m\u001b[43mdata\u001b[49m\u001b[38;5;241;43m=\u001b[39;49m\u001b[43mdata\u001b[49m\u001b[43m,\u001b[49m\n\u001b[1;32m    103\u001b[0m \u001b[43m        \u001b[49m\u001b[43mmetadata\u001b[49m\u001b[38;5;241;43m=\u001b[39;49m\u001b[43mmetadata\u001b[49m\u001b[43m,\u001b[49m\n\u001b[1;32m    104\u001b[0m \u001b[43m        \u001b[49m\u001b[43mbuffers\u001b[49m\u001b[38;5;241;43m=\u001b[39;49m\u001b[43mbuffers\u001b[49m\u001b[43m,\u001b[49m\n\u001b[1;32m    105\u001b[0m \u001b[43m        \u001b[49m\u001b[43mtarget_name\u001b[49m\u001b[38;5;241;43m=\u001b[39;49m\u001b[38;5;28;43mself\u001b[39;49m\u001b[38;5;241;43m.\u001b[39;49m\u001b[43mtarget_name\u001b[49m\u001b[43m,\u001b[49m\n\u001b[1;32m    106\u001b[0m \u001b[43m        \u001b[49m\u001b[43mtarget_module\u001b[49m\u001b[38;5;241;43m=\u001b[39;49m\u001b[38;5;28;43mself\u001b[39;49m\u001b[38;5;241;43m.\u001b[39;49m\u001b[43mtarget_module\u001b[49m\u001b[43m,\u001b[49m\n\u001b[1;32m    107\u001b[0m \u001b[43m    \u001b[49m\u001b[43m)\u001b[49m\n\u001b[1;32m    108\u001b[0m     \u001b[38;5;28mself\u001b[39m\u001b[38;5;241m.\u001b[39m_closed \u001b[38;5;241m=\u001b[39m \u001b[38;5;28;01mFalse\u001b[39;00m\n\u001b[1;32m    109\u001b[0m \u001b[38;5;28;01mexcept\u001b[39;00m \u001b[38;5;167;01mException\u001b[39;00m:\n",
      "File \u001b[0;32m~/opt/miniconda3/envs/sliderule/lib/python3.8/site-packages/ipykernel/comm/comm.py:71\u001b[0m, in \u001b[0;36mComm._publish_msg\u001b[0;34m(self, msg_type, data, metadata, buffers, **keys)\u001b[0m\n\u001b[1;32m     69\u001b[0m metadata \u001b[38;5;241m=\u001b[39m {} \u001b[38;5;28;01mif\u001b[39;00m metadata \u001b[38;5;129;01mis\u001b[39;00m \u001b[38;5;28;01mNone\u001b[39;00m \u001b[38;5;28;01melse\u001b[39;00m metadata\n\u001b[1;32m     70\u001b[0m content \u001b[38;5;241m=\u001b[39m json_clean(\u001b[38;5;28mdict\u001b[39m(data\u001b[38;5;241m=\u001b[39mdata, comm_id\u001b[38;5;241m=\u001b[39m\u001b[38;5;28mself\u001b[39m\u001b[38;5;241m.\u001b[39mcomm_id, \u001b[38;5;241m*\u001b[39m\u001b[38;5;241m*\u001b[39mkeys))\n\u001b[0;32m---> 71\u001b[0m \u001b[38;5;28;43mself\u001b[39;49m\u001b[38;5;241;43m.\u001b[39;49m\u001b[43mkernel\u001b[49m\u001b[38;5;241;43m.\u001b[39;49m\u001b[43msession\u001b[49m\u001b[38;5;241;43m.\u001b[39;49m\u001b[43msend\u001b[49m\u001b[43m(\u001b[49m\n\u001b[1;32m     72\u001b[0m \u001b[43m    \u001b[49m\u001b[38;5;28;43mself\u001b[39;49m\u001b[38;5;241;43m.\u001b[39;49m\u001b[43mkernel\u001b[49m\u001b[38;5;241;43m.\u001b[39;49m\u001b[43miopub_socket\u001b[49m\u001b[43m,\u001b[49m\n\u001b[1;32m     73\u001b[0m \u001b[43m    \u001b[49m\u001b[43mmsg_type\u001b[49m\u001b[43m,\u001b[49m\n\u001b[1;32m     74\u001b[0m \u001b[43m    \u001b[49m\u001b[43mcontent\u001b[49m\u001b[43m,\u001b[49m\n\u001b[1;32m     75\u001b[0m \u001b[43m    \u001b[49m\u001b[43mmetadata\u001b[49m\u001b[38;5;241;43m=\u001b[39;49m\u001b[43mjson_clean\u001b[49m\u001b[43m(\u001b[49m\u001b[43mmetadata\u001b[49m\u001b[43m)\u001b[49m\u001b[43m,\u001b[49m\n\u001b[1;32m     76\u001b[0m \u001b[43m    \u001b[49m\u001b[43mparent\u001b[49m\u001b[38;5;241;43m=\u001b[39;49m\u001b[38;5;28;43mself\u001b[39;49m\u001b[38;5;241;43m.\u001b[39;49m\u001b[43mkernel\u001b[49m\u001b[38;5;241;43m.\u001b[39;49m\u001b[43mget_parent\u001b[49m\u001b[43m(\u001b[49m\u001b[38;5;124;43m\"\u001b[39;49m\u001b[38;5;124;43mshell\u001b[39;49m\u001b[38;5;124;43m\"\u001b[39;49m\u001b[43m)\u001b[49m\u001b[43m,\u001b[49m\n\u001b[1;32m     77\u001b[0m \u001b[43m    \u001b[49m\u001b[43mident\u001b[49m\u001b[38;5;241;43m=\u001b[39;49m\u001b[38;5;28;43mself\u001b[39;49m\u001b[38;5;241;43m.\u001b[39;49m\u001b[43mtopic\u001b[49m\u001b[43m,\u001b[49m\n\u001b[1;32m     78\u001b[0m \u001b[43m    \u001b[49m\u001b[43mbuffers\u001b[49m\u001b[38;5;241;43m=\u001b[39;49m\u001b[43mbuffers\u001b[49m\u001b[43m,\u001b[49m\n\u001b[1;32m     79\u001b[0m \u001b[43m\u001b[49m\u001b[43m)\u001b[49m\n",
      "File \u001b[0;32m~/opt/miniconda3/envs/sliderule/lib/python3.8/site-packages/jupyter_client/session.py:844\u001b[0m, in \u001b[0;36mSession.send\u001b[0;34m(self, stream, msg_or_type, content, parent, ident, buffers, track, header, metadata)\u001b[0m\n\u001b[1;32m    842\u001b[0m \u001b[38;5;28;01mif\u001b[39;00m \u001b[38;5;28mself\u001b[39m\u001b[38;5;241m.\u001b[39madapt_version:\n\u001b[1;32m    843\u001b[0m     msg \u001b[38;5;241m=\u001b[39m adapt(msg, \u001b[38;5;28mself\u001b[39m\u001b[38;5;241m.\u001b[39madapt_version)\n\u001b[0;32m--> 844\u001b[0m to_send \u001b[38;5;241m=\u001b[39m \u001b[38;5;28;43mself\u001b[39;49m\u001b[38;5;241;43m.\u001b[39;49m\u001b[43mserialize\u001b[49m\u001b[43m(\u001b[49m\u001b[43mmsg\u001b[49m\u001b[43m,\u001b[49m\u001b[43m \u001b[49m\u001b[43mident\u001b[49m\u001b[43m)\u001b[49m\n\u001b[1;32m    845\u001b[0m to_send\u001b[38;5;241m.\u001b[39mextend(buffers)\n\u001b[1;32m    846\u001b[0m longest \u001b[38;5;241m=\u001b[39m \u001b[38;5;28mmax\u001b[39m([\u001b[38;5;28mlen\u001b[39m(s) \u001b[38;5;28;01mfor\u001b[39;00m s \u001b[38;5;129;01min\u001b[39;00m to_send])\n",
      "File \u001b[0;32m~/opt/miniconda3/envs/sliderule/lib/python3.8/site-packages/jupyter_client/session.py:718\u001b[0m, in \u001b[0;36mSession.serialize\u001b[0;34m(self, msg, ident)\u001b[0m\n\u001b[1;32m    716\u001b[0m     content \u001b[38;5;241m=\u001b[39m \u001b[38;5;28mself\u001b[39m\u001b[38;5;241m.\u001b[39mnone\n\u001b[1;32m    717\u001b[0m \u001b[38;5;28;01melif\u001b[39;00m \u001b[38;5;28misinstance\u001b[39m(content, \u001b[38;5;28mdict\u001b[39m):\n\u001b[0;32m--> 718\u001b[0m     content \u001b[38;5;241m=\u001b[39m \u001b[38;5;28;43mself\u001b[39;49m\u001b[38;5;241;43m.\u001b[39;49m\u001b[43mpack\u001b[49m\u001b[43m(\u001b[49m\u001b[43mcontent\u001b[49m\u001b[43m)\u001b[49m\n\u001b[1;32m    719\u001b[0m \u001b[38;5;28;01melif\u001b[39;00m \u001b[38;5;28misinstance\u001b[39m(content, \u001b[38;5;28mbytes\u001b[39m):\n\u001b[1;32m    720\u001b[0m     \u001b[38;5;66;03m# content is already packed, as in a relayed message\u001b[39;00m\n\u001b[1;32m    721\u001b[0m     \u001b[38;5;28;01mpass\u001b[39;00m\n",
      "File \u001b[0;32m~/opt/miniconda3/envs/sliderule/lib/python3.8/site-packages/jupyter_client/session.py:108\u001b[0m, in \u001b[0;36mjson_packer\u001b[0;34m(obj)\u001b[0m\n\u001b[1;32m     99\u001b[0m     \u001b[38;5;28;01mreturn\u001b[39;00m json\u001b[38;5;241m.\u001b[39mdumps(\n\u001b[1;32m    100\u001b[0m         obj,\n\u001b[1;32m    101\u001b[0m         default\u001b[38;5;241m=\u001b[39mjson_default,\n\u001b[1;32m    102\u001b[0m         ensure_ascii\u001b[38;5;241m=\u001b[39m\u001b[38;5;28;01mFalse\u001b[39;00m,\n\u001b[1;32m    103\u001b[0m         allow_nan\u001b[38;5;241m=\u001b[39m\u001b[38;5;28;01mFalse\u001b[39;00m,\n\u001b[1;32m    104\u001b[0m     )\u001b[38;5;241m.\u001b[39mencode(\u001b[38;5;124m\"\u001b[39m\u001b[38;5;124mutf8\u001b[39m\u001b[38;5;124m\"\u001b[39m, errors\u001b[38;5;241m=\u001b[39m\u001b[38;5;124m\"\u001b[39m\u001b[38;5;124msurrogateescape\u001b[39m\u001b[38;5;124m\"\u001b[39m)\n\u001b[1;32m    105\u001b[0m \u001b[38;5;28;01mexcept\u001b[39;00m (\u001b[38;5;167;01mTypeError\u001b[39;00m, \u001b[38;5;167;01mValueError\u001b[39;00m) \u001b[38;5;28;01mas\u001b[39;00m e:\n\u001b[1;32m    106\u001b[0m     \u001b[38;5;66;03m# Fallback to trying to clean the json before serializing\u001b[39;00m\n\u001b[1;32m    107\u001b[0m     packed \u001b[38;5;241m=\u001b[39m json\u001b[38;5;241m.\u001b[39mdumps(\n\u001b[0;32m--> 108\u001b[0m         \u001b[43mjson_clean\u001b[49m\u001b[43m(\u001b[49m\u001b[43mobj\u001b[49m\u001b[43m)\u001b[49m,\n\u001b[1;32m    109\u001b[0m         default\u001b[38;5;241m=\u001b[39mjson_default,\n\u001b[1;32m    110\u001b[0m         ensure_ascii\u001b[38;5;241m=\u001b[39m\u001b[38;5;28;01mFalse\u001b[39;00m,\n\u001b[1;32m    111\u001b[0m         allow_nan\u001b[38;5;241m=\u001b[39m\u001b[38;5;28;01mFalse\u001b[39;00m,\n\u001b[1;32m    112\u001b[0m     )\u001b[38;5;241m.\u001b[39mencode(\u001b[38;5;124m\"\u001b[39m\u001b[38;5;124mutf8\u001b[39m\u001b[38;5;124m\"\u001b[39m, errors\u001b[38;5;241m=\u001b[39m\u001b[38;5;124m\"\u001b[39m\u001b[38;5;124msurrogateescape\u001b[39m\u001b[38;5;124m\"\u001b[39m)\n\u001b[1;32m    114\u001b[0m     warnings\u001b[38;5;241m.\u001b[39mwarn(\n\u001b[1;32m    115\u001b[0m         \u001b[38;5;124mf\u001b[39m\u001b[38;5;124m\"\u001b[39m\u001b[38;5;124mMessage serialization failed with:\u001b[39m\u001b[38;5;130;01m\\n\u001b[39;00m\u001b[38;5;132;01m{\u001b[39;00me\u001b[38;5;132;01m}\u001b[39;00m\u001b[38;5;130;01m\\n\u001b[39;00m\u001b[38;5;124m\"\u001b[39m\n\u001b[1;32m    116\u001b[0m         \u001b[38;5;124m\"\u001b[39m\u001b[38;5;124mSupporting this message is deprecated in jupyter-client 7, please make \u001b[39m\u001b[38;5;124m\"\u001b[39m\n\u001b[1;32m    117\u001b[0m         \u001b[38;5;124m\"\u001b[39m\u001b[38;5;124msure your message is JSON-compliant\u001b[39m\u001b[38;5;124m\"\u001b[39m,\n\u001b[1;32m    118\u001b[0m         stacklevel\u001b[38;5;241m=\u001b[39m\u001b[38;5;241m2\u001b[39m,\n\u001b[1;32m    119\u001b[0m     )\n\u001b[1;32m    121\u001b[0m     \u001b[38;5;28;01mreturn\u001b[39;00m packed\n",
      "File \u001b[0;32m~/opt/miniconda3/envs/sliderule/lib/python3.8/site-packages/jupyter_client/jsonutil.py:185\u001b[0m, in \u001b[0;36mjson_clean\u001b[0;34m(obj)\u001b[0m\n\u001b[1;32m    183\u001b[0m     out \u001b[38;5;241m=\u001b[39m {}\n\u001b[1;32m    184\u001b[0m     \u001b[38;5;28;01mfor\u001b[39;00m k, v \u001b[38;5;129;01min\u001b[39;00m obj\u001b[38;5;241m.\u001b[39mitems():\n\u001b[0;32m--> 185\u001b[0m         out[\u001b[38;5;28mstr\u001b[39m(k)] \u001b[38;5;241m=\u001b[39m \u001b[43mjson_clean\u001b[49m\u001b[43m(\u001b[49m\u001b[43mv\u001b[49m\u001b[43m)\u001b[49m\n\u001b[1;32m    186\u001b[0m     \u001b[38;5;28;01mreturn\u001b[39;00m out\n\u001b[1;32m    188\u001b[0m \u001b[38;5;28;01mif\u001b[39;00m \u001b[38;5;28misinstance\u001b[39m(obj, datetime):\n",
      "File \u001b[0;32m~/opt/miniconda3/envs/sliderule/lib/python3.8/site-packages/jupyter_client/jsonutil.py:185\u001b[0m, in \u001b[0;36mjson_clean\u001b[0;34m(obj)\u001b[0m\n\u001b[1;32m    183\u001b[0m     out \u001b[38;5;241m=\u001b[39m {}\n\u001b[1;32m    184\u001b[0m     \u001b[38;5;28;01mfor\u001b[39;00m k, v \u001b[38;5;129;01min\u001b[39;00m obj\u001b[38;5;241m.\u001b[39mitems():\n\u001b[0;32m--> 185\u001b[0m         out[\u001b[38;5;28mstr\u001b[39m(k)] \u001b[38;5;241m=\u001b[39m \u001b[43mjson_clean\u001b[49m\u001b[43m(\u001b[49m\u001b[43mv\u001b[49m\u001b[43m)\u001b[49m\n\u001b[1;32m    186\u001b[0m     \u001b[38;5;28;01mreturn\u001b[39;00m out\n\u001b[1;32m    188\u001b[0m \u001b[38;5;28;01mif\u001b[39;00m \u001b[38;5;28misinstance\u001b[39m(obj, datetime):\n",
      "    \u001b[0;31m[... skipping similar frames: json_clean at line 185 (1 times)]\u001b[0m\n",
      "File \u001b[0;32m~/opt/miniconda3/envs/sliderule/lib/python3.8/site-packages/jupyter_client/jsonutil.py:185\u001b[0m, in \u001b[0;36mjson_clean\u001b[0;34m(obj)\u001b[0m\n\u001b[1;32m    183\u001b[0m     out \u001b[38;5;241m=\u001b[39m {}\n\u001b[1;32m    184\u001b[0m     \u001b[38;5;28;01mfor\u001b[39;00m k, v \u001b[38;5;129;01min\u001b[39;00m obj\u001b[38;5;241m.\u001b[39mitems():\n\u001b[0;32m--> 185\u001b[0m         out[\u001b[38;5;28mstr\u001b[39m(k)] \u001b[38;5;241m=\u001b[39m \u001b[43mjson_clean\u001b[49m\u001b[43m(\u001b[49m\u001b[43mv\u001b[49m\u001b[43m)\u001b[49m\n\u001b[1;32m    186\u001b[0m     \u001b[38;5;28;01mreturn\u001b[39;00m out\n\u001b[1;32m    188\u001b[0m \u001b[38;5;28;01mif\u001b[39;00m \u001b[38;5;28misinstance\u001b[39m(obj, datetime):\n",
      "File \u001b[0;32m~/opt/miniconda3/envs/sliderule/lib/python3.8/site-packages/jupyter_client/jsonutil.py:169\u001b[0m, in \u001b[0;36mjson_clean\u001b[0;34m(obj)\u001b[0m\n\u001b[1;32m    166\u001b[0m     obj \u001b[38;5;241m=\u001b[39m \u001b[38;5;28mlist\u001b[39m(obj)\n\u001b[1;32m    168\u001b[0m \u001b[38;5;28;01mif\u001b[39;00m \u001b[38;5;28misinstance\u001b[39m(obj, \u001b[38;5;28mlist\u001b[39m):\n\u001b[0;32m--> 169\u001b[0m     \u001b[38;5;28;01mreturn\u001b[39;00m [json_clean(x) \u001b[38;5;28;01mfor\u001b[39;00m x \u001b[38;5;129;01min\u001b[39;00m obj]\n\u001b[1;32m    171\u001b[0m \u001b[38;5;28;01mif\u001b[39;00m \u001b[38;5;28misinstance\u001b[39m(obj, \u001b[38;5;28mdict\u001b[39m):\n\u001b[1;32m    172\u001b[0m     \u001b[38;5;66;03m# First, validate that the dict won't lose data in conversion due to\u001b[39;00m\n\u001b[1;32m    173\u001b[0m     \u001b[38;5;66;03m# key collisions after stringification.  This can happen with keys like\u001b[39;00m\n\u001b[1;32m    174\u001b[0m     \u001b[38;5;66;03m# True and 'true' or 1 and '1', which collide in JSON.\u001b[39;00m\n\u001b[1;32m    175\u001b[0m     nkeys \u001b[38;5;241m=\u001b[39m \u001b[38;5;28mlen\u001b[39m(obj)\n",
      "File \u001b[0;32m~/opt/miniconda3/envs/sliderule/lib/python3.8/site-packages/jupyter_client/jsonutil.py:169\u001b[0m, in \u001b[0;36m<listcomp>\u001b[0;34m(.0)\u001b[0m\n\u001b[1;32m    166\u001b[0m     obj \u001b[38;5;241m=\u001b[39m \u001b[38;5;28mlist\u001b[39m(obj)\n\u001b[1;32m    168\u001b[0m \u001b[38;5;28;01mif\u001b[39;00m \u001b[38;5;28misinstance\u001b[39m(obj, \u001b[38;5;28mlist\u001b[39m):\n\u001b[0;32m--> 169\u001b[0m     \u001b[38;5;28;01mreturn\u001b[39;00m [\u001b[43mjson_clean\u001b[49m\u001b[43m(\u001b[49m\u001b[43mx\u001b[49m\u001b[43m)\u001b[49m \u001b[38;5;28;01mfor\u001b[39;00m x \u001b[38;5;129;01min\u001b[39;00m obj]\n\u001b[1;32m    171\u001b[0m \u001b[38;5;28;01mif\u001b[39;00m \u001b[38;5;28misinstance\u001b[39m(obj, \u001b[38;5;28mdict\u001b[39m):\n\u001b[1;32m    172\u001b[0m     \u001b[38;5;66;03m# First, validate that the dict won't lose data in conversion due to\u001b[39;00m\n\u001b[1;32m    173\u001b[0m     \u001b[38;5;66;03m# key collisions after stringification.  This can happen with keys like\u001b[39;00m\n\u001b[1;32m    174\u001b[0m     \u001b[38;5;66;03m# True and 'true' or 1 and '1', which collide in JSON.\u001b[39;00m\n\u001b[1;32m    175\u001b[0m     nkeys \u001b[38;5;241m=\u001b[39m \u001b[38;5;28mlen\u001b[39m(obj)\n",
      "File \u001b[0;32m~/opt/miniconda3/envs/sliderule/lib/python3.8/site-packages/jupyter_client/jsonutil.py:185\u001b[0m, in \u001b[0;36mjson_clean\u001b[0;34m(obj)\u001b[0m\n\u001b[1;32m    183\u001b[0m     out \u001b[38;5;241m=\u001b[39m {}\n\u001b[1;32m    184\u001b[0m     \u001b[38;5;28;01mfor\u001b[39;00m k, v \u001b[38;5;129;01min\u001b[39;00m obj\u001b[38;5;241m.\u001b[39mitems():\n\u001b[0;32m--> 185\u001b[0m         out[\u001b[38;5;28mstr\u001b[39m(k)] \u001b[38;5;241m=\u001b[39m \u001b[43mjson_clean\u001b[49m\u001b[43m(\u001b[49m\u001b[43mv\u001b[49m\u001b[43m)\u001b[49m\n\u001b[1;32m    186\u001b[0m     \u001b[38;5;28;01mreturn\u001b[39;00m out\n\u001b[1;32m    188\u001b[0m \u001b[38;5;28;01mif\u001b[39;00m \u001b[38;5;28misinstance\u001b[39m(obj, datetime):\n",
      "File \u001b[0;32m~/opt/miniconda3/envs/sliderule/lib/python3.8/site-packages/jupyter_client/jsonutil.py:185\u001b[0m, in \u001b[0;36mjson_clean\u001b[0;34m(obj)\u001b[0m\n\u001b[1;32m    183\u001b[0m     out \u001b[38;5;241m=\u001b[39m {}\n\u001b[1;32m    184\u001b[0m     \u001b[38;5;28;01mfor\u001b[39;00m k, v \u001b[38;5;129;01min\u001b[39;00m obj\u001b[38;5;241m.\u001b[39mitems():\n\u001b[0;32m--> 185\u001b[0m         out[\u001b[38;5;28mstr\u001b[39m(k)] \u001b[38;5;241m=\u001b[39m \u001b[43mjson_clean\u001b[49m\u001b[43m(\u001b[49m\u001b[43mv\u001b[49m\u001b[43m)\u001b[49m\n\u001b[1;32m    186\u001b[0m     \u001b[38;5;28;01mreturn\u001b[39;00m out\n\u001b[1;32m    188\u001b[0m \u001b[38;5;28;01mif\u001b[39;00m \u001b[38;5;28misinstance\u001b[39m(obj, datetime):\n",
      "File \u001b[0;32m~/opt/miniconda3/envs/sliderule/lib/python3.8/site-packages/jupyter_client/jsonutil.py:192\u001b[0m, in \u001b[0;36mjson_clean\u001b[0;34m(obj)\u001b[0m\n\u001b[1;32m    189\u001b[0m     \u001b[38;5;28;01mreturn\u001b[39;00m obj\u001b[38;5;241m.\u001b[39mstrftime(ISO8601)\n\u001b[1;32m    191\u001b[0m \u001b[38;5;66;03m# we don't understand it, it's probably an unserializable object\u001b[39;00m\n\u001b[0;32m--> 192\u001b[0m \u001b[38;5;28;01mraise\u001b[39;00m \u001b[38;5;167;01mValueError\u001b[39;00m(\u001b[38;5;124m\"\u001b[39m\u001b[38;5;124mCan\u001b[39m\u001b[38;5;124m'\u001b[39m\u001b[38;5;124mt clean for JSON: \u001b[39m\u001b[38;5;132;01m%r\u001b[39;00m\u001b[38;5;124m\"\u001b[39m \u001b[38;5;241m%\u001b[39m obj)\n",
      "\u001b[0;31mValueError\u001b[0m: Can't clean for JSON: datetime.date(2018, 11, 15)"
     ]
    }
   ],
   "source": [
    "m.GeoData(gdf, column_name=SRwidgets.variable.value, cmap='viridis',\n",
    "    max_plot_points=10000, tooltip=True, colorbar=True)"
   ]
  },
  {
   "cell_type": "code",
   "execution_count": 13,
   "id": "8e4f5d6e",
   "metadata": {},
   "outputs": [
    {
     "data": {
      "text/plain": [
       "<sliderule.ipysliderule.widgets at 0x7faf8182b760>"
      ]
     },
     "execution_count": 13,
     "metadata": {},
     "output_type": "execute_result"
    }
   ],
   "source": [
    "SRwidgets."
   ]
  },
  {
   "cell_type": "code",
   "execution_count": 13,
   "id": "902d0dbc",
   "metadata": {},
   "outputs": [
    {
     "ename": "SyntaxError",
     "evalue": "invalid character in identifier (853659073.py, line 1)",
     "output_type": "error",
     "traceback": [
      "\u001b[0;36m  Input \u001b[0;32mIn [13]\u001b[0;36m\u001b[0m\n\u001b[0;31m    date = dict(zip(gdf[''].tolist(), africa[‘pop_est’].tolist()))\u001b[0m\n\u001b[0m                                                     ^\u001b[0m\n\u001b[0;31mSyntaxError\u001b[0m\u001b[0;31m:\u001b[0m invalid character in identifier\n"
     ]
    }
   ],
   "source": [
    "date = dict(zip(gdf[''].tolist(), africa[‘pop_est’].tolist()))\n",
    "africa[[“name”, “geometry”]].to_file(“data/africa.json”, driver=”GeoJSON”, encoding=’utf-8')\n",
    "geojson_data = json.load(open(“data/africa.json”,’r’))for feature in geojson_data[‘features’]:\n",
    "     properties = feature[‘properties’]\n",
    "     feature.update(id=properties[‘name’])\n",
    "     #print(feature[‘id’])"
   ]
  },
  {
   "cell_type": "markdown",
   "id": "7ada7f11",
   "metadata": {},
   "source": [
    "#### Create plots for a single track"
   ]
  },
  {
   "cell_type": "code",
   "execution_count": null,
   "id": "d9ad5d15",
   "metadata": {},
   "outputs": [],
   "source": [
    "# selection for reference ground track\n",
    "RGTs = [str(int(x)) for x in gdf.rgt.unique()]\n",
    "SRwidgets.rgt = widgets.Dropdown(\n",
    "    options=RGTs,\n",
    "    value=RGTs[1], # You can change this with the pull-down widget below!\n",
    "    description=\"RGT:\",\n",
    "    description_tooltip=\"RGT: Reference Ground Track to plot\",\n",
    "    disabled=False\n",
    ")\n",
    "\n",
    "# selection for ground track\n",
    "ground_track_options = [\"gt1l\",\"gt1r\",\"gt2l\",\"gt2r\",\"gt3l\",\"gt3r\"]\n",
    "SRwidgets.ground_track = widgets.Dropdown(\n",
    "    options=ground_track_options,\n",
    "    value='gt1l',\n",
    "    description=\"Track:\",\n",
    "    description_tooltip=\"Track: Ground Track to plot\",\n",
    "    disabled=False\n",
    ")      \n",
    "widgets.VBox([\n",
    "    SRwidgets.rgt,\n",
    "    SRwidgets.ground_track,\n",
    "])"
   ]
  },
  {
   "cell_type": "code",
   "execution_count": 19,
   "id": "2f6a8c95",
   "metadata": {},
   "outputs": [],
   "source": [
    "gdf.index = gdf.index.astype(str)"
   ]
  },
  {
   "cell_type": "code",
   "execution_count": 17,
   "id": "3dac52da",
   "metadata": {},
   "outputs": [
    {
     "data": {
      "text/plain": [
       "RangeIndex(start=0, stop=136513, step=1)"
      ]
     },
     "execution_count": 17,
     "metadata": {},
     "output_type": "execute_result"
    }
   ],
   "source": [
    "gdf2.index"
   ]
  },
  {
   "cell_type": "code",
   "execution_count": 13,
   "id": "1825ac89",
   "metadata": {},
   "outputs": [
    {
     "name": "stdout",
     "output_type": "stream",
     "text": [
      "/Users/Hannah/Documents/Documents_Grad/Research/IDS_statewide/SlideRule_methow/notebooks\n"
     ]
    }
   ],
   "source": [
    "!pwd"
   ]
  },
  {
   "cell_type": "code",
   "execution_count": 13,
   "id": "8fb1d331",
   "metadata": {},
   "outputs": [],
   "source": [
    "gdf.to_file('methow_all_sr-atl06_03302022.geojson', driver='GeoJSON')"
   ]
  },
  {
   "cell_type": "code",
   "execution_count": 14,
   "id": "2172543c-580d-4de0-a305-343905243d2d",
   "metadata": {},
   "outputs": [],
   "source": [
    "gdf2 = gpd.read_file('../data/methow_all_sr-atl06_03302022.geojson')"
   ]
  },
  {
   "cell_type": "code",
   "execution_count": 15,
   "id": "c45b223d-3d5d-4767-92c4-be6366ccbd89",
   "metadata": {},
   "outputs": [
    {
     "data": {
      "text/html": [
       "<div>\n",
       "<style scoped>\n",
       "    .dataframe tbody tr th:only-of-type {\n",
       "        vertical-align: middle;\n",
       "    }\n",
       "\n",
       "    .dataframe tbody tr th {\n",
       "        vertical-align: top;\n",
       "    }\n",
       "\n",
       "    .dataframe thead th {\n",
       "        text-align: right;\n",
       "    }\n",
       "</style>\n",
       "<table border=\"1\" class=\"dataframe\">\n",
       "  <thead>\n",
       "    <tr style=\"text-align: right;\">\n",
       "      <th></th>\n",
       "      <th>time</th>\n",
       "      <th>distance</th>\n",
       "      <th>dh_fit_dx</th>\n",
       "      <th>gt</th>\n",
       "      <th>spot</th>\n",
       "      <th>w_surface_window_final</th>\n",
       "      <th>h_mean</th>\n",
       "      <th>dh_fit_dy</th>\n",
       "      <th>n_fit_photons</th>\n",
       "      <th>pflags</th>\n",
       "      <th>cycle</th>\n",
       "      <th>h_sigma</th>\n",
       "      <th>rgt</th>\n",
       "      <th>rms_misfit</th>\n",
       "      <th>delta_time</th>\n",
       "      <th>segment_id</th>\n",
       "      <th>geometry</th>\n",
       "    </tr>\n",
       "  </thead>\n",
       "  <tbody>\n",
       "    <tr>\n",
       "      <th>0</th>\n",
       "      <td>2018-11-09T22:09:43.662998</td>\n",
       "      <td>5.382001e+06</td>\n",
       "      <td>0.367318</td>\n",
       "      <td>20</td>\n",
       "      <td>1</td>\n",
       "      <td>9.386548</td>\n",
       "      <td>774.110259</td>\n",
       "      <td>0.0</td>\n",
       "      <td>41</td>\n",
       "      <td>0</td>\n",
       "      <td>1</td>\n",
       "      <td>0.079705</td>\n",
       "      <td>646</td>\n",
       "      <td>0.506044</td>\n",
       "      <td>2.703658e+07</td>\n",
       "      <td>268398</td>\n",
       "      <td>POINT (-120.00053 48.33917)</td>\n",
       "    </tr>\n",
       "    <tr>\n",
       "      <th>1</th>\n",
       "      <td>2018-11-09T22:09:43.789001</td>\n",
       "      <td>5.382903e+06</td>\n",
       "      <td>0.028568</td>\n",
       "      <td>20</td>\n",
       "      <td>1</td>\n",
       "      <td>3.000000</td>\n",
       "      <td>919.941824</td>\n",
       "      <td>0.0</td>\n",
       "      <td>42</td>\n",
       "      <td>0</td>\n",
       "      <td>1</td>\n",
       "      <td>0.050617</td>\n",
       "      <td>646</td>\n",
       "      <td>0.305572</td>\n",
       "      <td>2.703658e+07</td>\n",
       "      <td>268443</td>\n",
       "      <td>POINT (-120.00167 48.34723)</td>\n",
       "    </tr>\n",
       "    <tr>\n",
       "      <th>2</th>\n",
       "      <td>2018-11-09T22:09:43.794998</td>\n",
       "      <td>5.382943e+06</td>\n",
       "      <td>-0.116342</td>\n",
       "      <td>20</td>\n",
       "      <td>1</td>\n",
       "      <td>3.029108</td>\n",
       "      <td>918.460968</td>\n",
       "      <td>0.0</td>\n",
       "      <td>31</td>\n",
       "      <td>0</td>\n",
       "      <td>1</td>\n",
       "      <td>0.046853</td>\n",
       "      <td>646</td>\n",
       "      <td>0.240537</td>\n",
       "      <td>2.703658e+07</td>\n",
       "      <td>268445</td>\n",
       "      <td>POINT (-120.00172 48.34760)</td>\n",
       "    </tr>\n",
       "    <tr>\n",
       "      <th>3</th>\n",
       "      <td>2018-11-09T22:09:43.798000</td>\n",
       "      <td>5.382963e+06</td>\n",
       "      <td>-0.091024</td>\n",
       "      <td>20</td>\n",
       "      <td>1</td>\n",
       "      <td>3.000000</td>\n",
       "      <td>916.399163</td>\n",
       "      <td>0.0</td>\n",
       "      <td>39</td>\n",
       "      <td>0</td>\n",
       "      <td>1</td>\n",
       "      <td>0.059160</td>\n",
       "      <td>646</td>\n",
       "      <td>0.325805</td>\n",
       "      <td>2.703658e+07</td>\n",
       "      <td>268446</td>\n",
       "      <td>POINT (-120.00174 48.34778)</td>\n",
       "    </tr>\n",
       "    <tr>\n",
       "      <th>4</th>\n",
       "      <td>2018-11-09T22:09:43.799999</td>\n",
       "      <td>5.382983e+06</td>\n",
       "      <td>-0.027886</td>\n",
       "      <td>20</td>\n",
       "      <td>1</td>\n",
       "      <td>3.000000</td>\n",
       "      <td>915.721672</td>\n",
       "      <td>0.0</td>\n",
       "      <td>40</td>\n",
       "      <td>0</td>\n",
       "      <td>1</td>\n",
       "      <td>0.038990</td>\n",
       "      <td>646</td>\n",
       "      <td>0.245902</td>\n",
       "      <td>2.703658e+07</td>\n",
       "      <td>268447</td>\n",
       "      <td>POINT (-120.00177 48.34796)</td>\n",
       "    </tr>\n",
       "  </tbody>\n",
       "</table>\n",
       "</div>"
      ],
      "text/plain": [
       "                         time      distance  dh_fit_dx  gt  spot  \\\n",
       "0  2018-11-09T22:09:43.662998  5.382001e+06   0.367318  20     1   \n",
       "1  2018-11-09T22:09:43.789001  5.382903e+06   0.028568  20     1   \n",
       "2  2018-11-09T22:09:43.794998  5.382943e+06  -0.116342  20     1   \n",
       "3  2018-11-09T22:09:43.798000  5.382963e+06  -0.091024  20     1   \n",
       "4  2018-11-09T22:09:43.799999  5.382983e+06  -0.027886  20     1   \n",
       "\n",
       "   w_surface_window_final      h_mean  dh_fit_dy  n_fit_photons  pflags  \\\n",
       "0                9.386548  774.110259        0.0             41       0   \n",
       "1                3.000000  919.941824        0.0             42       0   \n",
       "2                3.029108  918.460968        0.0             31       0   \n",
       "3                3.000000  916.399163        0.0             39       0   \n",
       "4                3.000000  915.721672        0.0             40       0   \n",
       "\n",
       "   cycle   h_sigma  rgt  rms_misfit    delta_time  segment_id  \\\n",
       "0      1  0.079705  646    0.506044  2.703658e+07      268398   \n",
       "1      1  0.050617  646    0.305572  2.703658e+07      268443   \n",
       "2      1  0.046853  646    0.240537  2.703658e+07      268445   \n",
       "3      1  0.059160  646    0.325805  2.703658e+07      268446   \n",
       "4      1  0.038990  646    0.245902  2.703658e+07      268447   \n",
       "\n",
       "                      geometry  \n",
       "0  POINT (-120.00053 48.33917)  \n",
       "1  POINT (-120.00167 48.34723)  \n",
       "2  POINT (-120.00172 48.34760)  \n",
       "3  POINT (-120.00174 48.34778)  \n",
       "4  POINT (-120.00177 48.34796)  "
      ]
     },
     "execution_count": 15,
     "metadata": {},
     "output_type": "execute_result"
    }
   ],
   "source": [
    "gdf2.head()"
   ]
  },
  {
   "cell_type": "code",
   "execution_count": 15,
   "id": "ee482839",
   "metadata": {},
   "outputs": [
    {
     "data": {
      "text/plain": [
       "<AxesSubplot:>"
      ]
     },
     "execution_count": 15,
     "metadata": {},
     "output_type": "execute_result"
    },
    {
     "data": {
      "image/png": "[encoded data removed]",
      "text/plain": [
       "<Figure size 432x288 with 1 Axes>"
      ]
     },
     "metadata": {
      "needs_background": "light"
     },
     "output_type": "display_data"
    }
   ],
   "source": [
    "fig, ax = plt.subplots()\n",
    "gdf.plot(ax=ax)\n",
    "polygon_gdf.plot(ax=ax)"
   ]
  },
  {
   "cell_type": "code",
   "execution_count": null,
   "id": "54a8ed62",
   "metadata": {},
   "outputs": [],
   "source": []
  },
  {
   "cell_type": "code",
   "execution_count": null,
   "id": "9a49d2fc",
   "metadata": {},
   "outputs": [],
   "source": []
  }
 ],
 "metadata": {
  "kernelspec": {
   "display_name": "Python 3 (ipykernel)",
   "language": "python",
   "name": "python3"
  },
  "language_info": {
   "codemirror_mode": {
    "name": "ipython",
    "version": 3
   },
   "file_extension": ".py",
   "mimetype": "text/x-python",
   "name": "python",
   "nbconvert_exporter": "python",
   "pygments_lexer": "ipython3",
   "version": "3.8.13"
  }
 },
 "nbformat": 4,
 "nbformat_minor": 5
}
